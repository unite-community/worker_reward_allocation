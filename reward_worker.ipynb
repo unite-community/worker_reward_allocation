{
 "cells": [
  {
   "cell_type": "code",
   "execution_count": 1,
   "metadata": {
    "ExecuteTime": {
     "end_time": "2020-12-05T16:01:11.434492Z",
     "start_time": "2020-12-05T16:01:10.565264Z"
    }
   },
   "outputs": [
    {
     "name": "stderr",
     "output_type": "stream",
     "text": [
      "Consider installing rusty-rlp to improve pyrlp performance with a rust based backend\n"
     ]
    },
    {
     "name": "stdout",
     "output_type": "stream",
     "text": [
      "Connected to infura: https://kovan.infura.io/v3/1070d8486bc64afdb9c730d6f2850d6c\n"
     ]
    }
   ],
   "source": [
    "import base64\n",
    "import mysql.connector as mysql\n",
    "import datetime\n",
    "import pandas as pd\n",
    "import time\n",
    "\n",
    "import json\n",
    "from web3 import Web3 # https://web3py.readthedocs.io/en/stable/contracts.html#contract-functions\n",
    "\n",
    "#######\n",
    "## INIT\n",
    "#######\n",
    "\n",
    "# load api key\n",
    "secret = {}\n",
    "with open('secret_staging.txt') as f:\n",
    "    lines = f.readlines()\n",
    "    for line in lines:\n",
    "        secret[line.split(\"=\")[0]] = line.split(\"=\")[1].replace(\"\\n\",\"\")\n",
    "\n",
    "# init web3\n",
    "infura_url = secret['INFURAURL1']\n",
    "web3 = Web3(Web3.HTTPProvider(infura_url))\n",
    "print(f\"Connected to infura: {infura_url}\")\n",
    "\n",
    "# load abi\n",
    "with open('abi.json') as f:\n",
    "    abi = json.load(f)\n",
    "\n",
    "# load bytecode\n",
    "with open('bytecode.txt', 'r') as file:\n",
    "    bytecode = file.read().replace('\\n', '')\n",
    "\n",
    "# load contract address\n",
    "contract_address = secret['CONTRACTADDRESS']"
   ]
  },
  {
   "cell_type": "code",
   "execution_count": 2,
   "metadata": {
    "ExecuteTime": {
     "end_time": "2020-12-05T16:01:25.674175Z",
     "start_time": "2020-12-05T16:01:23.740017Z"
    }
   },
   "outputs": [],
   "source": [
    "###########################\n",
    "## GET USER:WALLET MAPPINGS\n",
    "###########################\n",
    "\n",
    "# convert rewards pending twitter handles to wallet ids\n",
    "db = mysql.connect(host=secret['DBHOST'],user=secret['DBUSER'],passwd=secret['DBPASS'],database=secret['DBTABLE'])\n",
    "cursor = db.cursor()\n",
    "query = f'SELECT twitter_handle, ethereum_address FROM users;'\n",
    "cursor.execute(query)\n",
    "records = cursor.fetchall()\n",
    "cursor.close()\n",
    "db.close()\n",
    "# convert to dataframe\n",
    "users = []\n",
    "for record in records:\n",
    "    users.append(dict(zip(['twitter_handle', 'ethereum_address'], record)))\n",
    "# convert to dataframe and lowercase handle\n",
    "users = pd.DataFrame(users)\n",
    "users['twitter_handle'] = users['twitter_handle'].str.lower()\n",
    "\n",
    "# create dicts\n",
    "user_wallets = dict(zip(list(users['twitter_handle']), users['ethereum_address']))\n",
    "wallets_users = dict(zip(list(users['ethereum_address']), users['twitter_handle']))\n",
    "\n",
    "# create list\n",
    "user_list = list(user_wallets.keys())"
   ]
  },
  {
   "cell_type": "code",
   "execution_count": 3,
   "metadata": {
    "ExecuteTime": {
     "end_time": "2020-12-05T16:01:33.569080Z",
     "start_time": "2020-12-05T16:01:26.723440Z"
    }
   },
   "outputs": [
    {
     "name": "stdout",
     "output_type": "stream",
     "text": [
      "3 campaigns found\n",
      "campaign #2 has 2 rewards claimed, 0 remaining\n",
      "campaign #3 has 2 rewards claimed, 0 remaining\n",
      "campaign #4 has 1 rewards claimed, 99 remaining\n",
      "1 active campaigns found\n"
     ]
    }
   ],
   "source": [
    "#######################\n",
    "## GET ACTIVE CAMPAIGNS\n",
    "#######################\n",
    "\n",
    "# get all campaigns with twitter handle so we can get twitter link\n",
    "db = mysql.connect(host=secret['DBHOST'],user=secret['DBUSER'],passwd=secret['DBPASS'],database=secret['DBTABLE'])\n",
    "cursor = db.cursor()\n",
    "query = f'SELECT campaign_id, manager_ethereum_address, maximum_rewards, campaign_type, twitter_status_id FROM campaigns;'\n",
    "cursor.execute(query)\n",
    "records = cursor.fetchall()\n",
    "print(f\"{len(records)} campaigns found\")\n",
    "cursor.close()\n",
    "db.close()\n",
    "\n",
    "columns = ['campaign_id', 'manager_ethereum_address', 'maximum_rewards', 'campaign_type', 'twitter_status_id']\n",
    "\n",
    "campaigns = []\n",
    "for record in records:\n",
    "    res = dict(zip(columns, record))\n",
    "\n",
    "    # check how many rewards claimed for this campaign\n",
    "    db = mysql.connect(host=secret['DBHOST'], user=secret['DBUSER'], passwd=secret['DBPASS'], database=secret['DBTABLE'])\n",
    "    cursor = db.cursor()\n",
    "    manager_ethereum_address = res['manager_ethereum_address']\n",
    "    campaign_id = res['campaign_id']\n",
    "    query = f'SELECT * FROM rewards where campaign_id = \"{campaign_id}\" and manager_ethereum_address = \"{manager_ethereum_address}\";'\n",
    "    cursor.execute(query)\n",
    "    records_rewards = cursor.fetchall()\n",
    "    print(f\"campaign #{res['campaign_id']} has {len(records_rewards)} rewards claimed, {res['maximum_rewards'] - len(records_rewards)} remaining\")\n",
    "    cursor.close()\n",
    "    db.close()\n",
    "\n",
    "    # calculate rewards remaining\n",
    "    res['rewards_remaining'] = res['maximum_rewards'] - len(records_rewards)\n",
    "\n",
    "    # only keep active campaigns\n",
    "    if res['rewards_remaining'] > 0:\n",
    "        campaigns.append(res)\n",
    "\n",
    "print(f\"{len(campaigns)} active campaigns found\")"
   ]
  },
  {
   "cell_type": "code",
   "execution_count": 4,
   "metadata": {
    "ExecuteTime": {
     "end_time": "2020-12-05T16:01:33.618880Z",
     "start_time": "2020-12-05T16:01:33.608343Z"
    }
   },
   "outputs": [
    {
     "data": {
      "text/plain": [
       "{'campaign_id': 4,\n",
       " 'manager_ethereum_address': '0xe3f201d68B473c89b3D82eA9c9b0E951DB7345A8',\n",
       " 'maximum_rewards': 100,\n",
       " 'campaign_type': 'rtf',\n",
       " 'twitter_status_id': '1332298325631045633',\n",
       " 'rewards_remaining': 99}"
      ]
     },
     "execution_count": 4,
     "metadata": {},
     "output_type": "execute_result"
    }
   ],
   "source": [
    "campaigns[0]"
   ]
  },
  {
   "cell_type": "code",
   "execution_count": 5,
   "metadata": {
    "ExecuteTime": {
     "end_time": "2020-12-05T16:01:57.829472Z",
     "start_time": "2020-12-05T16:01:57.824809Z"
    }
   },
   "outputs": [
    {
     "name": "stdout",
     "output_type": "stream",
     "text": [
      "Begin rewards process for campaign 4\n"
     ]
    }
   ],
   "source": [
    "#################################################\n",
    "### WRITE TO REWARDS TABLE BASED ON TWITTER TABLE\n",
    "#################################################\n",
    "\n",
    "# for campaign in campaigns:\n",
    "campaign = campaigns[0]\n",
    "print(f\"Begin rewards process for campaign {campaign_id}\")"
   ]
  },
  {
   "cell_type": "code",
   "execution_count": 6,
   "metadata": {
    "ExecuteTime": {
     "end_time": "2020-12-05T16:02:02.127124Z",
     "start_time": "2020-12-05T16:02:00.411538Z"
    }
   },
   "outputs": [],
   "source": [
    "###########################\n",
    "### GET TWEETS FOR CAMPAIGN\n",
    "###########################\n",
    "\n",
    "# get tweets for this campaign\n",
    "db = mysql.connect(host=secret['DBHOST'],user=secret['DBUSER'],passwd=secret['DBPASS'],database=secret['DBTABLE'])\n",
    "cursor = db.cursor()\n",
    "query = f'SELECT id, tweet_id, referenced_tweet_id, twitter_handle, author_id, created_at, following, following_processed FROM twitter where referenced_tweet_id = \"{campaign[\"twitter_status_id\"]}\";'\n",
    "cursor.execute(query)\n",
    "records_tweets = cursor.fetchall()\n",
    "cursor.close()\n",
    "db.close()\n",
    "#\n",
    "tweets = []\n",
    "for record in records_tweets:\n",
    "    tweets.append(dict(zip(['id', 'tweet_id', 'referenced_tweet_id', 'twitter_handle', 'author_id', 'created_at', 'following', 'following_processed'], record)))\n",
    "tweets = pd.DataFrame(tweets)\n",
    "\n",
    "# subset to only users who are following if campaign is rtf\n",
    "if campaign['campaign_type'] == 'rtf':\n",
    "    tweets = tweets[tweets['following'] == 1]\n",
    "\n",
    "tweet_handles = list(tweets['twitter_handle'].unique())\n",
    "tweet_handles = [h.lower() for h in tweet_handles]"
   ]
  },
  {
   "cell_type": "code",
   "execution_count": null,
   "metadata": {},
   "outputs": [],
   "source": [
    "##########################\n",
    "### WORK OUT WHO TO REWARD\n",
    "##########################\n",
    "\n",
    "# get all rewards for this campaign as dataframe\n",
    "db = mysql.connect(host=secret['DBHOST'],user=secret['DBUSER'],passwd=secret['DBPASS'],database=secret['DBTABLE'])\n",
    "cursor = db.cursor()\n",
    "manager_ethereum_address = campaign['manager_ethereum_address']\n",
    "campaign_id = campaign['campaign_id']\n",
    "query = f'SELECT id, campaign_id, twitter_handle, blockchain_write_time FROM rewards where campaign_id = \"{campaign_id}\" and manager_ethereum_address = \"{manager_ethereum_address}\";'\n",
    "cursor.execute(query)\n",
    "records_rewards = cursor.fetchall()\n",
    "cursor.close()\n",
    "db.close()\n",
    "# convert to dataframe\n",
    "rewards = []\n",
    "for record in records_rewards:\n",
    "    rewards.append(dict(zip(['id', 'campaign_id', 'twitter_handle', 'blockchain_write_time'], record)))\n",
    "df = pd.DataFrame(rewards)\n",
    "\n",
    "# get list of handles already rewarded for this campaign\n",
    "handles = []\n",
    "if len(df) > 0:\n",
    "    handles = list(df['twitter_handle'].unique())\n",
    "    handles = [h.lower() for h in handles]\n",
    "\n",
    "# going to decrement rewards remaining as they're assigned\n",
    "rewards_remaining = campaign['rewards_remaining']\n",
    "\n",
    "# loop over handles and check who to reward\n",
    "for i, handle in enumerate(tweet_handles):\n",
    "    print(f\"{i+1} / {len(tweets)} checking if {handle} already rewarded\")\n",
    "\n",
    "    # user must be \"registered\"\n",
    "    if handle in user_list:\n",
    "        # campaign must have rewards left\n",
    "        if rewards_remaining > 0:\n",
    "            if 'twitter_handle' in list(df.columns) and handle in handles:\n",
    "                print(f\"  # {handle} already rewarded\")\n",
    "            else:\n",
    "                print(f\"  # {handle} needs rewards\")\n",
    "                # write rewards to database (with null blockchainwritetime)\n",
    "                db = mysql.connect(host=secret['DBHOST'],user=secret['DBUSER'],passwd=secret['DBPASS'],database=secret['DBTABLE'])\n",
    "                cursor = db.cursor()\n",
    "                query = \"INSERT INTO rewards (campaign_id, twitter_handle, manager_ethereum_address) VALUES (%s, %s, %s);\"\n",
    "                values = (campaign['campaign_id'], handle, campaign['manager_ethereum_address'])\n",
    "                cursor.execute(query, values)\n",
    "                db.commit()\n",
    "                print(cursor.rowcount, \"record inserted\")\n",
    "                cursor.close()\n",
    "                db.close()\n",
    "\n",
    "                rewards_remaining -= 1\n",
    "        else:\n",
    "            print(\"Rewards exceeded for campaign\")\n",
    "            break\n",
    "    else:\n",
    "        print(f\"  # User {handle} not registered\")"
   ]
  }
 ],
 "metadata": {
  "kernelspec": {
   "display_name": "Python 3",
   "language": "python",
   "name": "python3"
  },
  "language_info": {
   "codemirror_mode": {
    "name": "ipython",
    "version": 3
   },
   "file_extension": ".py",
   "mimetype": "text/x-python",
   "name": "python",
   "nbconvert_exporter": "python",
   "pygments_lexer": "ipython3",
   "version": "3.7.7"
  },
  "varInspector": {
   "cols": {
    "lenName": 16,
    "lenType": 16,
    "lenVar": 40
   },
   "kernels_config": {
    "python": {
     "delete_cmd_postfix": "",
     "delete_cmd_prefix": "del ",
     "library": "var_list.py",
     "varRefreshCmd": "print(var_dic_list())"
    },
    "r": {
     "delete_cmd_postfix": ") ",
     "delete_cmd_prefix": "rm(",
     "library": "var_list.r",
     "varRefreshCmd": "cat(var_dic_list()) "
    }
   },
   "types_to_exclude": [
    "module",
    "function",
    "builtin_function_or_method",
    "instance",
    "_Feature"
   ],
   "window_display": false
  }
 },
 "nbformat": 4,
 "nbformat_minor": 4
}
