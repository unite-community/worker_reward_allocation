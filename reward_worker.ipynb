{
 "cells": [
  {
   "cell_type": "code",
   "execution_count": 2,
   "metadata": {
    "ExecuteTime": {
     "end_time": "2020-12-21T19:27:12.928792Z",
     "start_time": "2020-12-21T19:27:10.338795Z"
    }
   },
   "outputs": [
    {
     "name": "stderr",
     "output_type": "stream",
     "text": [
      "Consider installing rusty-rlp to improve pyrlp performance with a rust based backend\n"
     ]
    },
    {
     "name": "stdout",
     "output_type": "stream",
     "text": [
      "Connected to infura: https://mainnet.infura.io/v3/1070d8486bc64afdb9c730d6f2850d6c\n"
     ]
    }
   ],
   "source": [
    "import base64\n",
    "import mysql.connector as mysql\n",
    "import datetime\n",
    "import pandas as pd\n",
    "import time\n",
    "\n",
    "import json\n",
    "from web3 import Web3 # https://web3py.readthedocs.io/en/stable/contracts.html#contract-functions\n",
    "\n",
    "#######\n",
    "## INIT\n",
    "#######\n",
    "\n",
    "# load api key\n",
    "secret = {}\n",
    "with open('secret.txt') as f:\n",
    "    lines = f.readlines()\n",
    "    for line in lines:\n",
    "        secret[line.split(\"=\")[0]] = line.split(\"=\")[1].replace(\"\\n\",\"\")\n",
    "\n",
    "# init web3\n",
    "infura_url = secret['INFURAURL1']\n",
    "web3 = Web3(Web3.HTTPProvider(infura_url))\n",
    "print(f\"Connected to infura: {infura_url}\")\n",
    "\n",
    "# load abi\n",
    "with open('abi.json') as f:\n",
    "    abi = json.load(f)\n",
    "\n",
    "# load bytecode\n",
    "with open('bytecode.txt', 'r') as file:\n",
    "    bytecode = file.read().replace('\\n', '')\n",
    "\n",
    "# load contract address\n",
    "contract_address = secret['CONTRACTADDRESS']"
   ]
  },
  {
   "cell_type": "code",
   "execution_count": 14,
   "metadata": {
    "ExecuteTime": {
     "end_time": "2020-12-21T19:35:37.707475Z",
     "start_time": "2020-12-21T19:35:35.935284Z"
    }
   },
   "outputs": [],
   "source": [
    "##################\n",
    "## FETCH BLACKLIST\n",
    "##################\n",
    "\n",
    "db = mysql.connect(host=secret['DBHOST'],user=secret['DBUSER'],passwd=secret['DBPASS'],database=secret['DBTABLE'])\n",
    "cursor = db.cursor()\n",
    "query = f'SELECT twitter_username FROM blacklist;'\n",
    "cursor.execute(query)\n",
    "records = cursor.fetchall()\n",
    "cursor.close()\n",
    "db.close()\n",
    "blacklist_db = []\n",
    "for record in records:\n",
    "    blacklist_db.append(record[0])"
   ]
  },
  {
   "cell_type": "code",
   "execution_count": 9,
   "metadata": {
    "ExecuteTime": {
     "end_time": "2020-12-21T19:31:27.476020Z",
     "start_time": "2020-12-21T19:31:25.193976Z"
    }
   },
   "outputs": [],
   "source": [
    "###########################\n",
    "## GET USER:WALLET MAPPINGS\n",
    "###########################\n",
    "\n",
    "# convert rewards pending twitter handles to wallet ids\n",
    "db = mysql.connect(host=secret['DBHOST'],user=secret['DBUSER'],passwd=secret['DBPASS'],database=secret['DBTABLE'])\n",
    "cursor = db.cursor()\n",
    "query = f'SELECT twitter_handle, ethereum_address FROM users;'\n",
    "cursor.execute(query)\n",
    "records = cursor.fetchall()\n",
    "cursor.close()\n",
    "db.close()\n",
    "# convert to dataframe\n",
    "users = []\n",
    "for record in records:\n",
    "    users.append(dict(zip(['twitter_handle', 'ethereum_address'], record)))\n",
    "# convert to dataframe and lowercase handle\n",
    "users = pd.DataFrame(users)\n",
    "users['twitter_handle'] = users['twitter_handle'].str.lower()\n",
    "\n",
    "# create dicts\n",
    "user_wallets = dict(zip(list(users['twitter_handle']), users['ethereum_address']))\n",
    "wallets_users = dict(zip(list(users['ethereum_address']), users['twitter_handle']))\n",
    "\n",
    "# create list\n",
    "user_list = list(user_wallets.keys())"
   ]
  },
  {
   "cell_type": "code",
   "execution_count": 10,
   "metadata": {
    "ExecuteTime": {
     "end_time": "2020-12-21T19:31:43.620410Z",
     "start_time": "2020-12-21T19:31:27.507083Z"
    }
   },
   "outputs": [
    {
     "name": "stdout",
     "output_type": "stream",
     "text": [
      "8 campaigns found\n",
      "campaign #1 has 76 rewards claimed, 328 remaining\n",
      "campaign #2 has 1 rewards claimed, 0 remaining\n",
      "campaign #1 has 22 rewards claimed, 3 remaining\n",
      "campaign #2 has 52 rewards claimed, 48 remaining\n",
      "campaign #1 has 26 rewards claimed, 224 remaining\n",
      "campaign #1 has 4 rewards claimed, 46 remaining\n",
      "campaign #1 has 20 rewards claimed, 60 remaining\n",
      "campaign #3 has 1 rewards claimed, 1 remaining\n",
      "7 active campaigns found\n"
     ]
    }
   ],
   "source": [
    "#######################\n",
    "## GET ACTIVE CAMPAIGNS\n",
    "#######################\n",
    "\n",
    "# get all campaigns with twitter handle so we can get twitter link\n",
    "db = mysql.connect(host=secret['DBHOST'],user=secret['DBUSER'],passwd=secret['DBPASS'],database=secret['DBTABLE'])\n",
    "cursor = db.cursor()\n",
    "query = f'SELECT campaign_id, manager_ethereum_address, maximum_rewards, campaign_type, twitter_status_id FROM campaigns;'\n",
    "cursor.execute(query)\n",
    "records = cursor.fetchall()\n",
    "print(f\"{len(records)} campaigns found\")\n",
    "cursor.close()\n",
    "db.close()\n",
    "\n",
    "columns = ['campaign_id', 'manager_ethereum_address', 'maximum_rewards', 'campaign_type', 'twitter_status_id']\n",
    "\n",
    "campaigns = []\n",
    "for record in records:\n",
    "    res = dict(zip(columns, record))\n",
    "\n",
    "    # check how many rewards claimed for this campaign\n",
    "    db = mysql.connect(host=secret['DBHOST'], user=secret['DBUSER'], passwd=secret['DBPASS'], database=secret['DBTABLE'])\n",
    "    cursor = db.cursor()\n",
    "    manager_ethereum_address = res['manager_ethereum_address']\n",
    "    campaign_id = res['campaign_id']\n",
    "    query = f'SELECT * FROM rewards where campaign_id = \"{campaign_id}\" and manager_ethereum_address = \"{manager_ethereum_address}\";'\n",
    "    cursor.execute(query)\n",
    "    records_rewards = cursor.fetchall()\n",
    "    print(f\"campaign #{res['campaign_id']} has {len(records_rewards)} rewards claimed, {res['maximum_rewards'] - len(records_rewards)} remaining\")\n",
    "    cursor.close()\n",
    "    db.close()\n",
    "\n",
    "    # calculate rewards remaining\n",
    "    res['rewards_remaining'] = res['maximum_rewards'] - len(records_rewards)\n",
    "\n",
    "    # only keep active campaigns\n",
    "    if res['rewards_remaining'] > 0:\n",
    "        campaigns.append(res)\n",
    "\n",
    "print(f\"{len(campaigns)} active campaigns found\")"
   ]
  },
  {
   "cell_type": "code",
   "execution_count": null,
   "metadata": {},
   "outputs": [],
   "source": []
  },
  {
   "cell_type": "code",
   "execution_count": null,
   "metadata": {},
   "outputs": [],
   "source": []
  },
  {
   "cell_type": "code",
   "execution_count": 21,
   "metadata": {
    "ExecuteTime": {
     "end_time": "2020-12-21T19:37:37.637944Z",
     "start_time": "2020-12-21T19:37:37.605153Z"
    }
   },
   "outputs": [],
   "source": [
    "campaign = campaigns[-1]"
   ]
  },
  {
   "cell_type": "code",
   "execution_count": null,
   "metadata": {},
   "outputs": [],
   "source": [
    "#################################################\n",
    "### WRITE TO REWARDS TABLE BASED ON TWITTER TABLE\n",
    "#################################################\n",
    "\n",
    "for campaign in campaigns:\n",
    "    print(f\"Begin rewards process for campaign {campaign_id}\")\n",
    "\n",
    "    ################\n",
    "    ## GET WHITELIST\n",
    "    ################\n",
    "\n",
    "    db = mysql.connect(host=secret['DBHOST'],user=secret['DBUSER'],passwd=secret['DBPASS'],database=secret['DBTABLE'])\n",
    "    cursor = db.cursor()\n",
    "    query = f'SELECT twitter_username FROM whitelist WHERE campaign_id = %s AND manager_ethereum_address = %s;'\n",
    "    values = (campaign['campaign_id'], campaign['manager_ethereum_address'])\n",
    "    cursor.execute(query, values)\n",
    "    records = cursor.fetchall()\n",
    "    cursor.close()\n",
    "    db.close()\n",
    "    whitelist = []\n",
    "    for record in records:\n",
    "        whitelist.append(record[0])\n",
    "    \n",
    "    has_whitelist = False\n",
    "    if len(whitelist)>0:\n",
    "        has_whitelist = True\n",
    "        print(f\"campaign has whitelist with {len(whitelist)} whitelisted users (id: {campaign['campaign_id']}, manager_ethereum_address: {campaign['manager_ethereum_address']})\")\n",
    "\n",
    "\n",
    "    ###########################\n",
    "    ### GET TWEETS FOR CAMPAIGN\n",
    "    ###########################\n",
    "\n",
    "    # get tweets for this campaign\n",
    "    db = mysql.connect(host=secret['DBHOST'],user=secret['DBUSER'],passwd=secret['DBPASS'],database=secret['DBTABLE'])\n",
    "    cursor = db.cursor()\n",
    "    query = f'SELECT id, tweet_id, referenced_tweet_id, twitter_handle, author_id, created_at, following, following_processed FROM twitter where referenced_tweet_id = \"{campaign[\"twitter_status_id\"]}\";'\n",
    "    cursor.execute(query)\n",
    "    records_tweets = cursor.fetchall()\n",
    "    cursor.close()\n",
    "    db.close()\n",
    "    #\n",
    "    tweets = []\n",
    "    for record in records_tweets:\n",
    "        tweets.append(dict(zip(['id', 'tweet_id', 'referenced_tweet_id', 'twitter_handle', 'author_id', 'created_at', 'following', 'following_processed'], record)))\n",
    "    tweets = pd.DataFrame(tweets)\n",
    "\n",
    "    # subset to only users who are following if campaign is rtf\n",
    "    if campaign['campaign_type'] == 'rtf': \n",
    "        print(\"Campaign is RTF - subsetting out non-following users\")\n",
    "        tweets = tweets[tweets['following'] == 1]\n",
    "    tweet_handles = list(tweets['twitter_handle'].unique())\n",
    "    tweet_handles = [h.lower() for h in tweet_handles]\n",
    "\n",
    "\n",
    "    ##########################\n",
    "    ### WORK OUT WHO TO REWARD\n",
    "    ##########################\n",
    "\n",
    "    # get all rewards for this campaign as dataframe\n",
    "    db = mysql.connect(host=secret['DBHOST'],user=secret['DBUSER'],passwd=secret['DBPASS'],database=secret['DBTABLE'])\n",
    "    cursor = db.cursor()\n",
    "    manager_ethereum_address = campaign['manager_ethereum_address']\n",
    "    campaign_id = campaign['campaign_id']\n",
    "    query = f'SELECT id, campaign_id, twitter_handle, blockchain_write_time FROM rewards where campaign_id = \"{campaign_id}\" and manager_ethereum_address = \"{manager_ethereum_address}\";'\n",
    "    cursor.execute(query)\n",
    "    records_rewards = cursor.fetchall()\n",
    "    cursor.close()\n",
    "    db.close()\n",
    "    # convert to dataframe\n",
    "    rewards = []\n",
    "    for record in records_rewards:\n",
    "        rewards.append(dict(zip(['id', 'campaign_id', 'twitter_handle', 'blockchain_write_time'], record)))\n",
    "    df = pd.DataFrame(rewards)\n",
    "\n",
    "    # get list of handles already rewarded for this campaign\n",
    "    handles = []\n",
    "    if len(df) > 0:\n",
    "        handles = list(df['twitter_handle'].unique())\n",
    "        handles = [h.lower() for h in handles]\n",
    "\n",
    "    # going to decrement rewards remaining as they're assigned\n",
    "    rewards_remaining = campaign['rewards_remaining']\n",
    "\n",
    "    # loop over handles and check who to reward\n",
    "    for i, handle in enumerate(tweet_handles):\n",
    "        print(f\"{i+1} / {len(tweets)} checking if {handle} already rewarded\")\n",
    "\n",
    "        # user must be \"registered\" and not blacklisted\n",
    "        if handle not in blacklist_db:\n",
    "            if handle in user_list:\n",
    "                # campaign must have rewards left\n",
    "                if rewards_remaining > 0:\n",
    "                    if 'twitter_handle' in list(df.columns) and handle in handles:\n",
    "                        print(f\"  # {handle} already rewarded\")\n",
    "                    else:\n",
    "                        print(f\"  # {handle} needs rewards\")\n",
    "                        \n",
    "                        # check whitelist\n",
    "                        reward_user = True\n",
    "                        if has_whitelist and handle not in whitelist:\n",
    "                            reward_user = False\n",
    "                        \n",
    "                        if reward_user:\n",
    "                            # write rewards to database (with null blockchainwritetime)\n",
    "                            db = mysql.connect(host=secret['DBHOST'],user=secret['DBUSER'],passwd=secret['DBPASS'],database=secret['DBTABLE'])\n",
    "                            cursor = db.cursor()\n",
    "                            query = \"INSERT INTO rewards (campaign_id, twitter_handle, manager_ethereum_address) VALUES (%s, %s, %s);\"\n",
    "                            values = (campaign['campaign_id'], handle, campaign['manager_ethereum_address'])\n",
    "                            cursor.execute(query, values)\n",
    "                            db.commit()\n",
    "                            print(cursor.rowcount, \"record inserted\")\n",
    "                            cursor.close()\n",
    "                            db.close()\n",
    "\n",
    "                            rewards_remaining -= 1\n",
    "                else:\n",
    "                    print(\"Rewards exceeded for campaign\")\n",
    "                    break\n",
    "            else:\n",
    "                print(f\"  # User {handle} not registered\")\n",
    "        else:\n",
    "            print(f\"  # User {handle} blacklisted\")\n",
    "\n",
    "\n",
    "# update next run to 15 seconds from now\n",
    "nextrun15seconds = now + datetime.timedelta(seconds=15)\n",
    "\n",
    "print(f'{now} NEXT 15sec RUN: {nextrun15seconds}')\n",
    "\n",
    "except Exception as e:\n",
    "print(\"ERROR\")\n",
    "print(e)\n",
    "else:\n",
    "print(f\"{now} sleeping 15 seconds\")\n",
    "time.sleep(15)"
   ]
  }
 ],
 "metadata": {
  "kernelspec": {
   "display_name": "Python 3",
   "language": "python",
   "name": "python3"
  },
  "language_info": {
   "codemirror_mode": {
    "name": "ipython",
    "version": 3
   },
   "file_extension": ".py",
   "mimetype": "text/x-python",
   "name": "python",
   "nbconvert_exporter": "python",
   "pygments_lexer": "ipython3",
   "version": "3.7.7"
  },
  "varInspector": {
   "cols": {
    "lenName": 16,
    "lenType": 16,
    "lenVar": 40
   },
   "kernels_config": {
    "python": {
     "delete_cmd_postfix": "",
     "delete_cmd_prefix": "del ",
     "library": "var_list.py",
     "varRefreshCmd": "print(var_dic_list())"
    },
    "r": {
     "delete_cmd_postfix": ") ",
     "delete_cmd_prefix": "rm(",
     "library": "var_list.r",
     "varRefreshCmd": "cat(var_dic_list()) "
    }
   },
   "types_to_exclude": [
    "module",
    "function",
    "builtin_function_or_method",
    "instance",
    "_Feature"
   ],
   "window_display": false
  }
 },
 "nbformat": 4,
 "nbformat_minor": 4
}
