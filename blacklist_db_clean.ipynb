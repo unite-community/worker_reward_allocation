{
 "cells": [
  {
   "cell_type": "code",
   "execution_count": null,
   "metadata": {
    "ExecuteTime": {
     "end_time": "2020-12-21T08:03:55.410240Z",
     "start_time": "2020-12-21T08:03:54.457291Z"
    }
   },
   "outputs": [],
   "source": [
    "import base64\n",
    "import mysql.connector as mysql\n",
    "import datetime\n",
    "import pandas as pd\n",
    "import time\n",
    "\n",
    "#######\n",
    "## INIT\n",
    "#######\n",
    "\n",
    "# load api key\n",
    "secret = {}\n",
    "with open('secret.txt') as f:\n",
    "    lines = f.readlines()\n",
    "    for line in lines:\n",
    "        secret[line.split(\"=\")[0]] = line.split(\"=\")[1].replace(\"\\n\",\"\")"
   ]
  },
  {
   "cell_type": "markdown",
   "metadata": {},
   "source": [
    "# Load blacklist"
   ]
  },
  {
   "cell_type": "code",
   "execution_count": null,
   "metadata": {
    "ExecuteTime": {
     "end_time": "2020-12-21T08:03:55.459508Z",
     "start_time": "2020-12-21T08:03:55.438290Z"
    }
   },
   "outputs": [],
   "source": [
    "blacklist = pd.read_csv('blacklist.csv', header=None, names=['handle'])\n",
    "blacklist.drop_duplicates(inplace=True)\n",
    "blacklist.shape"
   ]
  },
  {
   "cell_type": "code",
   "execution_count": null,
   "metadata": {
    "ExecuteTime": {
     "end_time": "2020-12-21T08:03:56.424579Z",
     "start_time": "2020-12-21T08:03:56.417457Z"
    }
   },
   "outputs": [],
   "source": [
    "blacklist = blacklist['handle'].tolist()"
   ]
  },
  {
   "cell_type": "markdown",
   "metadata": {},
   "source": [
    "# Update blacklist table"
   ]
  },
  {
   "cell_type": "markdown",
   "metadata": {},
   "source": [
    "## select rows already in blacklist"
   ]
  },
  {
   "cell_type": "code",
   "execution_count": null,
   "metadata": {
    "ExecuteTime": {
     "end_time": "2020-12-21T08:04:11.923126Z",
     "start_time": "2020-12-21T08:04:10.101339Z"
    }
   },
   "outputs": [],
   "source": [
    "db = mysql.connect(host=secret['DBHOST'],user=secret['DBUSER'],passwd=secret['DBPASS'],database=secret['DBTABLE'])\n",
    "cursor = db.cursor()\n",
    "query = f'SELECT twitter_username FROM blacklist;'\n",
    "cursor.execute(query)\n",
    "records_rewards = cursor.fetchall()\n",
    "cursor.close()\n",
    "db.close()\n",
    "# convert to dataframe\n",
    "blacklist_db = []\n",
    "for record in records_rewards:\n",
    "    blacklist_db.append(record[0])"
   ]
  },
  {
   "cell_type": "markdown",
   "metadata": {},
   "source": [
    "## write to blacklist table"
   ]
  },
  {
   "cell_type": "code",
   "execution_count": null,
   "metadata": {
    "ExecuteTime": {
     "end_time": "2020-12-21T08:11:29.904457Z",
     "start_time": "2020-12-21T08:07:09.478078Z"
    }
   },
   "outputs": [],
   "source": [
    "for twitter_username in blacklist:\n",
    "    if twitter_username not in blacklist_db:\n",
    "        # write to blacklist table \n",
    "        db = mysql.connect(host=secret['DBHOST'],user=secret['DBUSER'],passwd=secret['DBPASS'],database=secret['DBTABLE'])\n",
    "        cursor = db.cursor()\n",
    "        query = \"INSERT INTO blacklist (twitter_username) VALUES (%s);\"\n",
    "        values = (twitter_username,)\n",
    "        cursor.execute(query, values)\n",
    "        db.commit()\n",
    "        cursor.close()\n",
    "        db.close()  "
   ]
  },
  {
   "cell_type": "markdown",
   "metadata": {},
   "source": [
    "# Remove blacklist users from twitter and rewards tables"
   ]
  },
  {
   "cell_type": "code",
   "execution_count": null,
   "metadata": {
    "ExecuteTime": {
     "end_time": "2020-12-12T20:24:23.546835Z",
     "start_time": "2020-12-12T20:24:17.236798Z"
    }
   },
   "outputs": [],
   "source": [
    "for i, handle in enumerate(blacklist):\n",
    "    \n",
    "    print(f\"Removing blacklist user {i+1}/{len(blacklist)} {handle}\")\n",
    "\n",
    "    # delete from twitter\n",
    "    db = mysql.connect(host=secret['DBHOST'],user=secret['DBUSER'],passwd=secret['DBPASS'],database=secret['DBTABLE'])\n",
    "    cursor = db.cursor()\n",
    "    query = \"DELETE FROM twitter WHERE twitter_handle = %s;\"\n",
    "    values = (handle,)\n",
    "    cursor.execute(query, values)\n",
    "    db.commit()\n",
    "    print(cursor.rowcount, \"record updated\")\n",
    "    cursor.close()\n",
    "    db.close()  \n",
    "\n",
    "    # delete from rewards\n",
    "    db = mysql.connect(host=secret['DBHOST'],user=secret['DBUSER'],passwd=secret['DBPASS'],database=secret['DBTABLE'])\n",
    "    cursor = db.cursor()\n",
    "    query = \"DELETE FROM rewards WHERE twitter_handle = %s;\"\n",
    "    values = (handle,)\n",
    "    cursor.execute(query, values)\n",
    "    db.commit()\n",
    "    print(cursor.rowcount, \"record updated\")\n",
    "    cursor.close()\n",
    "    db.close()  \n",
    "    "
   ]
  },
  {
   "cell_type": "code",
   "execution_count": null,
   "metadata": {},
   "outputs": [],
   "source": []
  }
 ],
 "metadata": {
  "kernelspec": {
   "display_name": "Python 3",
   "language": "python",
   "name": "python3"
  },
  "language_info": {
   "codemirror_mode": {
    "name": "ipython",
    "version": 3
   },
   "file_extension": ".py",
   "mimetype": "text/x-python",
   "name": "python",
   "nbconvert_exporter": "python",
   "pygments_lexer": "ipython3",
   "version": "3.7.7"
  },
  "varInspector": {
   "cols": {
    "lenName": 16,
    "lenType": 16,
    "lenVar": 40
   },
   "kernels_config": {
    "python": {
     "delete_cmd_postfix": "",
     "delete_cmd_prefix": "del ",
     "library": "var_list.py",
     "varRefreshCmd": "print(var_dic_list())"
    },
    "r": {
     "delete_cmd_postfix": ") ",
     "delete_cmd_prefix": "rm(",
     "library": "var_list.r",
     "varRefreshCmd": "cat(var_dic_list()) "
    }
   },
   "types_to_exclude": [
    "module",
    "function",
    "builtin_function_or_method",
    "instance",
    "_Feature"
   ],
   "window_display": false
  }
 },
 "nbformat": 4,
 "nbformat_minor": 4
}
