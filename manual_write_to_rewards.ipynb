{
 "cells": [
  {
   "cell_type": "code",
   "execution_count": 1,
   "metadata": {
    "ExecuteTime": {
     "end_time": "2020-12-05T15:59:35.644146Z",
     "start_time": "2020-12-05T15:59:35.640114Z"
    }
   },
   "outputs": [],
   "source": [
    "campaign_id = 1\n",
    "manager_ethereum_address = '0xD3e9D60e4E4De615124D5239219F32946d10151D'"
   ]
  },
  {
   "cell_type": "code",
   "execution_count": 2,
   "metadata": {
    "ExecuteTime": {
     "end_time": "2020-12-05T15:59:36.690212Z",
     "start_time": "2020-12-05T15:59:36.473523Z"
    }
   },
   "outputs": [],
   "source": [
    "import mysql.connector as mysql\n",
    "import datetime\n",
    "import pandas as pd"
   ]
  },
  {
   "cell_type": "code",
   "execution_count": 3,
   "metadata": {
    "ExecuteTime": {
     "end_time": "2020-12-05T15:59:41.725915Z",
     "start_time": "2020-12-05T15:59:41.714386Z"
    }
   },
   "outputs": [],
   "source": [
    "# load api key\n",
    "secret = {}\n",
    "with open('secret_staging.txt') as f:\n",
    "    lines = f.readlines()\n",
    "    for line in lines:\n",
    "        secret[line.split(\"=\")[0]] = line.split(\"=\")[1].replace(\"\\n\",\"\")\n"
   ]
  },
  {
   "cell_type": "code",
   "execution_count": 4,
   "metadata": {
    "ExecuteTime": {
     "end_time": "2020-12-05T15:59:45.140807Z",
     "start_time": "2020-12-05T15:59:45.132138Z"
    }
   },
   "outputs": [
    {
     "name": "stdout",
     "output_type": "stream",
     "text": [
      "50 handles loaded from CSV\n"
     ]
    }
   ],
   "source": [
    "# load list of handles that must be rewarded\n",
    "handles = list(pd.read_csv('handles.csv', header=None, names=['handle'])['handle'])\n",
    "print(f\"{len(handles)} handles loaded from CSV\")"
   ]
  },
  {
   "cell_type": "code",
   "execution_count": 5,
   "metadata": {
    "ExecuteTime": {
     "end_time": "2020-12-05T15:59:51.158904Z",
     "start_time": "2020-12-05T15:59:49.436211Z"
    }
   },
   "outputs": [
    {
     "name": "stdout",
     "output_type": "stream",
     "text": [
      "0 handles already rewarded for this campaign\n"
     ]
    }
   ],
   "source": [
    "# load handles already rewarded for this campaign\n",
    "db = mysql.connect(host=secret['DBHOST'],user=secret['DBUSER'],passwd=secret['DBPASS'],database=secret['DBTABLE'])\n",
    "cursor = db.cursor()\n",
    "query = f'SELECT twitter_handle FROM rewards where campaign_id = {campaign_id} and manager_ethereum_address = \"{manager_ethereum_address}\";'\n",
    "cursor.execute(query)\n",
    "records = cursor.fetchall()\n",
    "cursor.close()\n",
    "db.close()\n",
    "\n",
    "handles_done = []\n",
    "for r in records:\n",
    "    handles_done.append(r[0])\n",
    "    \n",
    "print(f\"{len(handles_done)} handles already rewarded for this campaign\")"
   ]
  },
  {
   "cell_type": "code",
   "execution_count": 31,
   "metadata": {
    "ExecuteTime": {
     "end_time": "2020-11-26T13:27:14.970068Z",
     "start_time": "2020-11-26T13:27:13.026640Z"
    }
   },
   "outputs": [
    {
     "name": "stdout",
     "output_type": "stream",
     "text": [
      "archipelagoai already rewarded\n",
      "rewarding alxcnwy\n",
      "1 record inserted\n"
     ]
    }
   ],
   "source": [
    "for handle in handles:\n",
    "    \n",
    "    if handle not in handles_done:\n",
    "        print(f\"rewarding {handle}\")\n",
    "        \n",
    "        # write rewards to database (with null blockchainwritetime)\n",
    "        db = mysql.connect(host=secret['DBHOST'],user=secret['DBUSER'],passwd=secret['DBPASS'],database=secret['DBTABLE'])\n",
    "        cursor = db.cursor()\n",
    "        query = \"INSERT INTO rewards (campaign_id, twitter_handle, manager_ethereum_address) VALUES (%s, %s, %s);\"\n",
    "        values = (campaign_id, handle, manager_ethereum_address)\n",
    "        cursor.execute(query, values)\n",
    "        db.commit()\n",
    "        print(cursor.rowcount, \"record inserted\")\n",
    "        cursor.close()\n",
    "        db.close()\n",
    "    else:\n",
    "        print(f\"{handle} already rewarded\")"
   ]
  },
  {
   "cell_type": "code",
   "execution_count": null,
   "metadata": {},
   "outputs": [],
   "source": []
  }
 ],
 "metadata": {
  "kernelspec": {
   "display_name": "Python 3",
   "language": "python",
   "name": "python3"
  },
  "language_info": {
   "codemirror_mode": {
    "name": "ipython",
    "version": 3
   },
   "file_extension": ".py",
   "mimetype": "text/x-python",
   "name": "python",
   "nbconvert_exporter": "python",
   "pygments_lexer": "ipython3",
   "version": "3.7.7"
  },
  "varInspector": {
   "cols": {
    "lenName": 16,
    "lenType": 16,
    "lenVar": 40
   },
   "kernels_config": {
    "python": {
     "delete_cmd_postfix": "",
     "delete_cmd_prefix": "del ",
     "library": "var_list.py",
     "varRefreshCmd": "print(var_dic_list())"
    },
    "r": {
     "delete_cmd_postfix": ") ",
     "delete_cmd_prefix": "rm(",
     "library": "var_list.r",
     "varRefreshCmd": "cat(var_dic_list()) "
    }
   },
   "types_to_exclude": [
    "module",
    "function",
    "builtin_function_or_method",
    "instance",
    "_Feature"
   ],
   "window_display": false
  }
 },
 "nbformat": 4,
 "nbformat_minor": 4
}
