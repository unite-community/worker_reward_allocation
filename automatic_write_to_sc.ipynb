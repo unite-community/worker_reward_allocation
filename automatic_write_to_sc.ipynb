{
 "cells": [
  {
   "cell_type": "code",
   "execution_count": 1,
   "metadata": {
    "ExecuteTime": {
     "end_time": "2020-12-05T15:28:06.912985Z",
     "start_time": "2020-12-05T15:28:05.049703Z"
    }
   },
   "outputs": [
    {
     "name": "stderr",
     "output_type": "stream",
     "text": [
      "Consider installing rusty-rlp to improve pyrlp performance with a rust based backend\n"
     ]
    },
    {
     "name": "stdout",
     "output_type": "stream",
     "text": [
      "Connected to infura: https://kovan.infura.io/v3/1070d8486bc64afdb9c730d6f2850d6c\n"
     ]
    }
   ],
   "source": [
    "import base64\n",
    "import mysql.connector as mysql\n",
    "import datetime\n",
    "import pandas as pd\n",
    "import time\n",
    "import requests\n",
    "\n",
    "import json\n",
    "from web3 import Web3 # https://web3py.readthedocs.io/en/stable/contracts.html#contract-functions\n",
    "\n",
    "#######\n",
    "## INIT\n",
    "#######\n",
    "\n",
    "# load api key\n",
    "secret = {}\n",
    "with open('secret_staging.txt') as f:\n",
    "    lines = f.readlines()\n",
    "    for line in lines:\n",
    "        secret[line.split(\"=\")[0]] = line.split(\"=\")[1].replace(\"\\n\",\"\")\n",
    "\n",
    "# init web3\n",
    "infura_url = secret['INFURAURL1']\n",
    "web3 = Web3(Web3.HTTPProvider(infura_url))\n",
    "print(f\"Connected to infura: {infura_url}\")\n",
    "\n",
    "# load abi\n",
    "with open('abi.json') as f:\n",
    "    abi = json.load(f)\n",
    "\n",
    "# load bytecode\n",
    "with open('bytecode.txt', 'r') as file:\n",
    "    bytecode = file.read().replace('\\n', '')\n",
    "\n",
    "# load contract address\n",
    "contract_address = secret['CONTRACTADDRESS']"
   ]
  },
  {
   "cell_type": "code",
   "execution_count": 2,
   "metadata": {
    "ExecuteTime": {
     "end_time": "2020-12-05T15:28:09.394432Z",
     "start_time": "2020-12-05T15:28:07.431219Z"
    }
   },
   "outputs": [],
   "source": [
    "###########################\n",
    "## GET USER:WALLET MAPPINGS\n",
    "###########################\n",
    "\n",
    "# convert rewards pending twitter handles to wallet ids\n",
    "db = mysql.connect(host=secret['DBHOST'],user=secret['DBUSER'],passwd=secret['DBPASS'],database=secret['DBTABLE'])\n",
    "cursor = db.cursor()\n",
    "query = f'SELECT twitter_handle, ethereum_address FROM users;'\n",
    "cursor.execute(query)\n",
    "records = cursor.fetchall()\n",
    "cursor.close()\n",
    "db.close()\n",
    "# convert to dataframe\n",
    "users = []\n",
    "for record in records:\n",
    "    users.append(dict(zip(['twitter_handle', 'ethereum_address'], record)))\n",
    "# convert to dataframe and lowercase handle\n",
    "users = pd.DataFrame(users)\n",
    "users['twitter_handle'] = users['twitter_handle'].str.lower()\n",
    "\n",
    "# create dicts\n",
    "user_wallets = dict(zip(list(users['twitter_handle']), users['ethereum_address']))\n",
    "wallets_users = dict(zip(list(users['ethereum_address']), users['twitter_handle']))\n",
    "\n",
    "# create list\n",
    "user_list = list(user_wallets.keys())"
   ]
  },
  {
   "cell_type": "code",
   "execution_count": 3,
   "metadata": {
    "ExecuteTime": {
     "end_time": "2020-12-05T15:28:11.179371Z",
     "start_time": "2020-12-05T15:28:09.438590Z"
    }
   },
   "outputs": [
    {
     "name": "stdout",
     "output_type": "stream",
     "text": [
      "DEGBUG: LEN DF 4\n"
     ]
    }
   ],
   "source": [
    "##################################################\n",
    "### get all rewards for this campaign as dataframe\n",
    "##################################################\n",
    "db = mysql.connect(host=secret['DBHOST'],user=secret['DBUSER'],passwd=secret['DBPASS'],database=secret['DBTABLE'])\n",
    "cursor = db.cursor()\n",
    "query = f'SELECT campaign_id, twitter_handle FROM rewards WHERE blockchain_write_time is NULL;'\n",
    "cursor.execute(query)\n",
    "records_rewards = cursor.fetchall()\n",
    "cursor.close()\n",
    "db.close()\n",
    "# convert to dataframe\n",
    "rewards = []\n",
    "for record in records_rewards:\n",
    "    rewards.append(dict(zip(['campaign_id', 'twitter_handle'], record)))\n",
    "df = pd.DataFrame(rewards)\n",
    "print(f\"DEGBUG: LEN DF {len(df)}\")"
   ]
  },
  {
   "cell_type": "code",
   "execution_count": 4,
   "metadata": {
    "ExecuteTime": {
     "end_time": "2020-12-05T15:28:20.228941Z",
     "start_time": "2020-12-05T15:28:12.818290Z"
    }
   },
   "outputs": [
    {
     "name": "stdout",
     "output_type": "stream",
     "text": [
      "3 campaigns found\n",
      "campaign #2 has 2 rewards claimed, 0 remaining\n",
      "campaign #3 has 2 rewards claimed, 0 remaining\n",
      "campaign #4 has 1 rewards claimed, 99 remaining\n",
      "1 active campaigns found\n"
     ]
    }
   ],
   "source": [
    "#######################\n",
    "## GET ACTIVE CAMPAIGNS\n",
    "#######################\n",
    "\n",
    "# get all campaigns with twitter handle so we can get twitter link\n",
    "db = mysql.connect(host=secret['DBHOST'],user=secret['DBUSER'],passwd=secret['DBPASS'],database=secret['DBTABLE'])\n",
    "cursor = db.cursor()\n",
    "query = f'SELECT campaign_id, manager_ethereum_address, maximum_rewards, campaign_type, twitter_status_id FROM campaigns;'\n",
    "cursor.execute(query)\n",
    "records = cursor.fetchall()\n",
    "print(f\"{len(records)} campaigns found\")\n",
    "cursor.close()\n",
    "db.close()\n",
    "\n",
    "columns = ['campaign_id', 'manager_ethereum_address', 'maximum_rewards', 'campaign_type', 'twitter_status_id']\n",
    "\n",
    "campaigns = []\n",
    "for record in records:\n",
    "    res = dict(zip(columns, record))\n",
    "\n",
    "    # check how many rewards claimed for this campaign\n",
    "    db = mysql.connect(host=secret['DBHOST'], user=secret['DBUSER'], passwd=secret['DBPASS'], database=secret['DBTABLE'])\n",
    "    cursor = db.cursor()\n",
    "    manager_ethereum_address = res['manager_ethereum_address']\n",
    "    campaign_id = res['campaign_id']\n",
    "    query = f'SELECT * FROM rewards where campaign_id = \"{campaign_id}\" and manager_ethereum_address = \"{manager_ethereum_address}\";'\n",
    "    cursor.execute(query)\n",
    "    records_rewards = cursor.fetchall()\n",
    "    print(f\"campaign #{res['campaign_id']} has {len(records_rewards)} rewards claimed, {res['maximum_rewards'] - len(records_rewards)} remaining\")\n",
    "    cursor.close()\n",
    "    db.close()\n",
    "\n",
    "    # calculate rewards remaining\n",
    "    res['rewards_remaining'] = res['maximum_rewards'] - len(records_rewards)\n",
    "\n",
    "    # only keep active campaigns\n",
    "    if res['rewards_remaining'] > 0:\n",
    "        campaigns.append(res)\n",
    "\n",
    "print(f\"{len(campaigns)} active campaigns found\")"
   ]
  },
  {
   "cell_type": "code",
   "execution_count": 5,
   "metadata": {
    "ExecuteTime": {
     "end_time": "2020-12-05T15:28:26.832046Z",
     "start_time": "2020-12-05T15:28:25.356365Z"
    }
   },
   "outputs": [
    {
     "name": "stdout",
     "output_type": "stream",
     "text": [
      "Begin allocating rewards for campaign 4 with manager address 0xe3f201d68B473c89b3D82eA9c9b0E951DB7345A8\n",
      "0 rewards_pending\n",
      "[]\n",
      "GasPrice fetched from ethgasstation.info 21\n"
     ]
    }
   ],
   "source": [
    "for campaign in campaigns:\n",
    "\n",
    "    print(f\"Begin allocating rewards for campaign {campaign['campaign_id']} with manager address {campaign['manager_ethereum_address']}\")\n",
    "\n",
    "    ###################################################\n",
    "    ### GET LIST OF WALLETS TO REWARD FOR THIS CAMPAIGN\n",
    "    ###################################################\n",
    "\n",
    "    # list of handles to reward\n",
    "    rewards_pending = list(df[df['campaign_id'] == campaign['campaign_id']]['twitter_handle'])\n",
    "\n",
    "    # convert from twitter handles to wallets\n",
    "    rewards_pending = [user_wallets[r] for r in rewards_pending]\n",
    "\n",
    "    print(f\"{len(rewards_pending)} rewards_pending\")\n",
    "    print(rewards_pending)\n",
    "\n",
    "    # get gas price from ethgasstation.info\n",
    "    gasPrice = 25\n",
    "    try:\n",
    "        headers = {'User-Agent': 'blah',}\n",
    "        response = requests.get('https://ethgasstation.info/json/ethgasAPI.json', headers=headers)\n",
    "        gasPrice = int(response.json()['average']/10)\n",
    "        print(f\"GasPrice fetched from ethgasstation.info {gasPrice}\")\n",
    "    except Exception as e:\n",
    "        print(\"ERROR FETCHING GAS PRICE - using default of 25\")\n",
    "        print(e)\n",
    "\n",
    "    for i, reward_pending in enumerate(rewards_pending):\n",
    "        print(f\"Creating SC tx {i+1}/{len(rewards_pending)} to reward {reward_pending}\")\n",
    "\n",
    "        ###################################\n",
    "        ### WRITE REWARDS TO SMART CONTRACT\n",
    "        ###################################\n",
    "\n",
    "        contract = web3.eth.contract(abi=abi, bytecode=bytecode)\n",
    "\n",
    "        tx = contract.functions.rewardAddresses(campaign['manager_ethereum_address'], campaign['campaign_id'], [reward_pending]).buildTransaction(\n",
    "            {'gas':250000, # 0.0029056 vs 0.00062844 0.000000001 ETH\n",
    "             'gasPrice': web3.toWei('24', 'gwei'),\n",
    "             'from': secret['ETHBACKENDPUBLIC'],\n",
    "             'to': contract_address,\n",
    "             'nonce': web3.eth.getTransactionCount(secret['ETHBACKENDPUBLIC'])\n",
    "            })\n",
    "\n",
    "        signed_txn = web3.eth.account.signTransaction(tx, private_key=secret['ETHBACKENDPRIVATE'])\n",
    "        tx_hash = web3.eth.sendRawTransaction(signed_txn.rawTransaction)\n",
    "        print(f\"TX hash: {tx_hash.hex()}\")\n",
    "        receipt = web3.eth.waitForTransactionReceipt(tx_hash, timeout=600)\n",
    "        print(receipt)\n",
    "\n",
    "        print(f\"LOGGING: {tx_hash}, rewarding: {reward_pending}, manager: {campaign['manager_ethereum_address']}, \")\n",
    "\n",
    "        if receipt['status'] == 1:\n",
    "            print(f\"SUCCESS writing rewards to SC for campaign {campaign['campaign_id']} tx: {tx_hash.hex()}\")\n",
    "\n",
    "            # update blockchain_write_time\n",
    "            db = mysql.connect(host=secret['DBHOST'],user=secret['DBUSER'],passwd=secret['DBPASS'],database=secret['DBTABLE'])\n",
    "            cursor = db.cursor()\n",
    "            query = \"UPDATE rewards SET blockchain_write_time=%s, blockchain_write_tx_hash=%s, gas_used=%s, blockchain_write_tx_status=%s WHERE campaign_id=%s AND manager_ethereum_address=%s AND twitter_handle=%s;\"\n",
    "            values = (str(datetime.datetime.now()).split('.')[0], str(tx_hash.hex()), receipt['gasUsed'], 1, str(campaign['campaign_id']), campaign['manager_ethereum_address'], wallets_users[reward_pending])\n",
    "            cursor.execute(query, values)\n",
    "            db.commit()\n",
    "            print(cursor.rowcount, \"record updated\")\n",
    "            cursor.close()\n",
    "            db.close()  \n",
    "        else:\n",
    "            print(f\"ERROR FAIL writing rewards to SC for campaign {campaign['campaign_id']} tx: {tx_hash.hex()}\")"
   ]
  },
  {
   "cell_type": "code",
   "execution_count": null,
   "metadata": {},
   "outputs": [],
   "source": []
  }
 ],
 "metadata": {
  "kernelspec": {
   "display_name": "Python 3",
   "language": "python",
   "name": "python3"
  },
  "language_info": {
   "codemirror_mode": {
    "name": "ipython",
    "version": 3
   },
   "file_extension": ".py",
   "mimetype": "text/x-python",
   "name": "python",
   "nbconvert_exporter": "python",
   "pygments_lexer": "ipython3",
   "version": "3.7.7"
  },
  "varInspector": {
   "cols": {
    "lenName": 16,
    "lenType": 16,
    "lenVar": 40
   },
   "kernels_config": {
    "python": {
     "delete_cmd_postfix": "",
     "delete_cmd_prefix": "del ",
     "library": "var_list.py",
     "varRefreshCmd": "print(var_dic_list())"
    },
    "r": {
     "delete_cmd_postfix": ") ",
     "delete_cmd_prefix": "rm(",
     "library": "var_list.r",
     "varRefreshCmd": "cat(var_dic_list()) "
    }
   },
   "types_to_exclude": [
    "module",
    "function",
    "builtin_function_or_method",
    "instance",
    "_Feature"
   ],
   "window_display": false
  }
 },
 "nbformat": 4,
 "nbformat_minor": 4
}
