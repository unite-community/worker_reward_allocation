{
 "cells": [
  {
   "cell_type": "code",
   "execution_count": 22,
   "metadata": {
    "ExecuteTime": {
     "end_time": "2020-12-27T19:10:01.893018Z",
     "start_time": "2020-12-27T19:10:01.882954Z"
    }
   },
   "outputs": [],
   "source": [
    "campaign_id = 1\n",
    "manager_ethereum_address = '0x523d643E3D7c455D043eE11B51Bc8EC08F6ff474'"
   ]
  },
  {
   "cell_type": "code",
   "execution_count": 23,
   "metadata": {
    "ExecuteTime": {
     "end_time": "2020-12-27T19:10:02.285516Z",
     "start_time": "2020-12-27T19:10:02.254342Z"
    }
   },
   "outputs": [
    {
     "name": "stdout",
     "output_type": "stream",
     "text": [
      "Connected to infura: https://mainnet.infura.io/v3/1070d8486bc64afdb9c730d6f2850d6c\n"
     ]
    }
   ],
   "source": [
    "import base64\n",
    "import mysql.connector as mysql\n",
    "import datetime\n",
    "import pandas as pd\n",
    "import time\n",
    "import requests\n",
    "\n",
    "import json\n",
    "from web3 import Web3 # https://web3py.readthedocs.io/en/stable/contracts.html#contract-functions\n",
    "\n",
    "#######\n",
    "## INIT\n",
    "#######\n",
    "\n",
    "# load api key\n",
    "secret = {}\n",
    "with open('secret.txt') as f:\n",
    "    lines = f.readlines()\n",
    "    for line in lines:\n",
    "        secret[line.split(\"=\")[0]] = line.split(\"=\")[1].replace(\"\\n\",\"\")\n",
    "\n",
    "# init web3\n",
    "infura_url = secret['INFURAURL1']\n",
    "web3 = Web3(Web3.HTTPProvider(infura_url))\n",
    "print(f\"Connected to infura: {infura_url}\")\n",
    "\n",
    "# load abi\n",
    "with open('abi.json') as f:\n",
    "    abi = json.load(f)\n",
    "\n",
    "# load bytecode\n",
    "with open('bytecode.txt', 'r') as file:\n",
    "    bytecode = file.read().replace('\\n', '')\n",
    "\n",
    "# load contract address\n",
    "contract_address = secret['CONTRACTADDRESS']"
   ]
  },
  {
   "cell_type": "code",
   "execution_count": 24,
   "metadata": {
    "ExecuteTime": {
     "end_time": "2020-12-27T19:10:06.196426Z",
     "start_time": "2020-12-27T19:10:03.079144Z"
    }
   },
   "outputs": [],
   "source": [
    "###########################\n",
    "## GET USER:WALLET MAPPINGS\n",
    "###########################\n",
    "\n",
    "# convert rewards pending twitter handles to wallet ids\n",
    "db = mysql.connect(host=secret['DBHOST'],user=secret['DBUSER'],passwd=secret['DBPASS'],database=secret['DBTABLE'])\n",
    "cursor = db.cursor()\n",
    "query = f'SELECT twitter_handle, ethereum_address FROM users;'\n",
    "cursor.execute(query)\n",
    "records = cursor.fetchall()\n",
    "cursor.close()\n",
    "db.close()\n",
    "# convert to dataframe\n",
    "users = []\n",
    "for record in records:\n",
    "    users.append(dict(zip(['twitter_handle', 'ethereum_address'], record)))\n",
    "# convert to dataframe and lowercase handle\n",
    "users = pd.DataFrame(users)\n",
    "users['twitter_handle'] = users['twitter_handle'].str.lower()\n",
    "\n",
    "# create dicts\n",
    "user_wallets = dict(zip(list(users['twitter_handle']), users['ethereum_address']))\n",
    "wallets_users = dict(zip(list(users['ethereum_address']), users['twitter_handle']))\n",
    "\n",
    "# create list\n",
    "user_list = list(user_wallets.keys())"
   ]
  },
  {
   "cell_type": "code",
   "execution_count": 25,
   "metadata": {
    "ExecuteTime": {
     "end_time": "2020-12-27T19:10:08.851719Z",
     "start_time": "2020-12-27T19:10:06.250153Z"
    }
   },
   "outputs": [
    {
     "name": "stdout",
     "output_type": "stream",
     "text": [
      "DEGBUG: LEN DF 1\n"
     ]
    }
   ],
   "source": [
    "##################################################\n",
    "### get all rewards for this campaign as dataframe\n",
    "##################################################\n",
    "db = mysql.connect(host=secret['DBHOST'],user=secret['DBUSER'],passwd=secret['DBPASS'],database=secret['DBTABLE'])\n",
    "cursor = db.cursor()\n",
    "query = f'SELECT campaign_id, twitter_handle FROM rewards WHERE blockchain_write_time is NULL and manager_ethereum_address = %s and campaign_id = %s;'\n",
    "values = (manager_ethereum_address, campaign_id)\n",
    "cursor.execute(query, values)\n",
    "records_rewards = cursor.fetchall()\n",
    "cursor.close()\n",
    "db.close()\n",
    "# convert to dataframe\n",
    "rewards = []\n",
    "for record in records_rewards:\n",
    "    rewards.append(dict(zip(['campaign_id', 'twitter_handle'], record)))\n",
    "df = pd.DataFrame(rewards)\n",
    "print(f\"DEGBUG: LEN DF {len(df)}\")"
   ]
  },
  {
   "cell_type": "code",
   "execution_count": 18,
   "metadata": {
    "ExecuteTime": {
     "end_time": "2020-12-27T18:32:25.050861Z",
     "start_time": "2020-12-27T18:32:25.043805Z"
    }
   },
   "outputs": [],
   "source": [
    "###################################################\n",
    "### GET LIST OF WALLETS TO REWARD FOR THIS CAMPAIGN\n",
    "###################################################\n",
    "\n",
    "# list of handles to reward\n",
    "rewards_pending = list(df[df['campaign_id'] == campaign_id]['twitter_handle'])\n",
    "\n",
    "# convert from twitter handles to wallets\n",
    "rewards_pending = [user_wallets[r] for r in rewards_pending]"
   ]
  },
  {
   "cell_type": "code",
   "execution_count": 19,
   "metadata": {
    "ExecuteTime": {
     "end_time": "2020-12-27T18:32:26.041746Z",
     "start_time": "2020-12-27T18:32:26.030882Z"
    }
   },
   "outputs": [
    {
     "name": "stdout",
     "output_type": "stream",
     "text": [
      "1 rewards_pending\n",
      "0x5B93FF82faaF241c15997ea3975419DDDd8362c5 cooopahtroopa\n"
     ]
    }
   ],
   "source": [
    "print(f\"{len(rewards_pending)} rewards_pending\")\n",
    "for reward_pending in rewards_pending:\n",
    "    print(reward_pending, wallets_users[reward_pending])"
   ]
  },
  {
   "cell_type": "code",
   "execution_count": 21,
   "metadata": {
    "ExecuteTime": {
     "end_time": "2020-12-27T18:33:02.540631Z",
     "start_time": "2020-12-27T18:32:48.440848Z"
    },
    "scrolled": false
   },
   "outputs": [
    {
     "name": "stdout",
     "output_type": "stream",
     "text": [
      "Creating SC tx 1/1 to reward 0x5B93FF82faaF241c15997ea3975419DDDd8362c5\n",
      "GasPrice fetched from ethgasstation.info 60\n",
      "TX hash: 0x348de64b4f6af7d39005d6da35dbdba3a707d3ca81d08e1a6ccf1d3b4eef8bbe\n",
      "AttributeDict({'blockHash': HexBytes('0xbc71811c23f8d08315d0f7822e7de950e590f3c694b9ca9af459e953b0c1afaa'), 'blockNumber': 11537486, 'contractAddress': None, 'cumulativeGasUsed': 7026397, 'from': '0xe9540071278Dba4374A42a84B48c5e230328AeF7', 'gasUsed': 31422, 'logs': [], 'logsBloom': HexBytes('0x00000000000000000000000000000000000000000000000000000000000000000000000000000000000000000000000000000000000000000000000000000000000000000000000000000000000000000000000000000000000000000000000000000000000000000000000000000000000000000000000000000000000000000000000000000000000000000000000000000000000000000000000000000000000000000000000000000000000000000000000000000000000000000000000000000000000000000000000000000000000000000000000000000000000000000000000000000000000000000000000000000000000000000000000000000000'), 'status': 1, 'to': '0xe7b8897D824C78e5C1076023508C43Eace3D2Afc', 'transactionHash': HexBytes('0x348de64b4f6af7d39005d6da35dbdba3a707d3ca81d08e1a6ccf1d3b4eef8bbe'), 'transactionIndex': 129})\n",
      "LOGGING: b'4\\x8d\\xe6KOj\\xf7\\xd3\\x90\\x05\\xd6\\xda5\\xdb\\xdb\\xa3\\xa7\\x07\\xd3\\xca\\x81\\xd0\\x8e\\x1al\\xcf\\x1d;N\\xef\\x8b\\xbe', rewarding: 0x5B93FF82faaF241c15997ea3975419DDDd8362c5, manager: 0x523d643E3D7c455D043eE11B51Bc8EC08F6ff474, \n",
      "SUCCESS writing rewards to SC for campaign 1 tx: 0x348de64b4f6af7d39005d6da35dbdba3a707d3ca81d08e1a6ccf1d3b4eef8bbe\n",
      "1 record updated\n"
     ]
    }
   ],
   "source": [
    "for i, reward_pending in enumerate(rewards_pending):\n",
    "    print(f\"Creating SC tx {i+1}/{len(rewards_pending)} to reward {reward_pending}\")\n",
    "\n",
    "    ###################################\n",
    "    ### WRITE REWARDS TO SMART CONTRACT\n",
    "    ###################################\n",
    "    \n",
    "    # get gas price from ethgasstation.info\n",
    "    gasPrice = 25\n",
    "    try:\n",
    "        headers = {'User-Agent': 'blah',}\n",
    "        response = requests.get('https://ethgasstation.info/json/ethgasAPI.json', headers=headers)\n",
    "        gasPrice = int(response.json()['average']/10)\n",
    "        print(f\"GasPrice fetched from ethgasstation.info {gasPrice}\")\n",
    "    except Exception as e:\n",
    "        print(\"ERROR FETCHING GAS PRICE - using default of 25\")\n",
    "        print(e)\n",
    "    gasPrice = min(gasPrice, 80)\n",
    "\n",
    "    contract = web3.eth.contract(abi=abi, bytecode=bytecode)\n",
    "\n",
    "    tx = contract.functions.rewardAddresses(manager_ethereum_address, campaign_id, [reward_pending]).buildTransaction(\n",
    "        {'gas':250000,\n",
    "         'gasPrice': web3.toWei(gasPrice, 'gwei'),\n",
    "         'from': secret['ETHBACKENDPUBLIC'],\n",
    "         'to': contract_address,\n",
    "         'nonce': web3.eth.getTransactionCount(secret['ETHBACKENDPUBLIC'])\n",
    "        })\n",
    "\n",
    "    signed_txn = web3.eth.account.signTransaction(tx, private_key=secret['ETHBACKENDPRIVATE'])\n",
    "    tx_hash = web3.eth.sendRawTransaction(signed_txn.rawTransaction)\n",
    "    print(f\"TX hash: {tx_hash.hex()}\")\n",
    "    receipt = web3.eth.waitForTransactionReceipt(tx_hash, timeout=3600)\n",
    "    print(receipt)\n",
    "\n",
    "    print(f\"LOGGING: {tx_hash}, rewarding: {reward_pending}, manager: {manager_ethereum_address}, \")\n",
    "\n",
    "    if receipt['status'] == 1:\n",
    "        print(f\"SUCCESS writing rewards to SC for campaign {campaign_id} tx: {tx_hash.hex()}\")\n",
    "\n",
    "        # update blockchain_write_time\n",
    "        db = mysql.connect(host=secret['DBHOST'],user=secret['DBUSER'],passwd=secret['DBPASS'],database=secret['DBTABLE'])\n",
    "        cursor = db.cursor()\n",
    "        query = \"UPDATE rewards SET blockchain_write_time=%s, blockchain_write_tx_hash=%s, gas_used=%s, blockchain_write_tx_status=%s WHERE campaign_id=%s AND manager_ethereum_address=%s AND twitter_handle=%s;\"\n",
    "        values = (str(datetime.datetime.now()).split('.')[0], str(tx_hash.hex()), receipt['gasUsed'], 1, str(campaign_id), manager_ethereum_address, wallets_users[reward_pending])\n",
    "        cursor.execute(query, values)\n",
    "        db.commit()\n",
    "        print(cursor.rowcount, \"record updated\")\n",
    "        cursor.close()\n",
    "        db.close()  \n",
    "    else:\n",
    "        print(f\"ERROR FAIL writing rewards to SC for campaign {campaign_id} tx: {tx_hash.hex()}\")"
   ]
  },
  {
   "cell_type": "markdown",
   "metadata": {
    "heading_collapsed": true
   },
   "source": [
    "# Check confirmation status"
   ]
  },
  {
   "cell_type": "code",
   "execution_count": 59,
   "metadata": {
    "ExecuteTime": {
     "end_time": "2020-11-28T20:17:23.765567Z",
     "start_time": "2020-11-28T20:17:14.104055Z"
    },
    "collapsed": true,
    "hidden": true
   },
   "outputs": [
    {
     "name": "stdout",
     "output_type": "stream",
     "text": [
      "Rewarding 1/1 0xe9540071278Dba4374A42a84B48c5e230328AeF7\n",
      "TX hash: 0xb1cee719715c454467106ffc2c6b73c6234b74f7b5486bf84c336fb49b70e618\n",
      "AttributeDict({'blockHash': HexBytes('0xffb054245778a31764542448d8fb31a865865ad0cadf4a5465ee2f1ac315d557'), 'blockNumber': 22328506, 'contractAddress': None, 'cumulativeGasUsed': 22208, 'from': '0xe9540071278Dba4374A42a84B48c5e230328AeF7', 'gasUsed': 22208, 'logs': [], 'logsBloom': HexBytes('0x00000000000000000000000000000000000000000000000000000000000000000000000000000000000000000000000000000000000000000000000000000000000000000000000000000000000000000000000000000000000000000000000000000000000000000000000000000000000000000000000000000000000000000000000000000000000000000000000000000000000000000000000000000000000000000000000000000000000000000000000000000000000000000000000000000000000000000000000000000000000000000000000000000000000000000000000000000000000000000000000000000000000000000000000000000000'), 'status': 1, 'to': '0xe7b8897D824C78e5C1076023508C43Eace3D2Afc', 'transactionHash': HexBytes('0xb1cee719715c454467106ffc2c6b73c6234b74f7b5486bf84c336fb49b70e618'), 'transactionIndex': 0})\n",
      "SUCCESS writing rewards to SC for campaign 1 tx: 0xb1cee719715c454467106ffc2c6b73c6234b74f7b5486bf84c336fb49b70e618\n",
      "1 record updated\n"
     ]
    }
   ],
   "source": [
    "##############################################################\n",
    "### check confirmation status for all unconfirmed transactions\n",
    "##############################################################\n",
    "\n",
    "# get all unconfirmed txs\n",
    "db = mysql.connect(host=secret['DBHOST'],user=secret['DBUSER'],passwd=secret['DBPASS'],database=secret['DBTABLE'])\n",
    "cursor = db.cursor()\n",
    "query = f'SELECT blockchain_write_tx_hash FROM rewards WHERE blockchain_write_tx_status = 0;'\n",
    "cursor.execute(query)\n",
    "records_txs = cursor.fetchall()\n",
    "cursor.close()\n",
    "db.close()\n",
    "# convert to dataframe\n",
    "txs = []\n",
    "for record in records_txs:\n",
    "    txs.append(record[0])\n",
    "print(f\"DEGBUG: UNCONFIRMED TXS {len(txs)}\")\n",
    "\n",
    "# check tx status and update db if confirmed\n",
    "for tx in txs:\n",
    "    receipt = web3.eth.getTransactionReceipt(tx)\n",
    "    \n",
    "    if receipt['status'] == 1:\n",
    "        # update blockchain_write_time\n",
    "        db = mysql.connect(host=secret['DBHOST'],user=secret['DBUSER'],passwd=secret['DBPASS'],database=secret['DBTABLE'])\n",
    "        cursor = db.cursor()\n",
    "        query = \"UPDATE rewards SET blockchain_write_time=%s, blockchain_write_tx_status=%s, gas_used=%s WHERE campaign_id=%s AND manager_ethereum_address=%s AND twitter_handle=%s;\"\n",
    "        values = (str(datetime.datetime.now()).split('.')[0], 1, receipt['gasUsed'], str(campaign_id), manager_ethereum_address, wallets_users[reward_pending])\n",
    "        cursor.execute(query, values)\n",
    "        db.commit()\n",
    "        print(cursor.rowcount, \"record updated\")\n",
    "        cursor.close()\n",
    "        db.close() \n",
    "    else:\n",
    "        print(f\"ERROR - {tx} receipt status != 1\")\n",
    "        print(receipt)"
   ]
  },
  {
   "cell_type": "markdown",
   "metadata": {
    "heading_collapsed": true
   },
   "source": [
    "# Estimate gas"
   ]
  },
  {
   "cell_type": "code",
   "execution_count": 57,
   "metadata": {
    "ExecuteTime": {
     "end_time": "2020-11-28T08:28:27.411439Z",
     "start_time": "2020-11-28T08:28:27.407628Z"
    },
    "hidden": true
   },
   "outputs": [],
   "source": [
    "contract.address = contract_address"
   ]
  },
  {
   "cell_type": "code",
   "execution_count": 58,
   "metadata": {
    "ExecuteTime": {
     "end_time": "2020-11-28T08:28:31.190721Z",
     "start_time": "2020-11-28T08:28:31.183984Z"
    },
    "hidden": true
   },
   "outputs": [
    {
     "data": {
      "text/plain": [
       "'0xe7b8897D824C78e5C1076023508C43Eace3D2Afc'"
      ]
     },
     "execution_count": 58,
     "metadata": {},
     "output_type": "execute_result"
    }
   ],
   "source": [
    "contract.address"
   ]
  },
  {
   "cell_type": "code",
   "execution_count": 59,
   "metadata": {
    "ExecuteTime": {
     "end_time": "2020-11-28T08:28:33.141254Z",
     "start_time": "2020-11-28T08:28:32.474814Z"
    },
    "hidden": true
   },
   "outputs": [],
   "source": [
    "tx = contract.functions.rewardAddresses(ids_manageraddresses[campaign_id], int(campaign_id), rewards_pending).buildTransaction(\n",
    "    {'gas':3000000, \n",
    "     'gasPrice': web3.toWei('23', 'gwei'),\n",
    "     'from': secret['ETHBACKENDPUBLIC'],\n",
    "     'to': contract_address,\n",
    "     'nonce': web3.eth.getTransactionCount(secret['ETHBACKENDPUBLIC'])\n",
    "    })\n"
   ]
  },
  {
   "cell_type": "code",
   "execution_count": 62,
   "metadata": {
    "ExecuteTime": {
     "end_time": "2020-11-28T08:30:06.187473Z",
     "start_time": "2020-11-28T08:30:06.151218Z"
    },
    "hidden": true
   },
   "outputs": [
    {
     "ename": "AttributeError",
     "evalue": "'dict' object has no attribute 'estimateGas'",
     "output_type": "error",
     "traceback": [
      "\u001b[0;31m---------------------------------------------------------------------------\u001b[0m",
      "\u001b[0;31mAttributeError\u001b[0m                            Traceback (most recent call last)",
      "\u001b[0;32m<ipython-input-62-73af88648004>\u001b[0m in \u001b[0;36m<module>\u001b[0;34m\u001b[0m\n\u001b[0;32m----> 1\u001b[0;31m \u001b[0mtx\u001b[0m\u001b[0;34m.\u001b[0m\u001b[0mestimateGas\u001b[0m\u001b[0;34m(\u001b[0m\u001b[0;34m)\u001b[0m\u001b[0;34m\u001b[0m\u001b[0;34m\u001b[0m\u001b[0m\n\u001b[0m",
      "\u001b[0;31mAttributeError\u001b[0m: 'dict' object has no attribute 'estimateGas'"
     ]
    }
   ],
   "source": [
    "tx.estimateGas()"
   ]
  },
  {
   "cell_type": "code",
   "execution_count": 61,
   "metadata": {
    "ExecuteTime": {
     "end_time": "2020-11-28T08:28:51.723047Z",
     "start_time": "2020-11-28T08:28:51.714503Z"
    },
    "hidden": true
   },
   "outputs": [
    {
     "data": {
      "text/plain": [
       "web3._utils.datatypes.Contract"
      ]
     },
     "execution_count": 61,
     "metadata": {},
     "output_type": "execute_result"
    }
   ],
   "source": [
    "contract"
   ]
  },
  {
   "cell_type": "code",
   "execution_count": null,
   "metadata": {
    "hidden": true
   },
   "outputs": [],
   "source": [
    " web3.eth.estimateGas({\n",
    "     \"from\"      : walletbase,       \n",
    "     \"nonce\"     : value, \n",
    "     \"to\"        : contractAddr,     \n",
    "     \"data\"      : data\n",
    "})"
   ]
  },
  {
   "cell_type": "code",
   "execution_count": 70,
   "metadata": {
    "ExecuteTime": {
     "end_time": "2020-11-28T08:41:53.426718Z",
     "start_time": "2020-11-28T08:41:53.421073Z"
    },
    "hidden": true
   },
   "outputs": [
    {
     "data": {
      "text/plain": [
       "'0xe7b8897D824C78e5C1076023508C43Eace3D2Afc'"
      ]
     },
     "execution_count": 70,
     "metadata": {},
     "output_type": "execute_result"
    }
   ],
   "source": [
    "contract.address"
   ]
  },
  {
   "cell_type": "code",
   "execution_count": 71,
   "metadata": {
    "ExecuteTime": {
     "end_time": "2020-11-28T08:44:33.392600Z",
     "start_time": "2020-11-28T08:44:33.034152Z"
    },
    "hidden": true
   },
   "outputs": [
    {
     "ename": "ValueError",
     "evalue": "Cannot set to in estimateGas transaction",
     "output_type": "error",
     "traceback": [
      "\u001b[0;31m---------------------------------------------------------------------------\u001b[0m",
      "\u001b[0;31mValueError\u001b[0m                                Traceback (most recent call last)",
      "\u001b[0;32m<ipython-input-71-41c2f19095b6>\u001b[0m in \u001b[0;36m<module>\u001b[0;34m\u001b[0m\n\u001b[1;32m      3\u001b[0m      \u001b[0;34m'from'\u001b[0m\u001b[0;34m:\u001b[0m \u001b[0msecret\u001b[0m\u001b[0;34m[\u001b[0m\u001b[0;34m'ETHBACKENDPUBLIC'\u001b[0m\u001b[0;34m]\u001b[0m\u001b[0;34m,\u001b[0m\u001b[0;34m\u001b[0m\u001b[0;34m\u001b[0m\u001b[0m\n\u001b[1;32m      4\u001b[0m      \u001b[0;34m'to'\u001b[0m\u001b[0;34m:\u001b[0m \u001b[0mcontract_address\u001b[0m\u001b[0;34m,\u001b[0m\u001b[0;34m\u001b[0m\u001b[0;34m\u001b[0m\u001b[0m\n\u001b[0;32m----> 5\u001b[0;31m      \u001b[0;34m'nonce'\u001b[0m\u001b[0;34m:\u001b[0m \u001b[0mweb3\u001b[0m\u001b[0;34m.\u001b[0m\u001b[0meth\u001b[0m\u001b[0;34m.\u001b[0m\u001b[0mgetTransactionCount\u001b[0m\u001b[0;34m(\u001b[0m\u001b[0msecret\u001b[0m\u001b[0;34m[\u001b[0m\u001b[0;34m'ETHBACKENDPUBLIC'\u001b[0m\u001b[0;34m]\u001b[0m\u001b[0;34m)\u001b[0m\u001b[0;34m\u001b[0m\u001b[0;34m\u001b[0m\u001b[0m\n\u001b[0m\u001b[1;32m      6\u001b[0m     })\n",
      "\u001b[0;32m~/anaconda3/lib/python3.7/site-packages/web3/contract.py\u001b[0m in \u001b[0;36mestimateGas\u001b[0;34m(self, transaction, block_identifier)\u001b[0m\n\u001b[1;32m   1014\u001b[0m             \u001b[0;32mraise\u001b[0m \u001b[0mValueError\u001b[0m\u001b[0;34m(\u001b[0m\u001b[0;34m\"Cannot set data in estimateGas transaction\"\u001b[0m\u001b[0;34m)\u001b[0m\u001b[0;34m\u001b[0m\u001b[0;34m\u001b[0m\u001b[0m\n\u001b[1;32m   1015\u001b[0m         \u001b[0;32mif\u001b[0m \u001b[0;34m'to'\u001b[0m \u001b[0;32min\u001b[0m \u001b[0mestimate_gas_transaction\u001b[0m\u001b[0;34m:\u001b[0m\u001b[0;34m\u001b[0m\u001b[0;34m\u001b[0m\u001b[0m\n\u001b[0;32m-> 1016\u001b[0;31m             \u001b[0;32mraise\u001b[0m \u001b[0mValueError\u001b[0m\u001b[0;34m(\u001b[0m\u001b[0;34m\"Cannot set to in estimateGas transaction\"\u001b[0m\u001b[0;34m)\u001b[0m\u001b[0;34m\u001b[0m\u001b[0;34m\u001b[0m\u001b[0m\n\u001b[0m\u001b[1;32m   1017\u001b[0m \u001b[0;34m\u001b[0m\u001b[0m\n\u001b[1;32m   1018\u001b[0m         \u001b[0;32mif\u001b[0m \u001b[0mself\u001b[0m\u001b[0;34m.\u001b[0m\u001b[0maddress\u001b[0m\u001b[0;34m:\u001b[0m\u001b[0;34m\u001b[0m\u001b[0;34m\u001b[0m\u001b[0m\n",
      "\u001b[0;31mValueError\u001b[0m: Cannot set to in estimateGas transaction"
     ]
    }
   ],
   "source": [
    "contract.functions.rewardAddresses(ids_manageraddresses[campaign_id], int(campaign_id), rewards_pending).estimateGas(    {'gas':3000000, \n",
    "     'gasPrice': web3.toWei('23', 'gwei'),\n",
    "     'from': secret['ETHBACKENDPUBLIC'],\n",
    "     'to': contract_address,\n",
    "     'nonce': web3.eth.getTransactionCount(secret['ETHBACKENDPUBLIC'])\n",
    "    })\n",
    "\n",
    "# https://github.com/ethereum/web3.py/blob/master/web3/contract.py"
   ]
  },
  {
   "cell_type": "code",
   "execution_count": null,
   "metadata": {
    "hidden": true
   },
   "outputs": [],
   "source": []
  },
  {
   "cell_type": "code",
   "execution_count": null,
   "metadata": {
    "hidden": true
   },
   "outputs": [],
   "source": []
  }
 ],
 "metadata": {
  "kernelspec": {
   "display_name": "Python 3",
   "language": "python",
   "name": "python3"
  },
  "language_info": {
   "codemirror_mode": {
    "name": "ipython",
    "version": 3
   },
   "file_extension": ".py",
   "mimetype": "text/x-python",
   "name": "python",
   "nbconvert_exporter": "python",
   "pygments_lexer": "ipython3",
   "version": "3.7.7"
  },
  "varInspector": {
   "cols": {
    "lenName": 16,
    "lenType": 16,
    "lenVar": 40
   },
   "kernels_config": {
    "python": {
     "delete_cmd_postfix": "",
     "delete_cmd_prefix": "del ",
     "library": "var_list.py",
     "varRefreshCmd": "print(var_dic_list())"
    },
    "r": {
     "delete_cmd_postfix": ") ",
     "delete_cmd_prefix": "rm(",
     "library": "var_list.r",
     "varRefreshCmd": "cat(var_dic_list()) "
    }
   },
   "types_to_exclude": [
    "module",
    "function",
    "builtin_function_or_method",
    "instance",
    "_Feature"
   ],
   "window_display": false
  }
 },
 "nbformat": 4,
 "nbformat_minor": 4
}
