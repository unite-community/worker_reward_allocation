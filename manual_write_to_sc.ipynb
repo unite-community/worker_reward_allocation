{
 "cells": [
  {
   "cell_type": "code",
   "execution_count": 38,
   "metadata": {
    "ExecuteTime": {
     "end_time": "2020-12-10T07:49:39.411935Z",
     "start_time": "2020-12-10T07:49:39.404176Z"
    }
   },
   "outputs": [],
   "source": [
    "campaign_id = 1\n",
    "manager_ethereum_address = '0xf9b2F966C3CD7d39066a8534809135Cc945A22A5'"
   ]
  },
  {
   "cell_type": "code",
   "execution_count": 39,
   "metadata": {
    "ExecuteTime": {
     "end_time": "2020-12-10T07:49:39.622456Z",
     "start_time": "2020-12-10T07:49:39.589730Z"
    }
   },
   "outputs": [
    {
     "name": "stdout",
     "output_type": "stream",
     "text": [
      "Connected to infura: https://mainnet.infura.io/v3/1070d8486bc64afdb9c730d6f2850d6c\n"
     ]
    }
   ],
   "source": [
    "import base64\n",
    "import mysql.connector as mysql\n",
    "import datetime\n",
    "import pandas as pd\n",
    "import time\n",
    "import requests\n",
    "\n",
    "import json\n",
    "from web3 import Web3 # https://web3py.readthedocs.io/en/stable/contracts.html#contract-functions\n",
    "\n",
    "#######\n",
    "## INIT\n",
    "#######\n",
    "\n",
    "# load api key\n",
    "secret = {}\n",
    "with open('secret.txt') as f:\n",
    "    lines = f.readlines()\n",
    "    for line in lines:\n",
    "        secret[line.split(\"=\")[0]] = line.split(\"=\")[1].replace(\"\\n\",\"\")\n",
    "\n",
    "# init web3\n",
    "infura_url = secret['INFURAURL1']\n",
    "web3 = Web3(Web3.HTTPProvider(infura_url))\n",
    "print(f\"Connected to infura: {infura_url}\")\n",
    "\n",
    "# load abi\n",
    "with open('abi.json') as f:\n",
    "    abi = json.load(f)\n",
    "\n",
    "# load bytecode\n",
    "with open('bytecode.txt', 'r') as file:\n",
    "    bytecode = file.read().replace('\\n', '')\n",
    "\n",
    "# load contract address\n",
    "contract_address = secret['CONTRACTADDRESS']"
   ]
  },
  {
   "cell_type": "code",
   "execution_count": 40,
   "metadata": {
    "ExecuteTime": {
     "end_time": "2020-12-10T07:49:41.726979Z",
     "start_time": "2020-12-10T07:49:39.758825Z"
    }
   },
   "outputs": [],
   "source": [
    "###########################\n",
    "## GET USER:WALLET MAPPINGS\n",
    "###########################\n",
    "\n",
    "# convert rewards pending twitter handles to wallet ids\n",
    "db = mysql.connect(host=secret['DBHOST'],user=secret['DBUSER'],passwd=secret['DBPASS'],database=secret['DBTABLE'])\n",
    "cursor = db.cursor()\n",
    "query = f'SELECT twitter_handle, ethereum_address FROM users;'\n",
    "cursor.execute(query)\n",
    "records = cursor.fetchall()\n",
    "cursor.close()\n",
    "db.close()\n",
    "# convert to dataframe\n",
    "users = []\n",
    "for record in records:\n",
    "    users.append(dict(zip(['twitter_handle', 'ethereum_address'], record)))\n",
    "# convert to dataframe and lowercase handle\n",
    "users = pd.DataFrame(users)\n",
    "users['twitter_handle'] = users['twitter_handle'].str.lower()\n",
    "\n",
    "# create dicts\n",
    "user_wallets = dict(zip(list(users['twitter_handle']), users['ethereum_address']))\n",
    "wallets_users = dict(zip(list(users['ethereum_address']), users['twitter_handle']))\n",
    "\n",
    "# create list\n",
    "user_list = list(user_wallets.keys())"
   ]
  },
  {
   "cell_type": "code",
   "execution_count": 41,
   "metadata": {
    "ExecuteTime": {
     "end_time": "2020-12-10T07:49:43.538064Z",
     "start_time": "2020-12-10T07:49:41.814285Z"
    }
   },
   "outputs": [
    {
     "name": "stdout",
     "output_type": "stream",
     "text": [
      "DEGBUG: LEN DF 52\n"
     ]
    }
   ],
   "source": [
    "##################################################\n",
    "### get all rewards for this campaign as dataframe\n",
    "##################################################\n",
    "db = mysql.connect(host=secret['DBHOST'],user=secret['DBUSER'],passwd=secret['DBPASS'],database=secret['DBTABLE'])\n",
    "cursor = db.cursor()\n",
    "query = f'SELECT campaign_id, twitter_handle FROM rewards WHERE blockchain_write_time is NULL and manager_ethereum_address = %s and campaign_id = %s;'\n",
    "values = (manager_ethereum_address, campaign_id)\n",
    "cursor.execute(query, values)\n",
    "records_rewards = cursor.fetchall()\n",
    "cursor.close()\n",
    "db.close()\n",
    "# convert to dataframe\n",
    "rewards = []\n",
    "for record in records_rewards:\n",
    "    rewards.append(dict(zip(['campaign_id', 'twitter_handle'], record)))\n",
    "df = pd.DataFrame(rewards)\n",
    "print(f\"DEGBUG: LEN DF {len(df)}\")"
   ]
  },
  {
   "cell_type": "code",
   "execution_count": 34,
   "metadata": {
    "ExecuteTime": {
     "end_time": "2020-12-09T20:55:05.346806Z",
     "start_time": "2020-12-09T20:55:05.342057Z"
    }
   },
   "outputs": [],
   "source": [
    "###################################################\n",
    "### GET LIST OF WALLETS TO REWARD FOR THIS CAMPAIGN\n",
    "###################################################\n",
    "\n",
    "# list of handles to reward\n",
    "rewards_pending = list(df[df['campaign_id'] == campaign_id]['twitter_handle'])\n",
    "\n",
    "# convert from twitter handles to wallets\n",
    "rewards_pending = [user_wallets[r] for r in rewards_pending]"
   ]
  },
  {
   "cell_type": "code",
   "execution_count": 35,
   "metadata": {
    "ExecuteTime": {
     "end_time": "2020-12-09T20:55:05.412105Z",
     "start_time": "2020-12-09T20:55:05.397274Z"
    }
   },
   "outputs": [
    {
     "name": "stdout",
     "output_type": "stream",
     "text": [
      "10 rewards_pending\n",
      "0xB20A327C9b4Da091f454B1Ce0E2e4DC5C128b5B4 merlinegalite\n",
      "0xf925fDAEA552d36a5291335941Ab7A046F960a80 albiverse\n",
      "0x8348CA8492B3A94838454ee97f33Ab358cCD9109 cryptononymouse\n",
      "0x9885a84930E3C8c865A1D3dEBDC204F990BaB7C3 bitsikka\n",
      "0x87e32D4631D728d6aD7EBcD133b11FeBC9DA9b93 ___magnus___\n",
      "0x7e30C4cfFDbe6df08cD258Ee723d1fcd8D234b4f learn2earn14\n",
      "0x23B1FCB23DAb5bE7DfeCa6Ca2f7D24B90495fFC8 motoki304\n",
      "0x16Df45560dCBdc85825d2015bBd2f03Fc5676B71 _mistergore_\n",
      "0x5bDC20C8D3b00268c1CB0D1Ae404956B6feEf19A goldenberglior\n",
      "0x7Eb97437FDFa3e42C13eB36f2D61E2D12Fd3aB02 abcxd15\n"
     ]
    }
   ],
   "source": [
    "print(f\"{len(rewards_pending)} rewards_pending\")\n",
    "for reward_pending in rewards_pending:\n",
    "    print(reward_pending, wallets_users[reward_pending])"
   ]
  },
  {
   "cell_type": "code",
   "execution_count": 36,
   "metadata": {
    "ExecuteTime": {
     "end_time": "2020-12-09T20:55:05.483941Z",
     "start_time": "2020-12-09T20:55:05.478415Z"
    }
   },
   "outputs": [],
   "source": [
    "# # MANUAL OVERRIDE FOR DEBUGGING - COMMENT OUT BELOW FOR REAL SC WRITE\n",
    "# rewards_pending = []\n",
    "# rewards_pending.append('0xf364D67fBaFEc468AA1F3123958fc9c3d6DeCc53') # alxcnwy"
   ]
  },
  {
   "cell_type": "code",
   "execution_count": 37,
   "metadata": {
    "ExecuteTime": {
     "end_time": "2020-12-09T22:08:38.081423Z",
     "start_time": "2020-12-09T20:55:05.529267Z"
    },
    "scrolled": false
   },
   "outputs": [
    {
     "name": "stdout",
     "output_type": "stream",
     "text": [
      "Creating SC tx 1/10 to reward 0xB20A327C9b4Da091f454B1Ce0E2e4DC5C128b5B4\n",
      "GasPrice fetched from ethgasstation.info 25\n",
      "TX hash: 0x8112129677a0faad16a6903d21b5544e5f2ae0599d5d851b036d40509e423044\n",
      "AttributeDict({'blockHash': HexBytes('0xfc0d9062da8b5c4fc1bc45f6c61d80c7419cf8bcc645dbf575300c45070dbe72'), 'blockNumber': 11421131, 'contractAddress': None, 'cumulativeGasUsed': 9048221, 'from': '0xe9540071278Dba4374A42a84B48c5e230328AeF7', 'gasUsed': 130280, 'logs': [AttributeDict({'address': '0xe7b8897D824C78e5C1076023508C43Eace3D2Afc', 'blockHash': HexBytes('0xfc0d9062da8b5c4fc1bc45f6c61d80c7419cf8bcc645dbf575300c45070dbe72'), 'blockNumber': 11421131, 'data': '0x000000000000000000000000537a9095b78517597b5f2058edcd6e197809590900000000000000000000000000000000000000000000000000000000000f4240', 'logIndex': 191, 'removed': False, 'topics': [HexBytes('0xeeecc2fca78e5b3eaac3c78bc0db4c19d0b8d600a75bbb4911c4a5e458a515ac'), HexBytes('0x000000000000000000000000f9b2f966c3cd7d39066a8534809135cc945a22a5'), HexBytes('0x0000000000000000000000000000000000000000000000000000000000000001'), HexBytes('0x000000000000000000000000b20a327c9b4da091f454b1ce0e2e4dc5c128b5b4')], 'transactionHash': HexBytes('0x8112129677a0faad16a6903d21b5544e5f2ae0599d5d851b036d40509e423044'), 'transactionIndex': 84})], 'logsBloom': HexBytes('0x00000020000000000000000000000000000000000000000000000000000000000000000000040000000000000000000000000000000000000000100000040000000000000000000000000000000000000000000000040040000000000000000000000000000000000400000000000000000008000004000000080000000000000000200000000000000000000000000000000000000000000000000000000000000000000400000000000000000000000000000000000000000000000000000040000000000000000000000000000000000000000000000000000000000040000000000000000000000000000000000000000000000000000000000040000000'), 'status': 1, 'to': '0xe7b8897D824C78e5C1076023508C43Eace3D2Afc', 'transactionHash': HexBytes('0x8112129677a0faad16a6903d21b5544e5f2ae0599d5d851b036d40509e423044'), 'transactionIndex': 84})\n",
      "LOGGING: b'\\x81\\x12\\x12\\x96w\\xa0\\xfa\\xad\\x16\\xa6\\x90=!\\xb5TN_*\\xe0Y\\x9d]\\x85\\x1b\\x03m@P\\x9eB0D', rewarding: 0xB20A327C9b4Da091f454B1Ce0E2e4DC5C128b5B4, manager: 0xf9b2F966C3CD7d39066a8534809135Cc945A22A5, \n",
      "SUCCESS writing rewards to SC for campaign 1 tx: 0x8112129677a0faad16a6903d21b5544e5f2ae0599d5d851b036d40509e423044\n",
      "1 record updated\n",
      "Creating SC tx 2/10 to reward 0xf925fDAEA552d36a5291335941Ab7A046F960a80\n",
      "GasPrice fetched from ethgasstation.info 30\n",
      "TX hash: 0xc11b21f9f842af95d83f1fa9e8de3957ab8cd828a4bad6d758cc3e007666b3ac\n",
      "AttributeDict({'blockHash': HexBytes('0xc81d1c872b4711c1f69182190568fab2d21a0fc165ae8dab6987e498bda290cd'), 'blockNumber': 11421311, 'contractAddress': None, 'cumulativeGasUsed': 11868519, 'from': '0xe9540071278Dba4374A42a84B48c5e230328AeF7', 'gasUsed': 130280, 'logs': [AttributeDict({'address': '0xe7b8897D824C78e5C1076023508C43Eace3D2Afc', 'blockHash': HexBytes('0xc81d1c872b4711c1f69182190568fab2d21a0fc165ae8dab6987e498bda290cd'), 'blockNumber': 11421311, 'data': '0x000000000000000000000000537a9095b78517597b5f2058edcd6e197809590900000000000000000000000000000000000000000000000000000000000f4240', 'logIndex': 190, 'removed': False, 'topics': [HexBytes('0xeeecc2fca78e5b3eaac3c78bc0db4c19d0b8d600a75bbb4911c4a5e458a515ac'), HexBytes('0x000000000000000000000000f9b2f966c3cd7d39066a8534809135cc945a22a5'), HexBytes('0x0000000000000000000000000000000000000000000000000000000000000001'), HexBytes('0x000000000000000000000000f925fdaea552d36a5291335941ab7a046f960a80')], 'transactionHash': HexBytes('0xc11b21f9f842af95d83f1fa9e8de3957ab8cd828a4bad6d758cc3e007666b3ac'), 'transactionIndex': 288})], 'logsBloom': HexBytes('0x00000020000000000000000000000000000000000000000000000000000000000000000000040000000000000000000000000000000000000000100000040000000000000000000000000000000000004000000000040040000000000000000000000000000000000400000000000200000000000004000000000000000000000000200000000000000000000000000000000000000000000000000000000000000000000400000000000000000000000000000000000000000000000000000000000000000000000000000000000000000000000000000000000000000040000000000000000000000000000000000008000000000000000000000040000000'), 'status': 1, 'to': '0xe7b8897D824C78e5C1076023508C43Eace3D2Afc', 'transactionHash': HexBytes('0xc11b21f9f842af95d83f1fa9e8de3957ab8cd828a4bad6d758cc3e007666b3ac'), 'transactionIndex': 288})\n",
      "LOGGING: b'\\xc1\\x1b!\\xf9\\xf8B\\xaf\\x95\\xd8?\\x1f\\xa9\\xe8\\xde9W\\xab\\x8c\\xd8(\\xa4\\xba\\xd6\\xd7X\\xcc>\\x00vf\\xb3\\xac', rewarding: 0xf925fDAEA552d36a5291335941Ab7A046F960a80, manager: 0xf9b2F966C3CD7d39066a8534809135Cc945A22A5, \n",
      "SUCCESS writing rewards to SC for campaign 1 tx: 0xc11b21f9f842af95d83f1fa9e8de3957ab8cd828a4bad6d758cc3e007666b3ac\n",
      "1 record updated\n",
      "Creating SC tx 3/10 to reward 0x8348CA8492B3A94838454ee97f33Ab358cCD9109\n",
      "GasPrice fetched from ethgasstation.info 40\n",
      "TX hash: 0x84835766bdef5ae5668cb32e50df6d74d66d6a9ff8c439dfa47ea70f92b08181\n",
      "AttributeDict({'blockHash': HexBytes('0xdef3072b3821fc3b86942e5021017d672ac3342e7a63557300a8c67c95eda020'), 'blockNumber': 11421313, 'contractAddress': None, 'cumulativeGasUsed': 3445164, 'from': '0xe9540071278Dba4374A42a84B48c5e230328AeF7', 'gasUsed': 145280, 'logs': [AttributeDict({'address': '0xe7b8897D824C78e5C1076023508C43Eace3D2Afc', 'blockHash': HexBytes('0xdef3072b3821fc3b86942e5021017d672ac3342e7a63557300a8c67c95eda020'), 'blockNumber': 11421313, 'data': '0x000000000000000000000000537a9095b78517597b5f2058edcd6e197809590900000000000000000000000000000000000000000000000000000000000f4240', 'logIndex': 78, 'removed': False, 'topics': [HexBytes('0xeeecc2fca78e5b3eaac3c78bc0db4c19d0b8d600a75bbb4911c4a5e458a515ac'), HexBytes('0x000000000000000000000000f9b2f966c3cd7d39066a8534809135cc945a22a5'), HexBytes('0x0000000000000000000000000000000000000000000000000000000000000001'), HexBytes('0x0000000000000000000000008348ca8492b3a94838454ee97f33ab358ccd9109')], 'transactionHash': HexBytes('0x84835766bdef5ae5668cb32e50df6d74d66d6a9ff8c439dfa47ea70f92b08181'), 'transactionIndex': 44})], 'logsBloom': HexBytes('0x00000020000000000000000000000000000000000000000000000000000000000000000000140000000000000000000000000000000000000000100000040000000000000000000000000000000000000000000000040040000000000000000000000000000000000400000000000000000000000004000000000000000000000000200000000000400000000000000000008000000000000000000000000000000000000400000000000000000000000000000000000000000000000000000000000000000000000000000000000000000000000000000000000000000040000000000000000000000000000000000000000000000000000000000040000000'), 'status': 1, 'to': '0xe7b8897D824C78e5C1076023508C43Eace3D2Afc', 'transactionHash': HexBytes('0x84835766bdef5ae5668cb32e50df6d74d66d6a9ff8c439dfa47ea70f92b08181'), 'transactionIndex': 44})\n",
      "LOGGING: b'\\x84\\x83Wf\\xbd\\xefZ\\xe5f\\x8c\\xb3.P\\xdfmt\\xd6mj\\x9f\\xf8\\xc49\\xdf\\xa4~\\xa7\\x0f\\x92\\xb0\\x81\\x81', rewarding: 0x8348CA8492B3A94838454ee97f33Ab358cCD9109, manager: 0xf9b2F966C3CD7d39066a8534809135Cc945A22A5, \n",
      "SUCCESS writing rewards to SC for campaign 1 tx: 0x84835766bdef5ae5668cb32e50df6d74d66d6a9ff8c439dfa47ea70f92b08181\n",
      "1 record updated\n",
      "Creating SC tx 4/10 to reward 0x9885a84930E3C8c865A1D3dEBDC204F990BaB7C3\n",
      "GasPrice fetched from ethgasstation.info 40\n",
      "TX hash: 0xeb8eb0c045bcfd70de95536ee67e27d142cc9c0ce8f8e7fcf7a5af97e6ea6fe3\n",
      "AttributeDict({'blockHash': HexBytes('0xef95dcdd7aa8932ad8dbb9037f4147d4f6cb5579b2a1ddbf4f2bd964b09c6e9b'), 'blockNumber': 11421315, 'contractAddress': None, 'cumulativeGasUsed': 9974027, 'from': '0xe9540071278Dba4374A42a84B48c5e230328AeF7', 'gasUsed': 130280, 'logs': [AttributeDict({'address': '0xe7b8897D824C78e5C1076023508C43Eace3D2Afc', 'blockHash': HexBytes('0xef95dcdd7aa8932ad8dbb9037f4147d4f6cb5579b2a1ddbf4f2bd964b09c6e9b'), 'blockNumber': 11421315, 'data': '0x000000000000000000000000537a9095b78517597b5f2058edcd6e197809590900000000000000000000000000000000000000000000000000000000000f4240', 'logIndex': 245, 'removed': False, 'topics': [HexBytes('0xeeecc2fca78e5b3eaac3c78bc0db4c19d0b8d600a75bbb4911c4a5e458a515ac'), HexBytes('0x000000000000000000000000f9b2f966c3cd7d39066a8534809135cc945a22a5'), HexBytes('0x0000000000000000000000000000000000000000000000000000000000000001'), HexBytes('0x0000000000000000000000009885a84930e3c8c865a1d3debdc204f990bab7c3')], 'transactionHash': HexBytes('0xeb8eb0c045bcfd70de95536ee67e27d142cc9c0ce8f8e7fcf7a5af97e6ea6fe3'), 'transactionIndex': 142})], 'logsBloom': HexBytes('0x00000020000000000000000000000000000000080000000000000000000000000000000000040800000000000000000000000000000000000000100000040000000000000000010000000000000000000000000000040040000000000000000000000000000000000400000000000000000000000004000000000000000000000000200000000000000000000000000000000000000000000000000000000000000000000400000000000000000000000000000000000000000000000000000000000000000000000000000000000000000000000000000000000000000040000000000000000000000000000000000000000000000000000000000040000000'), 'status': 1, 'to': '0xe7b8897D824C78e5C1076023508C43Eace3D2Afc', 'transactionHash': HexBytes('0xeb8eb0c045bcfd70de95536ee67e27d142cc9c0ce8f8e7fcf7a5af97e6ea6fe3'), 'transactionIndex': 142})\n",
      "LOGGING: b\"\\xeb\\x8e\\xb0\\xc0E\\xbc\\xfdp\\xde\\x95Sn\\xe6~'\\xd1B\\xcc\\x9c\\x0c\\xe8\\xf8\\xe7\\xfc\\xf7\\xa5\\xaf\\x97\\xe6\\xeao\\xe3\", rewarding: 0x9885a84930E3C8c865A1D3dEBDC204F990BaB7C3, manager: 0xf9b2F966C3CD7d39066a8534809135Cc945A22A5, \n",
      "SUCCESS writing rewards to SC for campaign 1 tx: 0xeb8eb0c045bcfd70de95536ee67e27d142cc9c0ce8f8e7fcf7a5af97e6ea6fe3\n"
     ]
    },
    {
     "name": "stdout",
     "output_type": "stream",
     "text": [
      "1 record updated\n",
      "Creating SC tx 5/10 to reward 0x87e32D4631D728d6aD7EBcD133b11FeBC9DA9b93\n",
      "GasPrice fetched from ethgasstation.info 39\n",
      "TX hash: 0xc30c23ea0cea9934411742718ff69596508e3b22d8b80b3f2a3dbf36fba62de0\n",
      "AttributeDict({'blockHash': HexBytes('0xf08768d1b8a147f3272b40f5aae9ec6834651e30d95208a9f702ea1d4eb419b9'), 'blockNumber': 11421316, 'contractAddress': None, 'cumulativeGasUsed': 11568593, 'from': '0xe9540071278Dba4374A42a84B48c5e230328AeF7', 'gasUsed': 130280, 'logs': [AttributeDict({'address': '0xe7b8897D824C78e5C1076023508C43Eace3D2Afc', 'blockHash': HexBytes('0xf08768d1b8a147f3272b40f5aae9ec6834651e30d95208a9f702ea1d4eb419b9'), 'blockNumber': 11421316, 'data': '0x000000000000000000000000537a9095b78517597b5f2058edcd6e197809590900000000000000000000000000000000000000000000000000000000000f4240', 'logIndex': 310, 'removed': False, 'topics': [HexBytes('0xeeecc2fca78e5b3eaac3c78bc0db4c19d0b8d600a75bbb4911c4a5e458a515ac'), HexBytes('0x000000000000000000000000f9b2f966c3cd7d39066a8534809135cc945a22a5'), HexBytes('0x0000000000000000000000000000000000000000000000000000000000000001'), HexBytes('0x00000000000000000000000087e32d4631d728d6ad7ebcd133b11febc9da9b93')], 'transactionHash': HexBytes('0xc30c23ea0cea9934411742718ff69596508e3b22d8b80b3f2a3dbf36fba62de0'), 'transactionIndex': 126})], 'logsBloom': HexBytes('0x00000020000000000000000000000000000000000000000000000000000000000000000000040000000000000000000000000001000000000000100000040000000000000000000000000000000000000000000000040040000000000000000000000000000000000400000000000000000000000004000000000000000000000000200000000000000000000000000000000000000000000000000000000000000000000400000000000000000000000000000000000000000000000000000000000000000000002000000000000000000000000000000000000000000040000000000000000000010000000000000000000000000000000000000040000000'), 'status': 1, 'to': '0xe7b8897D824C78e5C1076023508C43Eace3D2Afc', 'transactionHash': HexBytes('0xc30c23ea0cea9934411742718ff69596508e3b22d8b80b3f2a3dbf36fba62de0'), 'transactionIndex': 126})\n",
      "LOGGING: b'\\xc3\\x0c#\\xea\\x0c\\xea\\x994A\\x17Bq\\x8f\\xf6\\x95\\x96P\\x8e;\"\\xd8\\xb8\\x0b?*=\\xbf6\\xfb\\xa6-\\xe0', rewarding: 0x87e32D4631D728d6aD7EBcD133b11FeBC9DA9b93, manager: 0xf9b2F966C3CD7d39066a8534809135Cc945A22A5, \n",
      "SUCCESS writing rewards to SC for campaign 1 tx: 0xc30c23ea0cea9934411742718ff69596508e3b22d8b80b3f2a3dbf36fba62de0\n",
      "1 record updated\n",
      "Creating SC tx 6/10 to reward 0x7e30C4cfFDbe6df08cD258Ee723d1fcd8D234b4f\n",
      "GasPrice fetched from ethgasstation.info 40\n"
     ]
    },
    {
     "ename": "ValueError",
     "evalue": "{'code': -32000, 'message': 'nonce too low'}",
     "output_type": "error",
     "traceback": [
      "\u001b[0;31m---------------------------------------------------------------------------\u001b[0m",
      "\u001b[0;31mValueError\u001b[0m                                Traceback (most recent call last)",
      "\u001b[0;32m<ipython-input-37-da1ebbc2dbbe>\u001b[0m in \u001b[0;36m<module>\u001b[0;34m\u001b[0m\n\u001b[1;32m     31\u001b[0m \u001b[0;34m\u001b[0m\u001b[0m\n\u001b[1;32m     32\u001b[0m     \u001b[0msigned_txn\u001b[0m \u001b[0;34m=\u001b[0m \u001b[0mweb3\u001b[0m\u001b[0;34m.\u001b[0m\u001b[0meth\u001b[0m\u001b[0;34m.\u001b[0m\u001b[0maccount\u001b[0m\u001b[0;34m.\u001b[0m\u001b[0msignTransaction\u001b[0m\u001b[0;34m(\u001b[0m\u001b[0mtx\u001b[0m\u001b[0;34m,\u001b[0m \u001b[0mprivate_key\u001b[0m\u001b[0;34m=\u001b[0m\u001b[0msecret\u001b[0m\u001b[0;34m[\u001b[0m\u001b[0;34m'ETHBACKENDPRIVATE'\u001b[0m\u001b[0;34m]\u001b[0m\u001b[0;34m)\u001b[0m\u001b[0;34m\u001b[0m\u001b[0;34m\u001b[0m\u001b[0m\n\u001b[0;32m---> 33\u001b[0;31m     \u001b[0mtx_hash\u001b[0m \u001b[0;34m=\u001b[0m \u001b[0mweb3\u001b[0m\u001b[0;34m.\u001b[0m\u001b[0meth\u001b[0m\u001b[0;34m.\u001b[0m\u001b[0msendRawTransaction\u001b[0m\u001b[0;34m(\u001b[0m\u001b[0msigned_txn\u001b[0m\u001b[0;34m.\u001b[0m\u001b[0mrawTransaction\u001b[0m\u001b[0;34m)\u001b[0m\u001b[0;34m\u001b[0m\u001b[0;34m\u001b[0m\u001b[0m\n\u001b[0m\u001b[1;32m     34\u001b[0m     \u001b[0mprint\u001b[0m\u001b[0;34m(\u001b[0m\u001b[0;34mf\"TX hash: {tx_hash.hex()}\"\u001b[0m\u001b[0;34m)\u001b[0m\u001b[0;34m\u001b[0m\u001b[0;34m\u001b[0m\u001b[0m\n\u001b[1;32m     35\u001b[0m     \u001b[0mreceipt\u001b[0m \u001b[0;34m=\u001b[0m \u001b[0mweb3\u001b[0m\u001b[0;34m.\u001b[0m\u001b[0meth\u001b[0m\u001b[0;34m.\u001b[0m\u001b[0mwaitForTransactionReceipt\u001b[0m\u001b[0;34m(\u001b[0m\u001b[0mtx_hash\u001b[0m\u001b[0;34m,\u001b[0m \u001b[0mtimeout\u001b[0m\u001b[0;34m=\u001b[0m\u001b[0;36m3600\u001b[0m\u001b[0;34m)\u001b[0m\u001b[0;34m\u001b[0m\u001b[0;34m\u001b[0m\u001b[0m\n",
      "\u001b[0;32m~/anaconda3/lib/python3.7/site-packages/web3/module.py\u001b[0m in \u001b[0;36mcaller\u001b[0;34m(*args, **kwargs)\u001b[0m\n\u001b[1;32m     42\u001b[0m         \u001b[0;34m(\u001b[0m\u001b[0mmethod_str\u001b[0m\u001b[0;34m,\u001b[0m \u001b[0mparams\u001b[0m\u001b[0;34m)\u001b[0m\u001b[0;34m,\u001b[0m \u001b[0mresponse_formatters\u001b[0m \u001b[0;34m=\u001b[0m \u001b[0mmethod\u001b[0m\u001b[0;34m.\u001b[0m\u001b[0mprocess_params\u001b[0m\u001b[0;34m(\u001b[0m\u001b[0mmodule\u001b[0m\u001b[0;34m,\u001b[0m \u001b[0;34m*\u001b[0m\u001b[0margs\u001b[0m\u001b[0;34m,\u001b[0m \u001b[0;34m**\u001b[0m\u001b[0mkwargs\u001b[0m\u001b[0;34m)\u001b[0m\u001b[0;34m\u001b[0m\u001b[0;34m\u001b[0m\u001b[0m\n\u001b[1;32m     43\u001b[0m         \u001b[0mresult_formatters\u001b[0m\u001b[0;34m,\u001b[0m \u001b[0merror_formatters\u001b[0m \u001b[0;34m=\u001b[0m \u001b[0mresponse_formatters\u001b[0m\u001b[0;34m\u001b[0m\u001b[0;34m\u001b[0m\u001b[0m\n\u001b[0;32m---> 44\u001b[0;31m         \u001b[0mresult\u001b[0m \u001b[0;34m=\u001b[0m \u001b[0mw3\u001b[0m\u001b[0;34m.\u001b[0m\u001b[0mmanager\u001b[0m\u001b[0;34m.\u001b[0m\u001b[0mrequest_blocking\u001b[0m\u001b[0;34m(\u001b[0m\u001b[0mmethod_str\u001b[0m\u001b[0;34m,\u001b[0m \u001b[0mparams\u001b[0m\u001b[0;34m,\u001b[0m \u001b[0merror_formatters\u001b[0m\u001b[0;34m)\u001b[0m\u001b[0;34m\u001b[0m\u001b[0;34m\u001b[0m\u001b[0m\n\u001b[0m\u001b[1;32m     45\u001b[0m         \u001b[0;32mreturn\u001b[0m \u001b[0mapply_result_formatters\u001b[0m\u001b[0;34m(\u001b[0m\u001b[0mresult_formatters\u001b[0m\u001b[0;34m,\u001b[0m \u001b[0mresult\u001b[0m\u001b[0;34m)\u001b[0m\u001b[0;34m\u001b[0m\u001b[0;34m\u001b[0m\u001b[0m\n\u001b[1;32m     46\u001b[0m     \u001b[0;32mreturn\u001b[0m \u001b[0mcaller\u001b[0m\u001b[0;34m\u001b[0m\u001b[0;34m\u001b[0m\u001b[0m\n",
      "\u001b[0;32m~/anaconda3/lib/python3.7/site-packages/web3/manager.py\u001b[0m in \u001b[0;36mrequest_blocking\u001b[0;34m(self, method, params, error_formatters)\u001b[0m\n\u001b[1;32m    156\u001b[0m         \u001b[0;32mif\u001b[0m \u001b[0;34m\"error\"\u001b[0m \u001b[0;32min\u001b[0m \u001b[0mresponse\u001b[0m\u001b[0;34m:\u001b[0m\u001b[0;34m\u001b[0m\u001b[0;34m\u001b[0m\u001b[0m\n\u001b[1;32m    157\u001b[0m             \u001b[0mapply_error_formatters\u001b[0m\u001b[0;34m(\u001b[0m\u001b[0merror_formatters\u001b[0m\u001b[0;34m,\u001b[0m \u001b[0mresponse\u001b[0m\u001b[0;34m)\u001b[0m\u001b[0;34m\u001b[0m\u001b[0;34m\u001b[0m\u001b[0m\n\u001b[0;32m--> 158\u001b[0;31m             \u001b[0;32mraise\u001b[0m \u001b[0mValueError\u001b[0m\u001b[0;34m(\u001b[0m\u001b[0mresponse\u001b[0m\u001b[0;34m[\u001b[0m\u001b[0;34m\"error\"\u001b[0m\u001b[0;34m]\u001b[0m\u001b[0;34m)\u001b[0m\u001b[0;34m\u001b[0m\u001b[0;34m\u001b[0m\u001b[0m\n\u001b[0m\u001b[1;32m    159\u001b[0m         \u001b[0;32melif\u001b[0m \u001b[0mresponse\u001b[0m\u001b[0;34m[\u001b[0m\u001b[0;34m'result'\u001b[0m\u001b[0;34m]\u001b[0m \u001b[0;32mis\u001b[0m \u001b[0;32mNone\u001b[0m\u001b[0;34m:\u001b[0m\u001b[0;34m\u001b[0m\u001b[0;34m\u001b[0m\u001b[0m\n\u001b[1;32m    160\u001b[0m             \u001b[0mapply_error_formatters\u001b[0m\u001b[0;34m(\u001b[0m\u001b[0merror_formatters\u001b[0m\u001b[0;34m,\u001b[0m \u001b[0mresponse\u001b[0m\u001b[0;34m,\u001b[0m \u001b[0mparams\u001b[0m\u001b[0;34m)\u001b[0m\u001b[0;34m\u001b[0m\u001b[0;34m\u001b[0m\u001b[0m\n",
      "\u001b[0;31mValueError\u001b[0m: {'code': -32000, 'message': 'nonce too low'}"
     ]
    }
   ],
   "source": [
    "for i, reward_pending in enumerate(rewards_pending):\n",
    "    print(f\"Creating SC tx {i+1}/{len(rewards_pending)} to reward {reward_pending}\")\n",
    "\n",
    "    ###################################\n",
    "    ### WRITE REWARDS TO SMART CONTRACT\n",
    "    ###################################\n",
    "    \n",
    "    # get gas price from ethgasstation.info\n",
    "    gasPrice = 45\n",
    "    try:\n",
    "        headers = {'User-Agent': 'blah',}\n",
    "        response = requests.get('https://ethgasstation.info/json/ethgasAPI.json', headers=headers)\n",
    "        gasPrice = int(response.json()['average']/10)\n",
    "        print(f\"GasPrice fetched from ethgasstation.info {gasPrice}\")\n",
    "    except Exception as e:\n",
    "        print(\"ERROR FETCHING GAS PRICE - using default of 25\")\n",
    "        print(e)\n",
    "\n",
    "    # OVERRIDE\n",
    "#     gasPrice = 45\n",
    "\n",
    "    contract = web3.eth.contract(abi=abi, bytecode=bytecode)\n",
    "\n",
    "    tx = contract.functions.rewardAddresses(manager_ethereum_address, campaign_id, [reward_pending]).buildTransaction(\n",
    "        {'gas':250000,\n",
    "         'gasPrice': web3.toWei(gasPrice, 'gwei'),\n",
    "         'from': secret['ETHBACKENDPUBLIC'],\n",
    "         'to': contract_address,\n",
    "         'nonce': web3.eth.getTransactionCount(secret['ETHBACKENDPUBLIC'])\n",
    "        })\n",
    "\n",
    "    signed_txn = web3.eth.account.signTransaction(tx, private_key=secret['ETHBACKENDPRIVATE'])\n",
    "    tx_hash = web3.eth.sendRawTransaction(signed_txn.rawTransaction)\n",
    "    print(f\"TX hash: {tx_hash.hex()}\")\n",
    "    receipt = web3.eth.waitForTransactionReceipt(tx_hash, timeout=3600)\n",
    "    print(receipt)\n",
    "\n",
    "    print(f\"LOGGING: {tx_hash}, rewarding: {reward_pending}, manager: {manager_ethereum_address}, \")\n",
    "\n",
    "    if receipt['status'] == 1:\n",
    "        print(f\"SUCCESS writing rewards to SC for campaign {campaign_id} tx: {tx_hash.hex()}\")\n",
    "\n",
    "        # update blockchain_write_time\n",
    "        db = mysql.connect(host=secret['DBHOST'],user=secret['DBUSER'],passwd=secret['DBPASS'],database=secret['DBTABLE'])\n",
    "        cursor = db.cursor()\n",
    "        query = \"UPDATE rewards SET blockchain_write_time=%s, blockchain_write_tx_hash=%s, gas_used=%s, blockchain_write_tx_status=%s WHERE campaign_id=%s AND manager_ethereum_address=%s AND twitter_handle=%s;\"\n",
    "        values = (str(datetime.datetime.now()).split('.')[0], str(tx_hash.hex()), receipt['gasUsed'], 1, str(campaign_id), manager_ethereum_address, wallets_users[reward_pending])\n",
    "        cursor.execute(query, values)\n",
    "        db.commit()\n",
    "        print(cursor.rowcount, \"record updated\")\n",
    "        cursor.close()\n",
    "        db.close()  \n",
    "    else:\n",
    "        print(f\"ERROR FAIL writing rewards to SC for campaign {campaign_id} tx: {tx_hash.hex()}\")"
   ]
  },
  {
   "cell_type": "markdown",
   "metadata": {
    "heading_collapsed": true
   },
   "source": [
    "# Check confirmation status"
   ]
  },
  {
   "cell_type": "code",
   "execution_count": 59,
   "metadata": {
    "ExecuteTime": {
     "end_time": "2020-11-28T20:17:23.765567Z",
     "start_time": "2020-11-28T20:17:14.104055Z"
    },
    "collapsed": true,
    "hidden": true
   },
   "outputs": [
    {
     "name": "stdout",
     "output_type": "stream",
     "text": [
      "Rewarding 1/1 0xe9540071278Dba4374A42a84B48c5e230328AeF7\n",
      "TX hash: 0xb1cee719715c454467106ffc2c6b73c6234b74f7b5486bf84c336fb49b70e618\n",
      "AttributeDict({'blockHash': HexBytes('0xffb054245778a31764542448d8fb31a865865ad0cadf4a5465ee2f1ac315d557'), 'blockNumber': 22328506, 'contractAddress': None, 'cumulativeGasUsed': 22208, 'from': '0xe9540071278Dba4374A42a84B48c5e230328AeF7', 'gasUsed': 22208, 'logs': [], 'logsBloom': HexBytes('0x00000000000000000000000000000000000000000000000000000000000000000000000000000000000000000000000000000000000000000000000000000000000000000000000000000000000000000000000000000000000000000000000000000000000000000000000000000000000000000000000000000000000000000000000000000000000000000000000000000000000000000000000000000000000000000000000000000000000000000000000000000000000000000000000000000000000000000000000000000000000000000000000000000000000000000000000000000000000000000000000000000000000000000000000000000000'), 'status': 1, 'to': '0xe7b8897D824C78e5C1076023508C43Eace3D2Afc', 'transactionHash': HexBytes('0xb1cee719715c454467106ffc2c6b73c6234b74f7b5486bf84c336fb49b70e618'), 'transactionIndex': 0})\n",
      "SUCCESS writing rewards to SC for campaign 1 tx: 0xb1cee719715c454467106ffc2c6b73c6234b74f7b5486bf84c336fb49b70e618\n",
      "1 record updated\n"
     ]
    }
   ],
   "source": [
    "##############################################################\n",
    "### check confirmation status for all unconfirmed transactions\n",
    "##############################################################\n",
    "\n",
    "# get all unconfirmed txs\n",
    "db = mysql.connect(host=secret['DBHOST'],user=secret['DBUSER'],passwd=secret['DBPASS'],database=secret['DBTABLE'])\n",
    "cursor = db.cursor()\n",
    "query = f'SELECT blockchain_write_tx_hash FROM rewards WHERE blockchain_write_tx_status = 0;'\n",
    "cursor.execute(query)\n",
    "records_txs = cursor.fetchall()\n",
    "cursor.close()\n",
    "db.close()\n",
    "# convert to dataframe\n",
    "txs = []\n",
    "for record in records_txs:\n",
    "    txs.append(record[0])\n",
    "print(f\"DEGBUG: UNCONFIRMED TXS {len(txs)}\")\n",
    "\n",
    "# check tx status and update db if confirmed\n",
    "for tx in txs:\n",
    "    receipt = web3.eth.getTransactionReceipt(tx)\n",
    "    \n",
    "    if receipt['status'] == 1:\n",
    "        # update blockchain_write_time\n",
    "        db = mysql.connect(host=secret['DBHOST'],user=secret['DBUSER'],passwd=secret['DBPASS'],database=secret['DBTABLE'])\n",
    "        cursor = db.cursor()\n",
    "        query = \"UPDATE rewards SET blockchain_write_time=%s, blockchain_write_tx_status=%s, gas_used=%s WHERE campaign_id=%s AND manager_ethereum_address=%s AND twitter_handle=%s;\"\n",
    "        values = (str(datetime.datetime.now()).split('.')[0], 1, receipt['gasUsed'], str(campaign_id), manager_ethereum_address, wallets_users[reward_pending])\n",
    "        cursor.execute(query, values)\n",
    "        db.commit()\n",
    "        print(cursor.rowcount, \"record updated\")\n",
    "        cursor.close()\n",
    "        db.close() \n",
    "    else:\n",
    "        print(f\"ERROR - {tx} receipt status != 1\")\n",
    "        print(receipt)"
   ]
  },
  {
   "cell_type": "markdown",
   "metadata": {
    "heading_collapsed": true
   },
   "source": [
    "# Estimate gas"
   ]
  },
  {
   "cell_type": "code",
   "execution_count": 57,
   "metadata": {
    "ExecuteTime": {
     "end_time": "2020-11-28T08:28:27.411439Z",
     "start_time": "2020-11-28T08:28:27.407628Z"
    },
    "hidden": true
   },
   "outputs": [],
   "source": [
    "contract.address = contract_address"
   ]
  },
  {
   "cell_type": "code",
   "execution_count": 58,
   "metadata": {
    "ExecuteTime": {
     "end_time": "2020-11-28T08:28:31.190721Z",
     "start_time": "2020-11-28T08:28:31.183984Z"
    },
    "hidden": true
   },
   "outputs": [
    {
     "data": {
      "text/plain": [
       "'0xe7b8897D824C78e5C1076023508C43Eace3D2Afc'"
      ]
     },
     "execution_count": 58,
     "metadata": {},
     "output_type": "execute_result"
    }
   ],
   "source": [
    "contract.address"
   ]
  },
  {
   "cell_type": "code",
   "execution_count": 59,
   "metadata": {
    "ExecuteTime": {
     "end_time": "2020-11-28T08:28:33.141254Z",
     "start_time": "2020-11-28T08:28:32.474814Z"
    },
    "hidden": true
   },
   "outputs": [],
   "source": [
    "tx = contract.functions.rewardAddresses(ids_manageraddresses[campaign_id], int(campaign_id), rewards_pending).buildTransaction(\n",
    "    {'gas':3000000, \n",
    "     'gasPrice': web3.toWei('23', 'gwei'),\n",
    "     'from': secret['ETHBACKENDPUBLIC'],\n",
    "     'to': contract_address,\n",
    "     'nonce': web3.eth.getTransactionCount(secret['ETHBACKENDPUBLIC'])\n",
    "    })\n"
   ]
  },
  {
   "cell_type": "code",
   "execution_count": 62,
   "metadata": {
    "ExecuteTime": {
     "end_time": "2020-11-28T08:30:06.187473Z",
     "start_time": "2020-11-28T08:30:06.151218Z"
    },
    "hidden": true
   },
   "outputs": [
    {
     "ename": "AttributeError",
     "evalue": "'dict' object has no attribute 'estimateGas'",
     "output_type": "error",
     "traceback": [
      "\u001b[0;31m---------------------------------------------------------------------------\u001b[0m",
      "\u001b[0;31mAttributeError\u001b[0m                            Traceback (most recent call last)",
      "\u001b[0;32m<ipython-input-62-73af88648004>\u001b[0m in \u001b[0;36m<module>\u001b[0;34m\u001b[0m\n\u001b[0;32m----> 1\u001b[0;31m \u001b[0mtx\u001b[0m\u001b[0;34m.\u001b[0m\u001b[0mestimateGas\u001b[0m\u001b[0;34m(\u001b[0m\u001b[0;34m)\u001b[0m\u001b[0;34m\u001b[0m\u001b[0;34m\u001b[0m\u001b[0m\n\u001b[0m",
      "\u001b[0;31mAttributeError\u001b[0m: 'dict' object has no attribute 'estimateGas'"
     ]
    }
   ],
   "source": [
    "tx.estimateGas()"
   ]
  },
  {
   "cell_type": "code",
   "execution_count": 61,
   "metadata": {
    "ExecuteTime": {
     "end_time": "2020-11-28T08:28:51.723047Z",
     "start_time": "2020-11-28T08:28:51.714503Z"
    },
    "hidden": true
   },
   "outputs": [
    {
     "data": {
      "text/plain": [
       "web3._utils.datatypes.Contract"
      ]
     },
     "execution_count": 61,
     "metadata": {},
     "output_type": "execute_result"
    }
   ],
   "source": [
    "contract"
   ]
  },
  {
   "cell_type": "code",
   "execution_count": null,
   "metadata": {
    "hidden": true
   },
   "outputs": [],
   "source": [
    " web3.eth.estimateGas({\n",
    "     \"from\"      : walletbase,       \n",
    "     \"nonce\"     : value, \n",
    "     \"to\"        : contractAddr,     \n",
    "     \"data\"      : data\n",
    "})"
   ]
  },
  {
   "cell_type": "code",
   "execution_count": 70,
   "metadata": {
    "ExecuteTime": {
     "end_time": "2020-11-28T08:41:53.426718Z",
     "start_time": "2020-11-28T08:41:53.421073Z"
    },
    "hidden": true
   },
   "outputs": [
    {
     "data": {
      "text/plain": [
       "'0xe7b8897D824C78e5C1076023508C43Eace3D2Afc'"
      ]
     },
     "execution_count": 70,
     "metadata": {},
     "output_type": "execute_result"
    }
   ],
   "source": [
    "contract.address"
   ]
  },
  {
   "cell_type": "code",
   "execution_count": 71,
   "metadata": {
    "ExecuteTime": {
     "end_time": "2020-11-28T08:44:33.392600Z",
     "start_time": "2020-11-28T08:44:33.034152Z"
    },
    "hidden": true
   },
   "outputs": [
    {
     "ename": "ValueError",
     "evalue": "Cannot set to in estimateGas transaction",
     "output_type": "error",
     "traceback": [
      "\u001b[0;31m---------------------------------------------------------------------------\u001b[0m",
      "\u001b[0;31mValueError\u001b[0m                                Traceback (most recent call last)",
      "\u001b[0;32m<ipython-input-71-41c2f19095b6>\u001b[0m in \u001b[0;36m<module>\u001b[0;34m\u001b[0m\n\u001b[1;32m      3\u001b[0m      \u001b[0;34m'from'\u001b[0m\u001b[0;34m:\u001b[0m \u001b[0msecret\u001b[0m\u001b[0;34m[\u001b[0m\u001b[0;34m'ETHBACKENDPUBLIC'\u001b[0m\u001b[0;34m]\u001b[0m\u001b[0;34m,\u001b[0m\u001b[0;34m\u001b[0m\u001b[0;34m\u001b[0m\u001b[0m\n\u001b[1;32m      4\u001b[0m      \u001b[0;34m'to'\u001b[0m\u001b[0;34m:\u001b[0m \u001b[0mcontract_address\u001b[0m\u001b[0;34m,\u001b[0m\u001b[0;34m\u001b[0m\u001b[0;34m\u001b[0m\u001b[0m\n\u001b[0;32m----> 5\u001b[0;31m      \u001b[0;34m'nonce'\u001b[0m\u001b[0;34m:\u001b[0m \u001b[0mweb3\u001b[0m\u001b[0;34m.\u001b[0m\u001b[0meth\u001b[0m\u001b[0;34m.\u001b[0m\u001b[0mgetTransactionCount\u001b[0m\u001b[0;34m(\u001b[0m\u001b[0msecret\u001b[0m\u001b[0;34m[\u001b[0m\u001b[0;34m'ETHBACKENDPUBLIC'\u001b[0m\u001b[0;34m]\u001b[0m\u001b[0;34m)\u001b[0m\u001b[0;34m\u001b[0m\u001b[0;34m\u001b[0m\u001b[0m\n\u001b[0m\u001b[1;32m      6\u001b[0m     })\n",
      "\u001b[0;32m~/anaconda3/lib/python3.7/site-packages/web3/contract.py\u001b[0m in \u001b[0;36mestimateGas\u001b[0;34m(self, transaction, block_identifier)\u001b[0m\n\u001b[1;32m   1014\u001b[0m             \u001b[0;32mraise\u001b[0m \u001b[0mValueError\u001b[0m\u001b[0;34m(\u001b[0m\u001b[0;34m\"Cannot set data in estimateGas transaction\"\u001b[0m\u001b[0;34m)\u001b[0m\u001b[0;34m\u001b[0m\u001b[0;34m\u001b[0m\u001b[0m\n\u001b[1;32m   1015\u001b[0m         \u001b[0;32mif\u001b[0m \u001b[0;34m'to'\u001b[0m \u001b[0;32min\u001b[0m \u001b[0mestimate_gas_transaction\u001b[0m\u001b[0;34m:\u001b[0m\u001b[0;34m\u001b[0m\u001b[0;34m\u001b[0m\u001b[0m\n\u001b[0;32m-> 1016\u001b[0;31m             \u001b[0;32mraise\u001b[0m \u001b[0mValueError\u001b[0m\u001b[0;34m(\u001b[0m\u001b[0;34m\"Cannot set to in estimateGas transaction\"\u001b[0m\u001b[0;34m)\u001b[0m\u001b[0;34m\u001b[0m\u001b[0;34m\u001b[0m\u001b[0m\n\u001b[0m\u001b[1;32m   1017\u001b[0m \u001b[0;34m\u001b[0m\u001b[0m\n\u001b[1;32m   1018\u001b[0m         \u001b[0;32mif\u001b[0m \u001b[0mself\u001b[0m\u001b[0;34m.\u001b[0m\u001b[0maddress\u001b[0m\u001b[0;34m:\u001b[0m\u001b[0;34m\u001b[0m\u001b[0;34m\u001b[0m\u001b[0m\n",
      "\u001b[0;31mValueError\u001b[0m: Cannot set to in estimateGas transaction"
     ]
    }
   ],
   "source": [
    "contract.functions.rewardAddresses(ids_manageraddresses[campaign_id], int(campaign_id), rewards_pending).estimateGas(    {'gas':3000000, \n",
    "     'gasPrice': web3.toWei('23', 'gwei'),\n",
    "     'from': secret['ETHBACKENDPUBLIC'],\n",
    "     'to': contract_address,\n",
    "     'nonce': web3.eth.getTransactionCount(secret['ETHBACKENDPUBLIC'])\n",
    "    })\n",
    "\n",
    "# https://github.com/ethereum/web3.py/blob/master/web3/contract.py"
   ]
  },
  {
   "cell_type": "code",
   "execution_count": null,
   "metadata": {
    "hidden": true
   },
   "outputs": [],
   "source": []
  },
  {
   "cell_type": "code",
   "execution_count": null,
   "metadata": {
    "hidden": true
   },
   "outputs": [],
   "source": []
  }
 ],
 "metadata": {
  "kernelspec": {
   "display_name": "Python 3",
   "language": "python",
   "name": "python3"
  },
  "language_info": {
   "codemirror_mode": {
    "name": "ipython",
    "version": 3
   },
   "file_extension": ".py",
   "mimetype": "text/x-python",
   "name": "python",
   "nbconvert_exporter": "python",
   "pygments_lexer": "ipython3",
   "version": "3.7.7"
  },
  "varInspector": {
   "cols": {
    "lenName": 16,
    "lenType": 16,
    "lenVar": 40
   },
   "kernels_config": {
    "python": {
     "delete_cmd_postfix": "",
     "delete_cmd_prefix": "del ",
     "library": "var_list.py",
     "varRefreshCmd": "print(var_dic_list())"
    },
    "r": {
     "delete_cmd_postfix": ") ",
     "delete_cmd_prefix": "rm(",
     "library": "var_list.r",
     "varRefreshCmd": "cat(var_dic_list()) "
    }
   },
   "types_to_exclude": [
    "module",
    "function",
    "builtin_function_or_method",
    "instance",
    "_Feature"
   ],
   "window_display": false
  }
 },
 "nbformat": 4,
 "nbformat_minor": 4
}
