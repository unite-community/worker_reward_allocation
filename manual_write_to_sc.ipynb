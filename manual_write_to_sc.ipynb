{
 "cells": [
  {
   "cell_type": "code",
   "execution_count": 1,
   "metadata": {
    "ExecuteTime": {
     "end_time": "2020-12-22T06:15:57.869398Z",
     "start_time": "2020-12-22T06:15:57.862888Z"
    }
   },
   "outputs": [],
   "source": [
    "campaign_id = 1\n",
    "manager_ethereum_address = '0x5B93FF82faaF241c15997ea3975419DDDd8362c5'"
   ]
  },
  {
   "cell_type": "code",
   "execution_count": 2,
   "metadata": {
    "ExecuteTime": {
     "end_time": "2020-12-22T06:16:00.458285Z",
     "start_time": "2020-12-22T06:15:58.057692Z"
    }
   },
   "outputs": [
    {
     "name": "stderr",
     "output_type": "stream",
     "text": [
      "Consider installing rusty-rlp to improve pyrlp performance with a rust based backend\n"
     ]
    },
    {
     "name": "stdout",
     "output_type": "stream",
     "text": [
      "Connected to infura: https://mainnet.infura.io/v3/1070d8486bc64afdb9c730d6f2850d6c\n"
     ]
    }
   ],
   "source": [
    "import base64\n",
    "import mysql.connector as mysql\n",
    "import datetime\n",
    "import pandas as pd\n",
    "import time\n",
    "import requests\n",
    "\n",
    "import json\n",
    "from web3 import Web3 # https://web3py.readthedocs.io/en/stable/contracts.html#contract-functions\n",
    "\n",
    "#######\n",
    "## INIT\n",
    "#######\n",
    "\n",
    "# load api key\n",
    "secret = {}\n",
    "with open('secret.txt') as f:\n",
    "    lines = f.readlines()\n",
    "    for line in lines:\n",
    "        secret[line.split(\"=\")[0]] = line.split(\"=\")[1].replace(\"\\n\",\"\")\n",
    "\n",
    "# init web3\n",
    "infura_url = secret['INFURAURL1']\n",
    "web3 = Web3(Web3.HTTPProvider(infura_url))\n",
    "print(f\"Connected to infura: {infura_url}\")\n",
    "\n",
    "# load abi\n",
    "with open('abi.json') as f:\n",
    "    abi = json.load(f)\n",
    "\n",
    "# load bytecode\n",
    "with open('bytecode.txt', 'r') as file:\n",
    "    bytecode = file.read().replace('\\n', '')\n",
    "\n",
    "# load contract address\n",
    "contract_address = secret['CONTRACTADDRESS']"
   ]
  },
  {
   "cell_type": "code",
   "execution_count": 3,
   "metadata": {
    "ExecuteTime": {
     "end_time": "2020-12-22T06:16:02.788794Z",
     "start_time": "2020-12-22T06:16:00.505610Z"
    }
   },
   "outputs": [],
   "source": [
    "###########################\n",
    "## GET USER:WALLET MAPPINGS\n",
    "###########################\n",
    "\n",
    "# convert rewards pending twitter handles to wallet ids\n",
    "db = mysql.connect(host=secret['DBHOST'],user=secret['DBUSER'],passwd=secret['DBPASS'],database=secret['DBTABLE'])\n",
    "cursor = db.cursor()\n",
    "query = f'SELECT twitter_handle, ethereum_address FROM users;'\n",
    "cursor.execute(query)\n",
    "records = cursor.fetchall()\n",
    "cursor.close()\n",
    "db.close()\n",
    "# convert to dataframe\n",
    "users = []\n",
    "for record in records:\n",
    "    users.append(dict(zip(['twitter_handle', 'ethereum_address'], record)))\n",
    "# convert to dataframe and lowercase handle\n",
    "users = pd.DataFrame(users)\n",
    "users['twitter_handle'] = users['twitter_handle'].str.lower()\n",
    "\n",
    "# create dicts\n",
    "user_wallets = dict(zip(list(users['twitter_handle']), users['ethereum_address']))\n",
    "wallets_users = dict(zip(list(users['ethereum_address']), users['twitter_handle']))\n",
    "\n",
    "# create list\n",
    "user_list = list(user_wallets.keys())"
   ]
  },
  {
   "cell_type": "code",
   "execution_count": 4,
   "metadata": {
    "ExecuteTime": {
     "end_time": "2020-12-22T06:16:04.679431Z",
     "start_time": "2020-12-22T06:16:02.861513Z"
    }
   },
   "outputs": [
    {
     "name": "stdout",
     "output_type": "stream",
     "text": [
      "DEGBUG: LEN DF 2\n"
     ]
    }
   ],
   "source": [
    "##################################################\n",
    "### get all rewards for this campaign as dataframe\n",
    "##################################################\n",
    "db = mysql.connect(host=secret['DBHOST'],user=secret['DBUSER'],passwd=secret['DBPASS'],database=secret['DBTABLE'])\n",
    "cursor = db.cursor()\n",
    "query = f'SELECT campaign_id, twitter_handle FROM rewards WHERE blockchain_write_time is NULL and manager_ethereum_address = %s and campaign_id = %s;'\n",
    "values = (manager_ethereum_address, campaign_id)\n",
    "cursor.execute(query, values)\n",
    "records_rewards = cursor.fetchall()\n",
    "cursor.close()\n",
    "db.close()\n",
    "# convert to dataframe\n",
    "rewards = []\n",
    "for record in records_rewards:\n",
    "    rewards.append(dict(zip(['campaign_id', 'twitter_handle'], record)))\n",
    "df = pd.DataFrame(rewards)\n",
    "print(f\"DEGBUG: LEN DF {len(df)}\")"
   ]
  },
  {
   "cell_type": "code",
   "execution_count": 5,
   "metadata": {
    "ExecuteTime": {
     "end_time": "2020-12-22T06:16:04.902466Z",
     "start_time": "2020-12-22T06:16:04.861125Z"
    }
   },
   "outputs": [],
   "source": [
    "###################################################\n",
    "### GET LIST OF WALLETS TO REWARD FOR THIS CAMPAIGN\n",
    "###################################################\n",
    "\n",
    "# list of handles to reward\n",
    "rewards_pending = list(df[df['campaign_id'] == campaign_id]['twitter_handle'])\n",
    "\n",
    "# convert from twitter handles to wallets\n",
    "rewards_pending = [user_wallets[r] for r in rewards_pending]"
   ]
  },
  {
   "cell_type": "code",
   "execution_count": 6,
   "metadata": {
    "ExecuteTime": {
     "end_time": "2020-12-22T06:16:05.179921Z",
     "start_time": "2020-12-22T06:16:05.152312Z"
    }
   },
   "outputs": [
    {
     "name": "stdout",
     "output_type": "stream",
     "text": [
      "2 rewards_pending\n",
      "0x3708045C19c4D0eaB69289F8BC10D4a1fF4EDc6a alxcnwy\n",
      "0x5B93FF82faaF241c15997ea3975419DDDd8362c5 cooopahtroopa\n"
     ]
    }
   ],
   "source": [
    "print(f\"{len(rewards_pending)} rewards_pending\")\n",
    "for reward_pending in rewards_pending:\n",
    "    print(reward_pending, wallets_users[reward_pending])"
   ]
  },
  {
   "cell_type": "code",
   "execution_count": 7,
   "metadata": {
    "ExecuteTime": {
     "end_time": "2020-12-22T06:16:12.379970Z",
     "start_time": "2020-12-22T06:16:12.375755Z"
    }
   },
   "outputs": [],
   "source": [
    "rewards_pending = ['0x5B93FF82faaF241c15997ea3975419DDDd8362c5']"
   ]
  },
  {
   "cell_type": "code",
   "execution_count": 8,
   "metadata": {
    "ExecuteTime": {
     "end_time": "2020-12-22T06:16:21.849776Z",
     "start_time": "2020-12-22T06:16:20.543277Z"
    }
   },
   "outputs": [
    {
     "name": "stdout",
     "output_type": "stream",
     "text": [
      "40\n"
     ]
    }
   ],
   "source": [
    "# get current gas price\n",
    "headers = {'User-Agent': 'blah',}\n",
    "response = requests.get('https://ethgasstation.info/json/ethgasAPI.json', headers=headers)\n",
    "gasPrice = int(response.json()['average']/10)\n",
    "print(gasPrice)"
   ]
  },
  {
   "cell_type": "code",
   "execution_count": 9,
   "metadata": {
    "ExecuteTime": {
     "end_time": "2020-12-22T06:16:38.373979Z",
     "start_time": "2020-12-22T06:16:24.028802Z"
    },
    "scrolled": false
   },
   "outputs": [
    {
     "name": "stdout",
     "output_type": "stream",
     "text": [
      "Creating SC tx 1/1 to reward 0x5B93FF82faaF241c15997ea3975419DDDd8362c5\n",
      "GasPrice fetched from ethgasstation.info 39\n",
      "TX hash: 0x45980bcfb862ee6ec46218ea40473591fd4b2f0f34c0962f577a364aa8c7b060\n",
      "AttributeDict({'blockHash': HexBytes('0x6ac6204dc161c89ae6cf68d40712362ec560cf89f8503c6dbe725356f9fa0919'), 'blockNumber': 11501558, 'contractAddress': None, 'cumulativeGasUsed': 10846788, 'from': '0xe9540071278Dba4374A42a84B48c5e230328AeF7', 'gasUsed': 160280, 'logs': [AttributeDict({'address': '0xe7b8897D824C78e5C1076023508C43Eace3D2Afc', 'blockHash': HexBytes('0x6ac6204dc161c89ae6cf68d40712362ec560cf89f8503c6dbe725356f9fa0919'), 'blockNumber': 11501558, 'data': '0x0000000000000000000000007d91e637589ec3bb54d8213a9e92dc6e8d12da910000000000000000000000000000000000000000000000000000000000002710', 'logIndex': 267, 'removed': False, 'topics': [HexBytes('0xeeecc2fca78e5b3eaac3c78bc0db4c19d0b8d600a75bbb4911c4a5e458a515ac'), HexBytes('0x0000000000000000000000005b93ff82faaf241c15997ea3975419dddd8362c5'), HexBytes('0x0000000000000000000000000000000000000000000000000000000000000001'), HexBytes('0x0000000000000000000000005b93ff82faaf241c15997ea3975419dddd8362c5')], 'transactionHash': HexBytes('0x45980bcfb862ee6ec46218ea40473591fd4b2f0f34c0962f577a364aa8c7b060'), 'transactionIndex': 185})], 'logsBloom': HexBytes('0x00000000000000000000000000000000000000000000000001000000000000000000000000040000000000000000000000000000000000000000100000040000000000010000000000000000000000000000000000040000000000000000000000000000000000000000000000000000000000000004000002000000000000000000200000000000000000000000000000000000000000000000000000000000000000000400000000000000000000000000000000000000000000000000000000000000000000000000000000000000000000000000000000000000000040000000000000000000000000000000000000000000000000000000000040000000'), 'status': 1, 'to': '0xe7b8897D824C78e5C1076023508C43Eace3D2Afc', 'transactionHash': HexBytes('0x45980bcfb862ee6ec46218ea40473591fd4b2f0f34c0962f577a364aa8c7b060'), 'transactionIndex': 185})\n",
      "LOGGING: b'E\\x98\\x0b\\xcf\\xb8b\\xeen\\xc4b\\x18\\xea@G5\\x91\\xfdK/\\x0f4\\xc0\\x96/Wz6J\\xa8\\xc7\\xb0`', rewarding: 0x5B93FF82faaF241c15997ea3975419DDDd8362c5, manager: 0x5B93FF82faaF241c15997ea3975419DDDd8362c5, \n",
      "SUCCESS writing rewards to SC for campaign 1 tx: 0x45980bcfb862ee6ec46218ea40473591fd4b2f0f34c0962f577a364aa8c7b060\n",
      "1 record updated\n"
     ]
    }
   ],
   "source": [
    "for i, reward_pending in enumerate(rewards_pending):\n",
    "    print(f\"Creating SC tx {i+1}/{len(rewards_pending)} to reward {reward_pending}\")\n",
    "\n",
    "    ###################################\n",
    "    ### WRITE REWARDS TO SMART CONTRACT\n",
    "    ###################################\n",
    "    \n",
    "    # get gas price from ethgasstation.info\n",
    "    gasPrice = 25\n",
    "    try:\n",
    "        headers = {'User-Agent': 'blah',}\n",
    "        response = requests.get('https://ethgasstation.info/json/ethgasAPI.json', headers=headers)\n",
    "        gasPrice = int(response.json()['average']/10)\n",
    "        print(f\"GasPrice fetched from ethgasstation.info {gasPrice}\")\n",
    "    except Exception as e:\n",
    "        print(\"ERROR FETCHING GAS PRICE - using default of 25\")\n",
    "        print(e)\n",
    "\n",
    "\n",
    "    contract = web3.eth.contract(abi=abi, bytecode=bytecode)\n",
    "\n",
    "    tx = contract.functions.rewardAddresses(manager_ethereum_address, campaign_id, [reward_pending]).buildTransaction(\n",
    "        {'gas':250000,\n",
    "         'gasPrice': web3.toWei(gasPrice, 'gwei'),\n",
    "         'from': secret['ETHBACKENDPUBLIC'],\n",
    "         'to': contract_address,\n",
    "         'nonce': web3.eth.getTransactionCount(secret['ETHBACKENDPUBLIC'])\n",
    "        })\n",
    "\n",
    "    signed_txn = web3.eth.account.signTransaction(tx, private_key=secret['ETHBACKENDPRIVATE'])\n",
    "    tx_hash = web3.eth.sendRawTransaction(signed_txn.rawTransaction)\n",
    "    print(f\"TX hash: {tx_hash.hex()}\")\n",
    "    receipt = web3.eth.waitForTransactionReceipt(tx_hash, timeout=3600)\n",
    "    print(receipt)\n",
    "\n",
    "    print(f\"LOGGING: {tx_hash}, rewarding: {reward_pending}, manager: {manager_ethereum_address}, \")\n",
    "\n",
    "    if receipt['status'] == 1:\n",
    "        print(f\"SUCCESS writing rewards to SC for campaign {campaign_id} tx: {tx_hash.hex()}\")\n",
    "\n",
    "        # update blockchain_write_time\n",
    "        db = mysql.connect(host=secret['DBHOST'],user=secret['DBUSER'],passwd=secret['DBPASS'],database=secret['DBTABLE'])\n",
    "        cursor = db.cursor()\n",
    "        query = \"UPDATE rewards SET blockchain_write_time=%s, blockchain_write_tx_hash=%s, gas_used=%s, blockchain_write_tx_status=%s WHERE campaign_id=%s AND manager_ethereum_address=%s AND twitter_handle=%s;\"\n",
    "        values = (str(datetime.datetime.now()).split('.')[0], str(tx_hash.hex()), receipt['gasUsed'], 1, str(campaign_id), manager_ethereum_address, wallets_users[reward_pending])\n",
    "        cursor.execute(query, values)\n",
    "        db.commit()\n",
    "        print(cursor.rowcount, \"record updated\")\n",
    "        cursor.close()\n",
    "        db.close()  \n",
    "    else:\n",
    "        print(f\"ERROR FAIL writing rewards to SC for campaign {campaign_id} tx: {tx_hash.hex()}\")"
   ]
  },
  {
   "cell_type": "markdown",
   "metadata": {
    "heading_collapsed": true
   },
   "source": [
    "# Check confirmation status"
   ]
  },
  {
   "cell_type": "code",
   "execution_count": 59,
   "metadata": {
    "ExecuteTime": {
     "end_time": "2020-11-28T20:17:23.765567Z",
     "start_time": "2020-11-28T20:17:14.104055Z"
    },
    "collapsed": true,
    "hidden": true
   },
   "outputs": [
    {
     "name": "stdout",
     "output_type": "stream",
     "text": [
      "Rewarding 1/1 0xe9540071278Dba4374A42a84B48c5e230328AeF7\n",
      "TX hash: 0xb1cee719715c454467106ffc2c6b73c6234b74f7b5486bf84c336fb49b70e618\n",
      "AttributeDict({'blockHash': HexBytes('0xffb054245778a31764542448d8fb31a865865ad0cadf4a5465ee2f1ac315d557'), 'blockNumber': 22328506, 'contractAddress': None, 'cumulativeGasUsed': 22208, 'from': '0xe9540071278Dba4374A42a84B48c5e230328AeF7', 'gasUsed': 22208, 'logs': [], 'logsBloom': HexBytes('0x00000000000000000000000000000000000000000000000000000000000000000000000000000000000000000000000000000000000000000000000000000000000000000000000000000000000000000000000000000000000000000000000000000000000000000000000000000000000000000000000000000000000000000000000000000000000000000000000000000000000000000000000000000000000000000000000000000000000000000000000000000000000000000000000000000000000000000000000000000000000000000000000000000000000000000000000000000000000000000000000000000000000000000000000000000000'), 'status': 1, 'to': '0xe7b8897D824C78e5C1076023508C43Eace3D2Afc', 'transactionHash': HexBytes('0xb1cee719715c454467106ffc2c6b73c6234b74f7b5486bf84c336fb49b70e618'), 'transactionIndex': 0})\n",
      "SUCCESS writing rewards to SC for campaign 1 tx: 0xb1cee719715c454467106ffc2c6b73c6234b74f7b5486bf84c336fb49b70e618\n",
      "1 record updated\n"
     ]
    }
   ],
   "source": [
    "##############################################################\n",
    "### check confirmation status for all unconfirmed transactions\n",
    "##############################################################\n",
    "\n",
    "# get all unconfirmed txs\n",
    "db = mysql.connect(host=secret['DBHOST'],user=secret['DBUSER'],passwd=secret['DBPASS'],database=secret['DBTABLE'])\n",
    "cursor = db.cursor()\n",
    "query = f'SELECT blockchain_write_tx_hash FROM rewards WHERE blockchain_write_tx_status = 0;'\n",
    "cursor.execute(query)\n",
    "records_txs = cursor.fetchall()\n",
    "cursor.close()\n",
    "db.close()\n",
    "# convert to dataframe\n",
    "txs = []\n",
    "for record in records_txs:\n",
    "    txs.append(record[0])\n",
    "print(f\"DEGBUG: UNCONFIRMED TXS {len(txs)}\")\n",
    "\n",
    "# check tx status and update db if confirmed\n",
    "for tx in txs:\n",
    "    receipt = web3.eth.getTransactionReceipt(tx)\n",
    "    \n",
    "    if receipt['status'] == 1:\n",
    "        # update blockchain_write_time\n",
    "        db = mysql.connect(host=secret['DBHOST'],user=secret['DBUSER'],passwd=secret['DBPASS'],database=secret['DBTABLE'])\n",
    "        cursor = db.cursor()\n",
    "        query = \"UPDATE rewards SET blockchain_write_time=%s, blockchain_write_tx_status=%s, gas_used=%s WHERE campaign_id=%s AND manager_ethereum_address=%s AND twitter_handle=%s;\"\n",
    "        values = (str(datetime.datetime.now()).split('.')[0], 1, receipt['gasUsed'], str(campaign_id), manager_ethereum_address, wallets_users[reward_pending])\n",
    "        cursor.execute(query, values)\n",
    "        db.commit()\n",
    "        print(cursor.rowcount, \"record updated\")\n",
    "        cursor.close()\n",
    "        db.close() \n",
    "    else:\n",
    "        print(f\"ERROR - {tx} receipt status != 1\")\n",
    "        print(receipt)"
   ]
  },
  {
   "cell_type": "markdown",
   "metadata": {
    "heading_collapsed": true
   },
   "source": [
    "# Estimate gas"
   ]
  },
  {
   "cell_type": "code",
   "execution_count": 57,
   "metadata": {
    "ExecuteTime": {
     "end_time": "2020-11-28T08:28:27.411439Z",
     "start_time": "2020-11-28T08:28:27.407628Z"
    },
    "hidden": true
   },
   "outputs": [],
   "source": [
    "contract.address = contract_address"
   ]
  },
  {
   "cell_type": "code",
   "execution_count": 58,
   "metadata": {
    "ExecuteTime": {
     "end_time": "2020-11-28T08:28:31.190721Z",
     "start_time": "2020-11-28T08:28:31.183984Z"
    },
    "hidden": true
   },
   "outputs": [
    {
     "data": {
      "text/plain": [
       "'0xe7b8897D824C78e5C1076023508C43Eace3D2Afc'"
      ]
     },
     "execution_count": 58,
     "metadata": {},
     "output_type": "execute_result"
    }
   ],
   "source": [
    "contract.address"
   ]
  },
  {
   "cell_type": "code",
   "execution_count": 59,
   "metadata": {
    "ExecuteTime": {
     "end_time": "2020-11-28T08:28:33.141254Z",
     "start_time": "2020-11-28T08:28:32.474814Z"
    },
    "hidden": true
   },
   "outputs": [],
   "source": [
    "tx = contract.functions.rewardAddresses(ids_manageraddresses[campaign_id], int(campaign_id), rewards_pending).buildTransaction(\n",
    "    {'gas':3000000, \n",
    "     'gasPrice': web3.toWei('23', 'gwei'),\n",
    "     'from': secret['ETHBACKENDPUBLIC'],\n",
    "     'to': contract_address,\n",
    "     'nonce': web3.eth.getTransactionCount(secret['ETHBACKENDPUBLIC'])\n",
    "    })\n"
   ]
  },
  {
   "cell_type": "code",
   "execution_count": 62,
   "metadata": {
    "ExecuteTime": {
     "end_time": "2020-11-28T08:30:06.187473Z",
     "start_time": "2020-11-28T08:30:06.151218Z"
    },
    "hidden": true
   },
   "outputs": [
    {
     "ename": "AttributeError",
     "evalue": "'dict' object has no attribute 'estimateGas'",
     "output_type": "error",
     "traceback": [
      "\u001b[0;31m---------------------------------------------------------------------------\u001b[0m",
      "\u001b[0;31mAttributeError\u001b[0m                            Traceback (most recent call last)",
      "\u001b[0;32m<ipython-input-62-73af88648004>\u001b[0m in \u001b[0;36m<module>\u001b[0;34m\u001b[0m\n\u001b[0;32m----> 1\u001b[0;31m \u001b[0mtx\u001b[0m\u001b[0;34m.\u001b[0m\u001b[0mestimateGas\u001b[0m\u001b[0;34m(\u001b[0m\u001b[0;34m)\u001b[0m\u001b[0;34m\u001b[0m\u001b[0;34m\u001b[0m\u001b[0m\n\u001b[0m",
      "\u001b[0;31mAttributeError\u001b[0m: 'dict' object has no attribute 'estimateGas'"
     ]
    }
   ],
   "source": [
    "tx.estimateGas()"
   ]
  },
  {
   "cell_type": "code",
   "execution_count": 61,
   "metadata": {
    "ExecuteTime": {
     "end_time": "2020-11-28T08:28:51.723047Z",
     "start_time": "2020-11-28T08:28:51.714503Z"
    },
    "hidden": true
   },
   "outputs": [
    {
     "data": {
      "text/plain": [
       "web3._utils.datatypes.Contract"
      ]
     },
     "execution_count": 61,
     "metadata": {},
     "output_type": "execute_result"
    }
   ],
   "source": [
    "contract"
   ]
  },
  {
   "cell_type": "code",
   "execution_count": null,
   "metadata": {
    "hidden": true
   },
   "outputs": [],
   "source": [
    " web3.eth.estimateGas({\n",
    "     \"from\"      : walletbase,       \n",
    "     \"nonce\"     : value, \n",
    "     \"to\"        : contractAddr,     \n",
    "     \"data\"      : data\n",
    "})"
   ]
  },
  {
   "cell_type": "code",
   "execution_count": 70,
   "metadata": {
    "ExecuteTime": {
     "end_time": "2020-11-28T08:41:53.426718Z",
     "start_time": "2020-11-28T08:41:53.421073Z"
    },
    "hidden": true
   },
   "outputs": [
    {
     "data": {
      "text/plain": [
       "'0xe7b8897D824C78e5C1076023508C43Eace3D2Afc'"
      ]
     },
     "execution_count": 70,
     "metadata": {},
     "output_type": "execute_result"
    }
   ],
   "source": [
    "contract.address"
   ]
  },
  {
   "cell_type": "code",
   "execution_count": 71,
   "metadata": {
    "ExecuteTime": {
     "end_time": "2020-11-28T08:44:33.392600Z",
     "start_time": "2020-11-28T08:44:33.034152Z"
    },
    "hidden": true
   },
   "outputs": [
    {
     "ename": "ValueError",
     "evalue": "Cannot set to in estimateGas transaction",
     "output_type": "error",
     "traceback": [
      "\u001b[0;31m---------------------------------------------------------------------------\u001b[0m",
      "\u001b[0;31mValueError\u001b[0m                                Traceback (most recent call last)",
      "\u001b[0;32m<ipython-input-71-41c2f19095b6>\u001b[0m in \u001b[0;36m<module>\u001b[0;34m\u001b[0m\n\u001b[1;32m      3\u001b[0m      \u001b[0;34m'from'\u001b[0m\u001b[0;34m:\u001b[0m \u001b[0msecret\u001b[0m\u001b[0;34m[\u001b[0m\u001b[0;34m'ETHBACKENDPUBLIC'\u001b[0m\u001b[0;34m]\u001b[0m\u001b[0;34m,\u001b[0m\u001b[0;34m\u001b[0m\u001b[0;34m\u001b[0m\u001b[0m\n\u001b[1;32m      4\u001b[0m      \u001b[0;34m'to'\u001b[0m\u001b[0;34m:\u001b[0m \u001b[0mcontract_address\u001b[0m\u001b[0;34m,\u001b[0m\u001b[0;34m\u001b[0m\u001b[0;34m\u001b[0m\u001b[0m\n\u001b[0;32m----> 5\u001b[0;31m      \u001b[0;34m'nonce'\u001b[0m\u001b[0;34m:\u001b[0m \u001b[0mweb3\u001b[0m\u001b[0;34m.\u001b[0m\u001b[0meth\u001b[0m\u001b[0;34m.\u001b[0m\u001b[0mgetTransactionCount\u001b[0m\u001b[0;34m(\u001b[0m\u001b[0msecret\u001b[0m\u001b[0;34m[\u001b[0m\u001b[0;34m'ETHBACKENDPUBLIC'\u001b[0m\u001b[0;34m]\u001b[0m\u001b[0;34m)\u001b[0m\u001b[0;34m\u001b[0m\u001b[0;34m\u001b[0m\u001b[0m\n\u001b[0m\u001b[1;32m      6\u001b[0m     })\n",
      "\u001b[0;32m~/anaconda3/lib/python3.7/site-packages/web3/contract.py\u001b[0m in \u001b[0;36mestimateGas\u001b[0;34m(self, transaction, block_identifier)\u001b[0m\n\u001b[1;32m   1014\u001b[0m             \u001b[0;32mraise\u001b[0m \u001b[0mValueError\u001b[0m\u001b[0;34m(\u001b[0m\u001b[0;34m\"Cannot set data in estimateGas transaction\"\u001b[0m\u001b[0;34m)\u001b[0m\u001b[0;34m\u001b[0m\u001b[0;34m\u001b[0m\u001b[0m\n\u001b[1;32m   1015\u001b[0m         \u001b[0;32mif\u001b[0m \u001b[0;34m'to'\u001b[0m \u001b[0;32min\u001b[0m \u001b[0mestimate_gas_transaction\u001b[0m\u001b[0;34m:\u001b[0m\u001b[0;34m\u001b[0m\u001b[0;34m\u001b[0m\u001b[0m\n\u001b[0;32m-> 1016\u001b[0;31m             \u001b[0;32mraise\u001b[0m \u001b[0mValueError\u001b[0m\u001b[0;34m(\u001b[0m\u001b[0;34m\"Cannot set to in estimateGas transaction\"\u001b[0m\u001b[0;34m)\u001b[0m\u001b[0;34m\u001b[0m\u001b[0;34m\u001b[0m\u001b[0m\n\u001b[0m\u001b[1;32m   1017\u001b[0m \u001b[0;34m\u001b[0m\u001b[0m\n\u001b[1;32m   1018\u001b[0m         \u001b[0;32mif\u001b[0m \u001b[0mself\u001b[0m\u001b[0;34m.\u001b[0m\u001b[0maddress\u001b[0m\u001b[0;34m:\u001b[0m\u001b[0;34m\u001b[0m\u001b[0;34m\u001b[0m\u001b[0m\n",
      "\u001b[0;31mValueError\u001b[0m: Cannot set to in estimateGas transaction"
     ]
    }
   ],
   "source": [
    "contract.functions.rewardAddresses(ids_manageraddresses[campaign_id], int(campaign_id), rewards_pending).estimateGas(    {'gas':3000000, \n",
    "     'gasPrice': web3.toWei('23', 'gwei'),\n",
    "     'from': secret['ETHBACKENDPUBLIC'],\n",
    "     'to': contract_address,\n",
    "     'nonce': web3.eth.getTransactionCount(secret['ETHBACKENDPUBLIC'])\n",
    "    })\n",
    "\n",
    "# https://github.com/ethereum/web3.py/blob/master/web3/contract.py"
   ]
  },
  {
   "cell_type": "code",
   "execution_count": null,
   "metadata": {
    "hidden": true
   },
   "outputs": [],
   "source": []
  },
  {
   "cell_type": "code",
   "execution_count": null,
   "metadata": {
    "hidden": true
   },
   "outputs": [],
   "source": []
  }
 ],
 "metadata": {
  "kernelspec": {
   "display_name": "Python 3",
   "language": "python",
   "name": "python3"
  },
  "language_info": {
   "codemirror_mode": {
    "name": "ipython",
    "version": 3
   },
   "file_extension": ".py",
   "mimetype": "text/x-python",
   "name": "python",
   "nbconvert_exporter": "python",
   "pygments_lexer": "ipython3",
   "version": "3.7.7"
  },
  "varInspector": {
   "cols": {
    "lenName": 16,
    "lenType": 16,
    "lenVar": 40
   },
   "kernels_config": {
    "python": {
     "delete_cmd_postfix": "",
     "delete_cmd_prefix": "del ",
     "library": "var_list.py",
     "varRefreshCmd": "print(var_dic_list())"
    },
    "r": {
     "delete_cmd_postfix": ") ",
     "delete_cmd_prefix": "rm(",
     "library": "var_list.r",
     "varRefreshCmd": "cat(var_dic_list()) "
    }
   },
   "types_to_exclude": [
    "module",
    "function",
    "builtin_function_or_method",
    "instance",
    "_Feature"
   ],
   "window_display": false
  }
 },
 "nbformat": 4,
 "nbformat_minor": 4
}
