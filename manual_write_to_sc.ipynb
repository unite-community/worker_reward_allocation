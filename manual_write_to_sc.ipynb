{
 "cells": [
  {
   "cell_type": "code",
   "execution_count": 76,
   "metadata": {
    "ExecuteTime": {
     "end_time": "2020-12-07T21:08:18.788400Z",
     "start_time": "2020-12-07T21:08:18.748957Z"
    }
   },
   "outputs": [],
   "source": [
    "campaign_id = 2\n",
    "manager_ethereum_address = '0x3708045C19c4D0eaB69289F8BC10D4a1fF4EDc6a'"
   ]
  },
  {
   "cell_type": "code",
   "execution_count": 77,
   "metadata": {
    "ExecuteTime": {
     "end_time": "2020-12-07T21:08:18.987890Z",
     "start_time": "2020-12-07T21:08:18.965664Z"
    }
   },
   "outputs": [
    {
     "name": "stdout",
     "output_type": "stream",
     "text": [
      "Connected to infura: https://mainnet.infura.io/v3/1070d8486bc64afdb9c730d6f2850d6c\n"
     ]
    }
   ],
   "source": [
    "import base64\n",
    "import mysql.connector as mysql\n",
    "import datetime\n",
    "import pandas as pd\n",
    "import time\n",
    "import requests\n",
    "\n",
    "import json\n",
    "from web3 import Web3 # https://web3py.readthedocs.io/en/stable/contracts.html#contract-functions\n",
    "\n",
    "#######\n",
    "## INIT\n",
    "#######\n",
    "\n",
    "# load api key\n",
    "secret = {}\n",
    "with open('secret.txt') as f:\n",
    "    lines = f.readlines()\n",
    "    for line in lines:\n",
    "        secret[line.split(\"=\")[0]] = line.split(\"=\")[1].replace(\"\\n\",\"\")\n",
    "\n",
    "# init web3\n",
    "infura_url = secret['INFURAURL1']\n",
    "web3 = Web3(Web3.HTTPProvider(infura_url))\n",
    "print(f\"Connected to infura: {infura_url}\")\n",
    "\n",
    "# load abi\n",
    "with open('abi.json') as f:\n",
    "    abi = json.load(f)\n",
    "\n",
    "# load bytecode\n",
    "with open('bytecode.txt', 'r') as file:\n",
    "    bytecode = file.read().replace('\\n', '')\n",
    "\n",
    "# load contract address\n",
    "contract_address = secret['CONTRACTADDRESS']"
   ]
  },
  {
   "cell_type": "code",
   "execution_count": 78,
   "metadata": {
    "ExecuteTime": {
     "end_time": "2020-12-07T21:08:21.527380Z",
     "start_time": "2020-12-07T21:08:19.179805Z"
    }
   },
   "outputs": [],
   "source": [
    "###########################\n",
    "## GET USER:WALLET MAPPINGS\n",
    "###########################\n",
    "\n",
    "# convert rewards pending twitter handles to wallet ids\n",
    "db = mysql.connect(host=secret['DBHOST'],user=secret['DBUSER'],passwd=secret['DBPASS'],database=secret['DBTABLE'])\n",
    "cursor = db.cursor()\n",
    "query = f'SELECT twitter_handle, ethereum_address FROM users;'\n",
    "cursor.execute(query)\n",
    "records = cursor.fetchall()\n",
    "cursor.close()\n",
    "db.close()\n",
    "# convert to dataframe\n",
    "users = []\n",
    "for record in records:\n",
    "    users.append(dict(zip(['twitter_handle', 'ethereum_address'], record)))\n",
    "# convert to dataframe and lowercase handle\n",
    "users = pd.DataFrame(users)\n",
    "users['twitter_handle'] = users['twitter_handle'].str.lower()\n",
    "\n",
    "# create dicts\n",
    "user_wallets = dict(zip(list(users['twitter_handle']), users['ethereum_address']))\n",
    "wallets_users = dict(zip(list(users['ethereum_address']), users['twitter_handle']))\n",
    "\n",
    "# create list\n",
    "user_list = list(user_wallets.keys())"
   ]
  },
  {
   "cell_type": "code",
   "execution_count": 86,
   "metadata": {
    "ExecuteTime": {
     "end_time": "2020-12-07T21:11:02.548026Z",
     "start_time": "2020-12-07T21:11:00.725914Z"
    }
   },
   "outputs": [
    {
     "name": "stdout",
     "output_type": "stream",
     "text": [
      "DEGBUG: LEN DF 20\n"
     ]
    }
   ],
   "source": [
    "##################################################\n",
    "### get all rewards for this campaign as dataframe\n",
    "##################################################\n",
    "db = mysql.connect(host=secret['DBHOST'],user=secret['DBUSER'],passwd=secret['DBPASS'],database=secret['DBTABLE'])\n",
    "cursor = db.cursor()\n",
    "query = f'SELECT campaign_id, twitter_handle FROM rewards WHERE blockchain_write_time is NULL and manager_ethereum_address = %s and campaign_id = %s;'\n",
    "values = (manager_ethereum_address, campaign_id)\n",
    "cursor.execute(query, values)\n",
    "records_rewards = cursor.fetchall()\n",
    "cursor.close()\n",
    "db.close()\n",
    "# convert to dataframe\n",
    "rewards = []\n",
    "for record in records_rewards:\n",
    "    rewards.append(dict(zip(['campaign_id', 'twitter_handle'], record)))\n",
    "df = pd.DataFrame(rewards)\n",
    "print(f\"DEGBUG: LEN DF {len(df)}\")"
   ]
  },
  {
   "cell_type": "code",
   "execution_count": 87,
   "metadata": {
    "ExecuteTime": {
     "end_time": "2020-12-07T21:11:03.068826Z",
     "start_time": "2020-12-07T21:11:03.061344Z"
    }
   },
   "outputs": [],
   "source": [
    "###################################################\n",
    "### GET LIST OF WALLETS TO REWARD FOR THIS CAMPAIGN\n",
    "###################################################\n",
    "\n",
    "# list of handles to reward\n",
    "rewards_pending = list(df[df['campaign_id'] == campaign_id]['twitter_handle'])\n",
    "\n",
    "# convert from twitter handles to wallets\n",
    "rewards_pending = [user_wallets[r] for r in rewards_pending]"
   ]
  },
  {
   "cell_type": "code",
   "execution_count": 88,
   "metadata": {
    "ExecuteTime": {
     "end_time": "2020-12-07T21:11:03.356931Z",
     "start_time": "2020-12-07T21:11:03.346144Z"
    }
   },
   "outputs": [
    {
     "name": "stdout",
     "output_type": "stream",
     "text": [
      "20 rewards_pending\n",
      "['0x4664FDA0BfE38D9C43e4997A0af5D5899527EB0b', '0x31EFE0Abf3840f78cfFf414b44A2846fe13e4688', '0x7e30C4cfFDbe6df08cD258Ee723d1fcd8D234b4f', '0x9fb470AE1278BE58fe7511F465812D44696F98f1', '0x98BCe2Cc31c3C05c6d28EEcDB1476E7A133ea563', '0xde7245952B0fc83f4d098712DEe174fA54DF0e2c', '0xB76b1011e6E64Ec129B161f188509D972C852Dcc', '0xe5D4c76Ee57f112f7e579c8D76EE7F975f5E64e4', '0x03e10c7B9F18dC8ec29B622Ede6A60211Bb801e5', '0x743DAace757269Cf3e3f57F1DF139117308849ff', '0x49d56C2020cAAe817C3b493B00E5c6dEC02f140C', '0x7B7f84ce1D67a5fA47835B36552CC6973964Ba24', '0xDdAaC482530e2d5C31C19727c6721e192d539666', '0xB2b03244224D40432f1Fb9B58468403C9027A576', '0xf3E3a1f4a01a093183F4468CC0d80cdE9B03B2CD', '0xa8672C3cef0dCe305102f20AC820c921c91fF7e2', '0x71ce21a0776DF966052cAc4FE98d18313dd3c214', '0x5bDC20C8D3b00268c1CB0D1Ae404956B6feEf19A', '0x70D9C0d1dA746c7849E4aca3a3b2cA406a478869', '0xe77f4ad2D5d75c91B94fb7829171ef44335CeC0D']\n"
     ]
    }
   ],
   "source": [
    "print(f\"{len(rewards_pending)} rewards_pending\")\n",
    "print(rewards_pending)"
   ]
  },
  {
   "cell_type": "code",
   "execution_count": 89,
   "metadata": {
    "ExecuteTime": {
     "end_time": "2020-12-07T21:11:03.766239Z",
     "start_time": "2020-12-07T21:11:03.762832Z"
    }
   },
   "outputs": [],
   "source": [
    "# # MANUAL OVERRIDE FOR DEBUGGING - COMMENT OUT BELOW FOR REAL SC WRITE\n",
    "# rewards_pending = []\n",
    "# rewards_pending.append('0x3c387EcA197D3E30b5b938Fac8BdA96F30c8c5BF') # alxcnwy"
   ]
  },
  {
   "cell_type": "code",
   "execution_count": 91,
   "metadata": {
    "ExecuteTime": {
     "end_time": "2020-12-07T21:25:09.780994Z",
     "start_time": "2020-12-07T21:12:26.939846Z"
    },
    "scrolled": false
   },
   "outputs": [
    {
     "name": "stdout",
     "output_type": "stream",
     "text": [
      "Creating SC tx 1/20 to reward 0x4664FDA0BfE38D9C43e4997A0af5D5899527EB0b\n",
      "GasPrice fetched from ethgasstation.info 41\n",
      "TX hash: 0xc771b5d3c3ca3fed586a006d4e201c28a68bead9d96b287bf9e4b15e76c7076c\n",
      "AttributeDict({'blockHash': HexBytes('0xf128ac9e5466bb00feebb509dec2b24d1f6166f1011b1f0d72cca904f954da80'), 'blockNumber': 11408010, 'contractAddress': None, 'cumulativeGasUsed': 11902725, 'from': '0xe9540071278Dba4374A42a84B48c5e230328AeF7', 'gasUsed': 145280, 'logs': [AttributeDict({'address': '0xe7b8897D824C78e5C1076023508C43Eace3D2Afc', 'blockHash': HexBytes('0xf128ac9e5466bb00feebb509dec2b24d1f6166f1011b1f0d72cca904f954da80'), 'blockNumber': 11408010, 'data': '0x0000000000000000000000005caf454ba92e6f2c929df14667ee360ed9fd5b260000000000000000000000000000000000000000000000001bc16d674ec80000', 'logIndex': 293, 'removed': False, 'topics': [HexBytes('0xeeecc2fca78e5b3eaac3c78bc0db4c19d0b8d600a75bbb4911c4a5e458a515ac'), HexBytes('0x0000000000000000000000003708045c19c4d0eab69289f8bc10d4a1ff4edc6a'), HexBytes('0x0000000000000000000000000000000000000000000000000000000000000002'), HexBytes('0x0000000000000000000000004664fda0bfe38d9c43e4997a0af5d5899527eb0b')], 'transactionHash': HexBytes('0xc771b5d3c3ca3fed586a006d4e201c28a68bead9d96b287bf9e4b15e76c7076c'), 'transactionIndex': 105})], 'logsBloom': HexBytes('0x04000000000000000000000000000000000000000000000000000000000000000000000000040000000000000000000000000000000000000000100000000000000000000000000000000000000000000000000000000000000100000000000000100000000000000000000000000000000000000004000000000000000004000000200000000000000000000000000000000000000000000000000000000200000000000400000000000100000000000000000000020000000000000000000000000000000000000000000000000000000000000000000000000000000000800000000000000000000000000000000000000000008000000000000040000000'), 'status': 1, 'to': '0xe7b8897D824C78e5C1076023508C43Eace3D2Afc', 'transactionHash': HexBytes('0xc771b5d3c3ca3fed586a006d4e201c28a68bead9d96b287bf9e4b15e76c7076c'), 'transactionIndex': 105})\n",
      "LOGGING: b'\\xc7q\\xb5\\xd3\\xc3\\xca?\\xedXj\\x00mN \\x1c(\\xa6\\x8b\\xea\\xd9\\xd9k({\\xf9\\xe4\\xb1^v\\xc7\\x07l', rewarding: 0x4664FDA0BfE38D9C43e4997A0af5D5899527EB0b, manager: 0x3708045C19c4D0eaB69289F8BC10D4a1fF4EDc6a, \n",
      "SUCCESS writing rewards to SC for campaign 2 tx: 0xc771b5d3c3ca3fed586a006d4e201c28a68bead9d96b287bf9e4b15e76c7076c\n",
      "1 record updated\n",
      "Creating SC tx 2/20 to reward 0x31EFE0Abf3840f78cfFf414b44A2846fe13e4688\n",
      "GasPrice fetched from ethgasstation.info 40\n",
      "TX hash: 0xef6d721ef629de5f30b33f7e2bac12fdf50f2ecdc8acb4876eb0499001101132\n",
      "AttributeDict({'blockHash': HexBytes('0xae3284ec0c58e3c565e04fd6fd46dbb431dcbaeeac5893c4250dbcac9521230a'), 'blockNumber': 11408020, 'contractAddress': None, 'cumulativeGasUsed': 9212066, 'from': '0xe9540071278Dba4374A42a84B48c5e230328AeF7', 'gasUsed': 145280, 'logs': [AttributeDict({'address': '0xe7b8897D824C78e5C1076023508C43Eace3D2Afc', 'blockHash': HexBytes('0xae3284ec0c58e3c565e04fd6fd46dbb431dcbaeeac5893c4250dbcac9521230a'), 'blockNumber': 11408020, 'data': '0x0000000000000000000000005caf454ba92e6f2c929df14667ee360ed9fd5b260000000000000000000000000000000000000000000000001bc16d674ec80000', 'logIndex': 264, 'removed': False, 'topics': [HexBytes('0xeeecc2fca78e5b3eaac3c78bc0db4c19d0b8d600a75bbb4911c4a5e458a515ac'), HexBytes('0x0000000000000000000000003708045c19c4d0eab69289f8bc10d4a1ff4edc6a'), HexBytes('0x0000000000000000000000000000000000000000000000000000000000000002'), HexBytes('0x00000000000000000000000031efe0abf3840f78cfff414b44a2846fe13e4688')], 'transactionHash': HexBytes('0xef6d721ef629de5f30b33f7e2bac12fdf50f2ecdc8acb4876eb0499001101132'), 'transactionIndex': 59})], 'logsBloom': HexBytes('0x04000000000000000000000000000000000000000000000000000000000000000000000000040000000000000000001000000000000008000000100000000000000000000000000000000000000000000000000000000000000100000000000000000000000000000000000000000000000000000004000000000000000004000000200000000000000000000000000000000000000000000000000000000200000000000400000000000100000000000000000000000000000000000000000000000000000000000000000000000000000000000000000000000000020000000000000000000000000000000000000000000000008000000000000040000000'), 'status': 1, 'to': '0xe7b8897D824C78e5C1076023508C43Eace3D2Afc', 'transactionHash': HexBytes('0xef6d721ef629de5f30b33f7e2bac12fdf50f2ecdc8acb4876eb0499001101132'), 'transactionIndex': 59})\n",
      "LOGGING: b'\\xefmr\\x1e\\xf6)\\xde_0\\xb3?~+\\xac\\x12\\xfd\\xf5\\x0f.\\xcd\\xc8\\xac\\xb4\\x87n\\xb0I\\x90\\x01\\x10\\x112', rewarding: 0x31EFE0Abf3840f78cfFf414b44A2846fe13e4688, manager: 0x3708045C19c4D0eaB69289F8BC10D4a1fF4EDc6a, \n",
      "SUCCESS writing rewards to SC for campaign 2 tx: 0xef6d721ef629de5f30b33f7e2bac12fdf50f2ecdc8acb4876eb0499001101132\n",
      "1 record updated\n",
      "Creating SC tx 3/20 to reward 0x7e30C4cfFDbe6df08cD258Ee723d1fcd8D234b4f\n",
      "GasPrice fetched from ethgasstation.info 40\n",
      "TX hash: 0x155be5de3d414de26301258579cdf5d6a6b5ccf0ac3581de9263c56298599e84\n",
      "AttributeDict({'blockHash': HexBytes('0x69b47574550bdf806328d0b599898193c76ba9f59490527d92cecef2df37c025'), 'blockNumber': 11408022, 'contractAddress': None, 'cumulativeGasUsed': 5629214, 'from': '0xe9540071278Dba4374A42a84B48c5e230328AeF7', 'gasUsed': 130280, 'logs': [AttributeDict({'address': '0xe7b8897D824C78e5C1076023508C43Eace3D2Afc', 'blockHash': HexBytes('0x69b47574550bdf806328d0b599898193c76ba9f59490527d92cecef2df37c025'), 'blockNumber': 11408022, 'data': '0x0000000000000000000000005caf454ba92e6f2c929df14667ee360ed9fd5b260000000000000000000000000000000000000000000000001bc16d674ec80000', 'logIndex': 213, 'removed': False, 'topics': [HexBytes('0xeeecc2fca78e5b3eaac3c78bc0db4c19d0b8d600a75bbb4911c4a5e458a515ac'), HexBytes('0x0000000000000000000000003708045c19c4d0eab69289f8bc10d4a1ff4edc6a'), HexBytes('0x0000000000000000000000000000000000000000000000000000000000000002'), HexBytes('0x0000000000000000000000007e30c4cffdbe6df08cd258ee723d1fcd8d234b4f')], 'transactionHash': HexBytes('0x155be5de3d414de26301258579cdf5d6a6b5ccf0ac3581de9263c56298599e84'), 'transactionIndex': 34})], 'logsBloom': HexBytes('0x04000000000000000000000000000040000000000000000000000000000000000000000000040000000000000000000000000000000000000000100000000000000000000000000000000000000000000000000000000000000100000000000000000000000000000000000000000000000000000004000000000000000004000000200000000000000000000000000000000000000000000000000000000200000000040400000000000100000000000000000000000000000000000000000000800000000000000000000000000000000000000000000000000000000000000000000000000000000000000000000000000000008000000000000040000000'), 'status': 1, 'to': '0xe7b8897D824C78e5C1076023508C43Eace3D2Afc', 'transactionHash': HexBytes('0x155be5de3d414de26301258579cdf5d6a6b5ccf0ac3581de9263c56298599e84'), 'transactionIndex': 34})\n",
      "LOGGING: b'\\x15[\\xe5\\xde=AM\\xe2c\\x01%\\x85y\\xcd\\xf5\\xd6\\xa6\\xb5\\xcc\\xf0\\xac5\\x81\\xde\\x92c\\xc5b\\x98Y\\x9e\\x84', rewarding: 0x7e30C4cfFDbe6df08cD258Ee723d1fcd8D234b4f, manager: 0x3708045C19c4D0eaB69289F8BC10D4a1fF4EDc6a, \n",
      "SUCCESS writing rewards to SC for campaign 2 tx: 0x155be5de3d414de26301258579cdf5d6a6b5ccf0ac3581de9263c56298599e84\n",
      "1 record updated\n",
      "Creating SC tx 4/20 to reward 0x9fb470AE1278BE58fe7511F465812D44696F98f1\n",
      "GasPrice fetched from ethgasstation.info 40\n",
      "TX hash: 0x136419bc43bda23063cd7dfdd886e1ceedd8ba0a4525ecb9ec8f8058349e7727\n",
      "AttributeDict({'blockHash': HexBytes('0x5dfb8dfd7c4bb5128fb2dbf0e787e59624042415312fa72a943cf87c3f68ce73'), 'blockNumber': 11408023, 'contractAddress': None, 'cumulativeGasUsed': 9921967, 'from': '0xe9540071278Dba4374A42a84B48c5e230328AeF7', 'gasUsed': 145280, 'logs': [AttributeDict({'address': '0xe7b8897D824C78e5C1076023508C43Eace3D2Afc', 'blockHash': HexBytes('0x5dfb8dfd7c4bb5128fb2dbf0e787e59624042415312fa72a943cf87c3f68ce73'), 'blockNumber': 11408023, 'data': '0x0000000000000000000000005caf454ba92e6f2c929df14667ee360ed9fd5b260000000000000000000000000000000000000000000000001bc16d674ec80000', 'logIndex': 199, 'removed': False, 'topics': [HexBytes('0xeeecc2fca78e5b3eaac3c78bc0db4c19d0b8d600a75bbb4911c4a5e458a515ac'), HexBytes('0x0000000000000000000000003708045c19c4d0eab69289f8bc10d4a1ff4edc6a'), HexBytes('0x0000000000000000000000000000000000000000000000000000000000000002'), HexBytes('0x0000000000000000000000009fb470ae1278be58fe7511f465812d44696f98f1')], 'transactionHash': HexBytes('0x136419bc43bda23063cd7dfdd886e1ceedd8ba0a4525ecb9ec8f8058349e7727'), 'transactionIndex': 212})], 'logsBloom': HexBytes('0x04000000000000000000000000000000000000000000000000000000000000000000000000040000000000000000000000000000000000000000100000000000000000000000000000000000000000000000000000000000000100000000000000000000000000000000000000000001000000000004000000000000000004000000200000000000000000000000000000000000000000000000000000000200000000000400000000000100000000000000000000000000000000000000000000000000000000000000000000000000000000000000000000041000000000000000000000000000000000000000000000000000008000000000000040000000'), 'status': 1, 'to': '0xe7b8897D824C78e5C1076023508C43Eace3D2Afc', 'transactionHash': HexBytes('0x136419bc43bda23063cd7dfdd886e1ceedd8ba0a4525ecb9ec8f8058349e7727'), 'transactionIndex': 212})\n",
      "LOGGING: b\"\\x13d\\x19\\xbcC\\xbd\\xa20c\\xcd}\\xfd\\xd8\\x86\\xe1\\xce\\xed\\xd8\\xba\\nE%\\xec\\xb9\\xec\\x8f\\x80X4\\x9ew'\", rewarding: 0x9fb470AE1278BE58fe7511F465812D44696F98f1, manager: 0x3708045C19c4D0eaB69289F8BC10D4a1fF4EDc6a, \n",
      "SUCCESS writing rewards to SC for campaign 2 tx: 0x136419bc43bda23063cd7dfdd886e1ceedd8ba0a4525ecb9ec8f8058349e7727\n"
     ]
    },
    {
     "name": "stdout",
     "output_type": "stream",
     "text": [
      "1 record updated\n",
      "Creating SC tx 5/20 to reward 0x98BCe2Cc31c3C05c6d28EEcDB1476E7A133ea563\n",
      "GasPrice fetched from ethgasstation.info 40\n",
      "TX hash: 0x0f78391ed9c804947ab24913059354b3418cef455803eed586db1dfaf4378c9e\n",
      "AttributeDict({'blockHash': HexBytes('0xcd8a2043c82800ab45e87c49fdd9e1cd75197df173c9d2eec003d3ceb62b5f68'), 'blockNumber': 11408026, 'contractAddress': None, 'cumulativeGasUsed': 1287320, 'from': '0xe9540071278Dba4374A42a84B48c5e230328AeF7', 'gasUsed': 130280, 'logs': [AttributeDict({'address': '0xe7b8897D824C78e5C1076023508C43Eace3D2Afc', 'blockHash': HexBytes('0xcd8a2043c82800ab45e87c49fdd9e1cd75197df173c9d2eec003d3ceb62b5f68'), 'blockNumber': 11408026, 'data': '0x0000000000000000000000005caf454ba92e6f2c929df14667ee360ed9fd5b260000000000000000000000000000000000000000000000001bc16d674ec80000', 'logIndex': 26, 'removed': False, 'topics': [HexBytes('0xeeecc2fca78e5b3eaac3c78bc0db4c19d0b8d600a75bbb4911c4a5e458a515ac'), HexBytes('0x0000000000000000000000003708045c19c4d0eab69289f8bc10d4a1ff4edc6a'), HexBytes('0x0000000000000000000000000000000000000000000000000000000000000002'), HexBytes('0x00000000000000000000000098bce2cc31c3c05c6d28eecdb1476e7a133ea563')], 'transactionHash': HexBytes('0x0f78391ed9c804947ab24913059354b3418cef455803eed586db1dfaf4378c9e'), 'transactionIndex': 20})], 'logsBloom': HexBytes('0x04000000000000000000000000000000000000000000000000000000000000000000000000040000000000000000000000000000000080000000100000000000000000000000000000000000010000000000000000000000000100000000000000000000000000000000000000000000000000000004000000000000000004000000200000000000000000020000000000000000000000000000000000000200000000000400000000000100000000000000000000000000000000000000000000000000000000000000000000000000000000000000000000000000000000000000000000000000000000000000000000000000008000000000000040000000'), 'status': 1, 'to': '0xe7b8897D824C78e5C1076023508C43Eace3D2Afc', 'transactionHash': HexBytes('0x0f78391ed9c804947ab24913059354b3418cef455803eed586db1dfaf4378c9e'), 'transactionIndex': 20})\n",
      "LOGGING: b'\\x0fx9\\x1e\\xd9\\xc8\\x04\\x94z\\xb2I\\x13\\x05\\x93T\\xb3A\\x8c\\xefEX\\x03\\xee\\xd5\\x86\\xdb\\x1d\\xfa\\xf47\\x8c\\x9e', rewarding: 0x98BCe2Cc31c3C05c6d28EEcDB1476E7A133ea563, manager: 0x3708045C19c4D0eaB69289F8BC10D4a1fF4EDc6a, \n",
      "SUCCESS writing rewards to SC for campaign 2 tx: 0x0f78391ed9c804947ab24913059354b3418cef455803eed586db1dfaf4378c9e\n",
      "1 record updated\n",
      "Creating SC tx 6/20 to reward 0xde7245952B0fc83f4d098712DEe174fA54DF0e2c\n",
      "GasPrice fetched from ethgasstation.info 40\n",
      "TX hash: 0xf1c85e66b05e9f6c6ddb11dd8c5546fa9c2d39bd9c7e4fefa3e812f08e81384c\n",
      "AttributeDict({'blockHash': HexBytes('0x0af874a7e6f00fce3187749989c9cb6a3632a3f5a055e74645608af10d7d363f'), 'blockNumber': 11408029, 'contractAddress': None, 'cumulativeGasUsed': 10253320, 'from': '0xe9540071278Dba4374A42a84B48c5e230328AeF7', 'gasUsed': 130280, 'logs': [AttributeDict({'address': '0xe7b8897D824C78e5C1076023508C43Eace3D2Afc', 'blockHash': HexBytes('0x0af874a7e6f00fce3187749989c9cb6a3632a3f5a055e74645608af10d7d363f'), 'blockNumber': 11408029, 'data': '0x0000000000000000000000005caf454ba92e6f2c929df14667ee360ed9fd5b260000000000000000000000000000000000000000000000001bc16d674ec80000', 'logIndex': 279, 'removed': False, 'topics': [HexBytes('0xeeecc2fca78e5b3eaac3c78bc0db4c19d0b8d600a75bbb4911c4a5e458a515ac'), HexBytes('0x0000000000000000000000003708045c19c4d0eab69289f8bc10d4a1ff4edc6a'), HexBytes('0x0000000000000000000000000000000000000000000000000000000000000002'), HexBytes('0x000000000000000000000000de7245952b0fc83f4d098712dee174fa54df0e2c')], 'transactionHash': HexBytes('0xf1c85e66b05e9f6c6ddb11dd8c5546fa9c2d39bd9c7e4fefa3e812f08e81384c'), 'transactionIndex': 138})], 'logsBloom': HexBytes('0x04000000000000000000000000000000000000000000000000000000000000000000000000040000000000000000000000000400000000000000100000000000000000000000000000001000000000000000000000000000000100000000000000000000000000000000000000000000000000000004000000000000000004000000200000000000000000000000000000000000000000000000000000000200000000000400000000000100000000000000000000000000000000000000000000000000000000000000000000000002000000000000000000000000000000000000000000000000000000000000000000000000008000000000000040000000'), 'status': 1, 'to': '0xe7b8897D824C78e5C1076023508C43Eace3D2Afc', 'transactionHash': HexBytes('0xf1c85e66b05e9f6c6ddb11dd8c5546fa9c2d39bd9c7e4fefa3e812f08e81384c'), 'transactionIndex': 138})\n",
      "LOGGING: b'\\xf1\\xc8^f\\xb0^\\x9flm\\xdb\\x11\\xdd\\x8cUF\\xfa\\x9c-9\\xbd\\x9c~O\\xef\\xa3\\xe8\\x12\\xf0\\x8e\\x818L', rewarding: 0xde7245952B0fc83f4d098712DEe174fA54DF0e2c, manager: 0x3708045C19c4D0eaB69289F8BC10D4a1fF4EDc6a, \n",
      "SUCCESS writing rewards to SC for campaign 2 tx: 0xf1c85e66b05e9f6c6ddb11dd8c5546fa9c2d39bd9c7e4fefa3e812f08e81384c\n",
      "1 record updated\n",
      "Creating SC tx 7/20 to reward 0xB76b1011e6E64Ec129B161f188509D972C852Dcc\n",
      "GasPrice fetched from ethgasstation.info 40\n",
      "TX hash: 0xa983fae1841a191fcb1e5e9c77e8d3ff0e330d3060a4b8358558cda37f288c37\n",
      "AttributeDict({'blockHash': HexBytes('0xd4dab8beda6dc7d5441daeb14f2bac77db3bdc82ffd20778e3a9a47cdc6ce46c'), 'blockNumber': 11408031, 'contractAddress': None, 'cumulativeGasUsed': 11293704, 'from': '0xe9540071278Dba4374A42a84B48c5e230328AeF7', 'gasUsed': 130280, 'logs': [AttributeDict({'address': '0xe7b8897D824C78e5C1076023508C43Eace3D2Afc', 'blockHash': HexBytes('0xd4dab8beda6dc7d5441daeb14f2bac77db3bdc82ffd20778e3a9a47cdc6ce46c'), 'blockNumber': 11408031, 'data': '0x0000000000000000000000005caf454ba92e6f2c929df14667ee360ed9fd5b260000000000000000000000000000000000000000000000001bc16d674ec80000', 'logIndex': 229, 'removed': False, 'topics': [HexBytes('0xeeecc2fca78e5b3eaac3c78bc0db4c19d0b8d600a75bbb4911c4a5e458a515ac'), HexBytes('0x0000000000000000000000003708045c19c4d0eab69289f8bc10d4a1ff4edc6a'), HexBytes('0x0000000000000000000000000000000000000000000000000000000000000002'), HexBytes('0x000000000000000000000000b76b1011e6e64ec129b161f188509d972c852dcc')], 'transactionHash': HexBytes('0xa983fae1841a191fcb1e5e9c77e8d3ff0e330d3060a4b8358558cda37f288c37'), 'transactionIndex': 198})], 'logsBloom': HexBytes('0x04000000000000000000000000000000000000000000000000000000000000000000000000040000000000000000000000000000000000000000100000000000000000000000000000000000000000000000000000000000000100000000000000000000000000000000000000000020000000000004000000000080000004000000200000000000000000000000000000000000000000000000000000000200000000000400000000000100000000000001000000000000000000000000000000000000000000000000000000000000000000000000000000000000000000000000000000000000000000000000000000000000008000000000000040000000'), 'status': 1, 'to': '0xe7b8897D824C78e5C1076023508C43Eace3D2Afc', 'transactionHash': HexBytes('0xa983fae1841a191fcb1e5e9c77e8d3ff0e330d3060a4b8358558cda37f288c37'), 'transactionIndex': 198})\n",
      "LOGGING: b'\\xa9\\x83\\xfa\\xe1\\x84\\x1a\\x19\\x1f\\xcb\\x1e^\\x9cw\\xe8\\xd3\\xff\\x0e3\\r0`\\xa4\\xb85\\x85X\\xcd\\xa3\\x7f(\\x8c7', rewarding: 0xB76b1011e6E64Ec129B161f188509D972C852Dcc, manager: 0x3708045C19c4D0eaB69289F8BC10D4a1fF4EDc6a, \n",
      "SUCCESS writing rewards to SC for campaign 2 tx: 0xa983fae1841a191fcb1e5e9c77e8d3ff0e330d3060a4b8358558cda37f288c37\n",
      "1 record updated\n",
      "Creating SC tx 8/20 to reward 0xe5D4c76Ee57f112f7e579c8D76EE7F975f5E64e4\n",
      "GasPrice fetched from ethgasstation.info 40\n",
      "TX hash: 0xf950393379a2ce58994520cb4e2efb65625d025e6de88538ff8bb46e4f9c6e10\n",
      "AttributeDict({'blockHash': HexBytes('0x6620328fb38649d5abbad5f3ef428c760675bc1255b53a2278ec24d4b8fef686'), 'blockNumber': 11408036, 'contractAddress': None, 'cumulativeGasUsed': 7208173, 'from': '0xe9540071278Dba4374A42a84B48c5e230328AeF7', 'gasUsed': 145280, 'logs': [AttributeDict({'address': '0xe7b8897D824C78e5C1076023508C43Eace3D2Afc', 'blockHash': HexBytes('0x6620328fb38649d5abbad5f3ef428c760675bc1255b53a2278ec24d4b8fef686'), 'blockNumber': 11408036, 'data': '0x0000000000000000000000005caf454ba92e6f2c929df14667ee360ed9fd5b260000000000000000000000000000000000000000000000001bc16d674ec80000', 'logIndex': 244, 'removed': False, 'topics': [HexBytes('0xeeecc2fca78e5b3eaac3c78bc0db4c19d0b8d600a75bbb4911c4a5e458a515ac'), HexBytes('0x0000000000000000000000003708045c19c4d0eab69289f8bc10d4a1ff4edc6a'), HexBytes('0x0000000000000000000000000000000000000000000000000000000000000002'), HexBytes('0x000000000000000000000000e5d4c76ee57f112f7e579c8d76ee7f975f5e64e4')], 'transactionHash': HexBytes('0xf950393379a2ce58994520cb4e2efb65625d025e6de88538ff8bb46e4f9c6e10'), 'transactionIndex': 53})], 'logsBloom': HexBytes('0x04000000000000000000000000001000000000000000004000000000000000000000000000040000000000000000000000000000000000000000100000000000000000000000000000000000000000000000000000000000000100000000000000000000000000000000000000000000020000000004000000000000000004000000200000000000000000000000000000000000000000000000000000000200000000000400000000000100000000000000000000000000000000000000000000000000000000000000000000000000000000000000000000000000000000000000000000000000000000000000000000000000008000000000000040000000'), 'status': 1, 'to': '0xe7b8897D824C78e5C1076023508C43Eace3D2Afc', 'transactionHash': HexBytes('0xf950393379a2ce58994520cb4e2efb65625d025e6de88538ff8bb46e4f9c6e10'), 'transactionIndex': 53})\n",
      "LOGGING: b'\\xf9P93y\\xa2\\xceX\\x99E \\xcbN.\\xfbeb]\\x02^m\\xe8\\x858\\xff\\x8b\\xb4nO\\x9cn\\x10', rewarding: 0xe5D4c76Ee57f112f7e579c8D76EE7F975f5E64e4, manager: 0x3708045C19c4D0eaB69289F8BC10D4a1fF4EDc6a, \n",
      "SUCCESS writing rewards to SC for campaign 2 tx: 0xf950393379a2ce58994520cb4e2efb65625d025e6de88538ff8bb46e4f9c6e10\n"
     ]
    },
    {
     "name": "stdout",
     "output_type": "stream",
     "text": [
      "1 record updated\n",
      "Creating SC tx 9/20 to reward 0x03e10c7B9F18dC8ec29B622Ede6A60211Bb801e5\n",
      "GasPrice fetched from ethgasstation.info 40\n",
      "TX hash: 0x57c4c883009e29a43204616443b349223cc23225946bb96425dd4d8331a1a606\n",
      "AttributeDict({'blockHash': HexBytes('0x33c2a1799895bda17bf805249da7818657b406a7177e13f5aeec8475288aec5f'), 'blockNumber': 11408037, 'contractAddress': None, 'cumulativeGasUsed': 5681631, 'from': '0xe9540071278Dba4374A42a84B48c5e230328AeF7', 'gasUsed': 145280, 'logs': [AttributeDict({'address': '0xe7b8897D824C78e5C1076023508C43Eace3D2Afc', 'blockHash': HexBytes('0x33c2a1799895bda17bf805249da7818657b406a7177e13f5aeec8475288aec5f'), 'blockNumber': 11408037, 'data': '0x0000000000000000000000005caf454ba92e6f2c929df14667ee360ed9fd5b260000000000000000000000000000000000000000000000001bc16d674ec80000', 'logIndex': 170, 'removed': False, 'topics': [HexBytes('0xeeecc2fca78e5b3eaac3c78bc0db4c19d0b8d600a75bbb4911c4a5e458a515ac'), HexBytes('0x0000000000000000000000003708045c19c4d0eab69289f8bc10d4a1ff4edc6a'), HexBytes('0x0000000000000000000000000000000000000000000000000000000000000002'), HexBytes('0x00000000000000000000000003e10c7b9f18dc8ec29b622ede6a60211bb801e5')], 'transactionHash': HexBytes('0x57c4c883009e29a43204616443b349223cc23225946bb96425dd4d8331a1a606'), 'transactionIndex': 83})], 'logsBloom': HexBytes('0x04000000000000000000000000000000000000000000000000000000000000000000000000040000000000000000000000000000000000000000100000000000040000000000000000000000000000000000000000000000000100000000000000000000000000040000000000000000000000000004000000000000000004000000200000000000100000000000000000000000000000000000000000000200000000000400000000000100000000000000000000000000000000000000000000000000000000000000000000000000000000000000000000000000000000000000000000000000000000000000000000000000008000000000000040000000'), 'status': 1, 'to': '0xe7b8897D824C78e5C1076023508C43Eace3D2Afc', 'transactionHash': HexBytes('0x57c4c883009e29a43204616443b349223cc23225946bb96425dd4d8331a1a606'), 'transactionIndex': 83})\n",
      "LOGGING: b'W\\xc4\\xc8\\x83\\x00\\x9e)\\xa42\\x04adC\\xb3I\"<\\xc22%\\x94k\\xb9d%\\xddM\\x831\\xa1\\xa6\\x06', rewarding: 0x03e10c7B9F18dC8ec29B622Ede6A60211Bb801e5, manager: 0x3708045C19c4D0eaB69289F8BC10D4a1fF4EDc6a, \n",
      "SUCCESS writing rewards to SC for campaign 2 tx: 0x57c4c883009e29a43204616443b349223cc23225946bb96425dd4d8331a1a606\n",
      "1 record updated\n",
      "Creating SC tx 10/20 to reward 0x743DAace757269Cf3e3f57F1DF139117308849ff\n",
      "GasPrice fetched from ethgasstation.info 40\n",
      "TX hash: 0xcc86b269acec0c68c8262d6cbac99f097ed9b52c5b0876dc4b450a098b3efece\n",
      "AttributeDict({'blockHash': HexBytes('0x99c683d4c7decc9b9cf727d9eef04e85a1dd6a27ab6ad6d5c2e2047d820c59f3'), 'blockNumber': 11408039, 'contractAddress': None, 'cumulativeGasUsed': 11335030, 'from': '0xe9540071278Dba4374A42a84B48c5e230328AeF7', 'gasUsed': 145280, 'logs': [AttributeDict({'address': '0xe7b8897D824C78e5C1076023508C43Eace3D2Afc', 'blockHash': HexBytes('0x99c683d4c7decc9b9cf727d9eef04e85a1dd6a27ab6ad6d5c2e2047d820c59f3'), 'blockNumber': 11408039, 'data': '0x0000000000000000000000005caf454ba92e6f2c929df14667ee360ed9fd5b260000000000000000000000000000000000000000000000001bc16d674ec80000', 'logIndex': 252, 'removed': False, 'topics': [HexBytes('0xeeecc2fca78e5b3eaac3c78bc0db4c19d0b8d600a75bbb4911c4a5e458a515ac'), HexBytes('0x0000000000000000000000003708045c19c4d0eab69289f8bc10d4a1ff4edc6a'), HexBytes('0x0000000000000000000000000000000000000000000000000000000000000002'), HexBytes('0x000000000000000000000000743daace757269cf3e3f57f1df139117308849ff')], 'transactionHash': HexBytes('0xcc86b269acec0c68c8262d6cbac99f097ed9b52c5b0876dc4b450a098b3efece'), 'transactionIndex': 101})], 'logsBloom': HexBytes('0x04000000000000000000000000000000000000000000000000000000000000000000000000040000000000000000000000000000000000000000100000000000000000000000000000000000000000000000000000000000000100000000000000000000000000000000000000000000000000000004000000000000000004000000200000000000000000000000000000000001000000000000000000000200000000000400000000000100000000000000000000000000000000000000000000000000000000000000000000000000000000000000000000000000010000000000000000000000000000000000000000000000008000000000000040000004'), 'status': 1, 'to': '0xe7b8897D824C78e5C1076023508C43Eace3D2Afc', 'transactionHash': HexBytes('0xcc86b269acec0c68c8262d6cbac99f097ed9b52c5b0876dc4b450a098b3efece'), 'transactionIndex': 101})\n",
      "LOGGING: b'\\xcc\\x86\\xb2i\\xac\\xec\\x0ch\\xc8&-l\\xba\\xc9\\x9f\\t~\\xd9\\xb5,[\\x08v\\xdcKE\\n\\t\\x8b>\\xfe\\xce', rewarding: 0x743DAace757269Cf3e3f57F1DF139117308849ff, manager: 0x3708045C19c4D0eaB69289F8BC10D4a1fF4EDc6a, \n",
      "SUCCESS writing rewards to SC for campaign 2 tx: 0xcc86b269acec0c68c8262d6cbac99f097ed9b52c5b0876dc4b450a098b3efece\n",
      "1 record updated\n",
      "Creating SC tx 11/20 to reward 0x49d56C2020cAAe817C3b493B00E5c6dEC02f140C\n",
      "GasPrice fetched from ethgasstation.info 40\n",
      "TX hash: 0xd6bc5f5caea1d72d78f6e6e4f5467c27db1b3ff1a698130f75206671d0556655\n",
      "AttributeDict({'blockHash': HexBytes('0xe664f712d6e03a515dc5dfd168d082182682ca70afd421e4364e621d1684edab'), 'blockNumber': 11408041, 'contractAddress': None, 'cumulativeGasUsed': 11561757, 'from': '0xe9540071278Dba4374A42a84B48c5e230328AeF7', 'gasUsed': 145268, 'logs': [AttributeDict({'address': '0xe7b8897D824C78e5C1076023508C43Eace3D2Afc', 'blockHash': HexBytes('0xe664f712d6e03a515dc5dfd168d082182682ca70afd421e4364e621d1684edab'), 'blockNumber': 11408041, 'data': '0x0000000000000000000000005caf454ba92e6f2c929df14667ee360ed9fd5b260000000000000000000000000000000000000000000000001bc16d674ec80000', 'logIndex': 281, 'removed': False, 'topics': [HexBytes('0xeeecc2fca78e5b3eaac3c78bc0db4c19d0b8d600a75bbb4911c4a5e458a515ac'), HexBytes('0x0000000000000000000000003708045c19c4d0eab69289f8bc10d4a1ff4edc6a'), HexBytes('0x0000000000000000000000000000000000000000000000000000000000000002'), HexBytes('0x00000000000000000000000049d56c2020caae817c3b493b00e5c6dec02f140c')], 'transactionHash': HexBytes('0xd6bc5f5caea1d72d78f6e6e4f5467c27db1b3ff1a698130f75206671d0556655'), 'transactionIndex': 178})], 'logsBloom': HexBytes('0x04000000000000000000000000000000000000000000000000000000000000000000000000040000000000000000000000000000000000000000100000000200000000000000000000000000000000000000000000000000000100000000000000000000000000000000000000000000000000000004000000000000000004000000200000000000000000000200000000000000000000000000000000000200000000000400000000000100000020000000000000000000000000000000000000000000000000000000000000000000000000000000000000000000000000000000000000000000000000000000000000000000008000000000000040000000'), 'status': 1, 'to': '0xe7b8897D824C78e5C1076023508C43Eace3D2Afc', 'transactionHash': HexBytes('0xd6bc5f5caea1d72d78f6e6e4f5467c27db1b3ff1a698130f75206671d0556655'), 'transactionIndex': 178})\n",
      "LOGGING: b\"\\xd6\\xbc_\\\\\\xae\\xa1\\xd7-x\\xf6\\xe6\\xe4\\xf5F|'\\xdb\\x1b?\\xf1\\xa6\\x98\\x13\\x0fu fq\\xd0UfU\", rewarding: 0x49d56C2020cAAe817C3b493B00E5c6dEC02f140C, manager: 0x3708045C19c4D0eaB69289F8BC10D4a1fF4EDc6a, \n",
      "SUCCESS writing rewards to SC for campaign 2 tx: 0xd6bc5f5caea1d72d78f6e6e4f5467c27db1b3ff1a698130f75206671d0556655\n",
      "1 record updated\n",
      "Creating SC tx 12/20 to reward 0x7B7f84ce1D67a5fA47835B36552CC6973964Ba24\n",
      "GasPrice fetched from ethgasstation.info 40\n",
      "TX hash: 0x75f557755a7dd73a50a8a6f914f40fbedfd32ce3948707538bd5b9e676ef41a7\n",
      "AttributeDict({'blockHash': HexBytes('0x5c463dd7ab81646e946827f3bc781953d53c661b51343ad6ae1b6f9c28157c05'), 'blockNumber': 11408044, 'contractAddress': None, 'cumulativeGasUsed': 857209, 'from': '0xe9540071278Dba4374A42a84B48c5e230328AeF7', 'gasUsed': 130280, 'logs': [AttributeDict({'address': '0xe7b8897D824C78e5C1076023508C43Eace3D2Afc', 'blockHash': HexBytes('0x5c463dd7ab81646e946827f3bc781953d53c661b51343ad6ae1b6f9c28157c05'), 'blockNumber': 11408044, 'data': '0x0000000000000000000000005caf454ba92e6f2c929df14667ee360ed9fd5b260000000000000000000000000000000000000000000000001bc16d674ec80000', 'logIndex': 17, 'removed': False, 'topics': [HexBytes('0xeeecc2fca78e5b3eaac3c78bc0db4c19d0b8d600a75bbb4911c4a5e458a515ac'), HexBytes('0x0000000000000000000000003708045c19c4d0eab69289f8bc10d4a1ff4edc6a'), HexBytes('0x0000000000000000000000000000000000000000000000000000000000000002'), HexBytes('0x0000000000000000000000007b7f84ce1d67a5fa47835b36552cc6973964ba24')], 'transactionHash': HexBytes('0x75f557755a7dd73a50a8a6f914f40fbedfd32ce3948707538bd5b9e676ef41a7'), 'transactionIndex': 16})], 'logsBloom': HexBytes('0x04000000000000000000000000000000000000000000000000000000002000000000000000040000000000000000000000000000000000000000100000000000000000000000000000000000000000000000000000000000000100000000000000000000000000000000000000000000000000000004000000000000000004000000200000000000000000000000000000000000000000000000000000000200000000000400000000000100000020000000000000008000000000000000000000000000000000000000000000000000000000000000000000000000000000000000000000000000000000000000000000000000008000000000000040000000'), 'status': 1, 'to': '0xe7b8897D824C78e5C1076023508C43Eace3D2Afc', 'transactionHash': HexBytes('0x75f557755a7dd73a50a8a6f914f40fbedfd32ce3948707538bd5b9e676ef41a7'), 'transactionIndex': 16})\n",
      "LOGGING: b'u\\xf5WuZ}\\xd7:P\\xa8\\xa6\\xf9\\x14\\xf4\\x0f\\xbe\\xdf\\xd3,\\xe3\\x94\\x87\\x07S\\x8b\\xd5\\xb9\\xe6v\\xefA\\xa7', rewarding: 0x7B7f84ce1D67a5fA47835B36552CC6973964Ba24, manager: 0x3708045C19c4D0eaB69289F8BC10D4a1fF4EDc6a, \n",
      "SUCCESS writing rewards to SC for campaign 2 tx: 0x75f557755a7dd73a50a8a6f914f40fbedfd32ce3948707538bd5b9e676ef41a7\n"
     ]
    },
    {
     "name": "stdout",
     "output_type": "stream",
     "text": [
      "1 record updated\n",
      "Creating SC tx 13/20 to reward 0xDdAaC482530e2d5C31C19727c6721e192d539666\n",
      "GasPrice fetched from ethgasstation.info 40\n",
      "TX hash: 0xec221bd70a1160e8eaeb3b321b930f154e2305bd2be13a2d682e8c4cdd389e29\n",
      "AttributeDict({'blockHash': HexBytes('0xbbdf900c3e043cb29f11cb46482251c8abaa98ceb826d5d19b9d2bfda67ea802'), 'blockNumber': 11408045, 'contractAddress': None, 'cumulativeGasUsed': 7433755, 'from': '0xe9540071278Dba4374A42a84B48c5e230328AeF7', 'gasUsed': 145280, 'logs': [AttributeDict({'address': '0xe7b8897D824C78e5C1076023508C43Eace3D2Afc', 'blockHash': HexBytes('0xbbdf900c3e043cb29f11cb46482251c8abaa98ceb826d5d19b9d2bfda67ea802'), 'blockNumber': 11408045, 'data': '0x0000000000000000000000005caf454ba92e6f2c929df14667ee360ed9fd5b260000000000000000000000000000000000000000000000001bc16d674ec80000', 'logIndex': 187, 'removed': False, 'topics': [HexBytes('0xeeecc2fca78e5b3eaac3c78bc0db4c19d0b8d600a75bbb4911c4a5e458a515ac'), HexBytes('0x0000000000000000000000003708045c19c4d0eab69289f8bc10d4a1ff4edc6a'), HexBytes('0x0000000000000000000000000000000000000000000000000000000000000002'), HexBytes('0x000000000000000000000000ddaac482530e2d5c31c19727c6721e192d539666')], 'transactionHash': HexBytes('0xec221bd70a1160e8eaeb3b321b930f154e2305bd2be13a2d682e8c4cdd389e29'), 'transactionIndex': 114})], 'logsBloom': HexBytes('0x04000000000000000000000000000000000000000000000000000000000000000000000000040000000000000000000000000400000000000000100000000000000000000000000000000000000000000000000000000000000100000000000000000000000000000000000000000000000000000004000000000000000004000000200000000000000000000000000000000000000080000000000000000200000000000400000000000100000000000000000000010000000000000000000000000000000000000000000000000000000000000000000000000000000000000000000000000000000000000000000000000000008000000000000040000000'), 'status': 1, 'to': '0xe7b8897D824C78e5C1076023508C43Eace3D2Afc', 'transactionHash': HexBytes('0xec221bd70a1160e8eaeb3b321b930f154e2305bd2be13a2d682e8c4cdd389e29'), 'transactionIndex': 114})\n",
      "LOGGING: b'\\xec\"\\x1b\\xd7\\n\\x11`\\xe8\\xea\\xeb;2\\x1b\\x93\\x0f\\x15N#\\x05\\xbd+\\xe1:-h.\\x8cL\\xdd8\\x9e)', rewarding: 0xDdAaC482530e2d5C31C19727c6721e192d539666, manager: 0x3708045C19c4D0eaB69289F8BC10D4a1fF4EDc6a, \n",
      "SUCCESS writing rewards to SC for campaign 2 tx: 0xec221bd70a1160e8eaeb3b321b930f154e2305bd2be13a2d682e8c4cdd389e29\n",
      "1 record updated\n",
      "Creating SC tx 14/20 to reward 0xB2b03244224D40432f1Fb9B58468403C9027A576\n",
      "GasPrice fetched from ethgasstation.info 40\n",
      "TX hash: 0x74b6d43c8c844a4936b7c34b057f898a192c3d6b4c2dc1c99a7fde02a7313268\n",
      "AttributeDict({'blockHash': HexBytes('0x1b19164c096edb3469245947dc83f13cde818ad909b3b0cc92a4ebbfca31b970'), 'blockNumber': 11408046, 'contractAddress': None, 'cumulativeGasUsed': 9883105, 'from': '0xe9540071278Dba4374A42a84B48c5e230328AeF7', 'gasUsed': 145280, 'logs': [AttributeDict({'address': '0xe7b8897D824C78e5C1076023508C43Eace3D2Afc', 'blockHash': HexBytes('0x1b19164c096edb3469245947dc83f13cde818ad909b3b0cc92a4ebbfca31b970'), 'blockNumber': 11408046, 'data': '0x0000000000000000000000005caf454ba92e6f2c929df14667ee360ed9fd5b260000000000000000000000000000000000000000000000001bc16d674ec80000', 'logIndex': 230, 'removed': False, 'topics': [HexBytes('0xeeecc2fca78e5b3eaac3c78bc0db4c19d0b8d600a75bbb4911c4a5e458a515ac'), HexBytes('0x0000000000000000000000003708045c19c4d0eab69289f8bc10d4a1ff4edc6a'), HexBytes('0x0000000000000000000000000000000000000000000000000000000000000002'), HexBytes('0x000000000000000000000000b2b03244224d40432f1fb9b58468403c9027a576')], 'transactionHash': HexBytes('0x74b6d43c8c844a4936b7c34b057f898a192c3d6b4c2dc1c99a7fde02a7313268'), 'transactionIndex': 126})], 'logsBloom': HexBytes('0x04000000000000000000000000000000000000000000000000000000000000000000000000041000000000000000000000000000000000000000100000000000000000000000000000000000000000000000000000000000000100000000000000000000000000000000000000000000000000000004000000000000000004000000200000000000002000000000000000000000000000000000000000000200000000000400000000000100000000000000000000000000000000000000000000000000000000000000000000000000000000000000000000000000000000000000000000100000000000000000000000000000008000000000000040000000'), 'status': 1, 'to': '0xe7b8897D824C78e5C1076023508C43Eace3D2Afc', 'transactionHash': HexBytes('0x74b6d43c8c844a4936b7c34b057f898a192c3d6b4c2dc1c99a7fde02a7313268'), 'transactionIndex': 126})\n",
      "LOGGING: b't\\xb6\\xd4<\\x8c\\x84JI6\\xb7\\xc3K\\x05\\x7f\\x89\\x8a\\x19,=kL-\\xc1\\xc9\\x9a\\x7f\\xde\\x02\\xa712h', rewarding: 0xB2b03244224D40432f1Fb9B58468403C9027A576, manager: 0x3708045C19c4D0eaB69289F8BC10D4a1fF4EDc6a, \n",
      "SUCCESS writing rewards to SC for campaign 2 tx: 0x74b6d43c8c844a4936b7c34b057f898a192c3d6b4c2dc1c99a7fde02a7313268\n",
      "1 record updated\n",
      "Creating SC tx 15/20 to reward 0xf3E3a1f4a01a093183F4468CC0d80cdE9B03B2CD\n",
      "GasPrice fetched from ethgasstation.info 29\n",
      "TX hash: 0xc4e3c508da4176fa899b55f1e79c57b14406819a14771ade063fd73ce929f42f\n",
      "AttributeDict({'blockHash': HexBytes('0x48d3ebafa28d5035495ae68949bac553caba7cdf32babecf342a4ddab528bc58'), 'blockNumber': 11408048, 'contractAddress': None, 'cumulativeGasUsed': 6729291, 'from': '0xe9540071278Dba4374A42a84B48c5e230328AeF7', 'gasUsed': 145280, 'logs': [AttributeDict({'address': '0xe7b8897D824C78e5C1076023508C43Eace3D2Afc', 'blockHash': HexBytes('0x48d3ebafa28d5035495ae68949bac553caba7cdf32babecf342a4ddab528bc58'), 'blockNumber': 11408048, 'data': '0x0000000000000000000000005caf454ba92e6f2c929df14667ee360ed9fd5b260000000000000000000000000000000000000000000000001bc16d674ec80000', 'logIndex': 131, 'removed': False, 'topics': [HexBytes('0xeeecc2fca78e5b3eaac3c78bc0db4c19d0b8d600a75bbb4911c4a5e458a515ac'), HexBytes('0x0000000000000000000000003708045c19c4d0eab69289f8bc10d4a1ff4edc6a'), HexBytes('0x0000000000000000000000000000000000000000000000000000000000000002'), HexBytes('0x000000000000000000000000f3e3a1f4a01a093183f4468cc0d80cde9b03b2cd')], 'transactionHash': HexBytes('0xc4e3c508da4176fa899b55f1e79c57b14406819a14771ade063fd73ce929f42f'), 'transactionIndex': 96})], 'logsBloom': HexBytes('0x04000000000000000000000000000000000000000100000000000000000000000000000000040000000000000000000000000000000000000000100000000000000000000000000000000000000000000000000000000000000100000000000000000000000000000000000000000000000000000004000000000000000004000000200000000000000000000001000000000000004000000000000000000200000000000400000000000100000000000000000000000000000000000000000000000000000000000000000000000000000000000000000000000000000000000000000000000000000000000000000000000000008000000000000040000000'), 'status': 1, 'to': '0xe7b8897D824C78e5C1076023508C43Eace3D2Afc', 'transactionHash': HexBytes('0xc4e3c508da4176fa899b55f1e79c57b14406819a14771ade063fd73ce929f42f'), 'transactionIndex': 96})\n",
      "LOGGING: b'\\xc4\\xe3\\xc5\\x08\\xdaAv\\xfa\\x89\\x9bU\\xf1\\xe7\\x9cW\\xb1D\\x06\\x81\\x9a\\x14w\\x1a\\xde\\x06?\\xd7<\\xe9)\\xf4/', rewarding: 0xf3E3a1f4a01a093183F4468CC0d80cdE9B03B2CD, manager: 0x3708045C19c4D0eaB69289F8BC10D4a1fF4EDc6a, \n",
      "SUCCESS writing rewards to SC for campaign 2 tx: 0xc4e3c508da4176fa899b55f1e79c57b14406819a14771ade063fd73ce929f42f\n",
      "1 record updated\n",
      "Creating SC tx 16/20 to reward 0xa8672C3cef0dCe305102f20AC820c921c91fF7e2\n",
      "GasPrice fetched from ethgasstation.info 30\n",
      "TX hash: 0x2f6e8f1a42df98e4819f22eb1deccbbf1cbd3ca71a0fe7237b1e8a0bb28532ef\n",
      "AttributeDict({'blockHash': HexBytes('0x763191788a15f41b4b8448dc9e07e7c0985220b3106a3bab1a5c19a1d60d10f8'), 'blockNumber': 11408050, 'contractAddress': None, 'cumulativeGasUsed': 5515956, 'from': '0xe9540071278Dba4374A42a84B48c5e230328AeF7', 'gasUsed': 130280, 'logs': [AttributeDict({'address': '0xe7b8897D824C78e5C1076023508C43Eace3D2Afc', 'blockHash': HexBytes('0x763191788a15f41b4b8448dc9e07e7c0985220b3106a3bab1a5c19a1d60d10f8'), 'blockNumber': 11408050, 'data': '0x0000000000000000000000005caf454ba92e6f2c929df14667ee360ed9fd5b260000000000000000000000000000000000000000000000001bc16d674ec80000', 'logIndex': 88, 'removed': False, 'topics': [HexBytes('0xeeecc2fca78e5b3eaac3c78bc0db4c19d0b8d600a75bbb4911c4a5e458a515ac'), HexBytes('0x0000000000000000000000003708045c19c4d0eab69289f8bc10d4a1ff4edc6a'), HexBytes('0x0000000000000000000000000000000000000000000000000000000000000002'), HexBytes('0x000000000000000000000000a8672c3cef0dce305102f20ac820c921c91ff7e2')], 'transactionHash': HexBytes('0x2f6e8f1a42df98e4819f22eb1deccbbf1cbd3ca71a0fe7237b1e8a0bb28532ef'), 'transactionIndex': 49})], 'logsBloom': HexBytes('0x04000000000000000000000000000000000000000000000000000000000200000000000000040000000000000000000000000000000000000000100000000000000000000000000000000000000000004000000000000000000100000000000000000000000000000000000000000000000000000004000000000040000004000000200000000000000000000000000000000000000000000000000000000200000000000400000000000100000000000000000000000000000000000000000000000000000000000000000000000000000000000000000000000000000000000000000000000000000000000000000000000000008000000000000040000000'), 'status': 1, 'to': '0xe7b8897D824C78e5C1076023508C43Eace3D2Afc', 'transactionHash': HexBytes('0x2f6e8f1a42df98e4819f22eb1deccbbf1cbd3ca71a0fe7237b1e8a0bb28532ef'), 'transactionIndex': 49})\n",
      "LOGGING: b'/n\\x8f\\x1aB\\xdf\\x98\\xe4\\x81\\x9f\"\\xeb\\x1d\\xec\\xcb\\xbf\\x1c\\xbd<\\xa7\\x1a\\x0f\\xe7#{\\x1e\\x8a\\x0b\\xb2\\x852\\xef', rewarding: 0xa8672C3cef0dCe305102f20AC820c921c91fF7e2, manager: 0x3708045C19c4D0eaB69289F8BC10D4a1fF4EDc6a, \n",
      "SUCCESS writing rewards to SC for campaign 2 tx: 0x2f6e8f1a42df98e4819f22eb1deccbbf1cbd3ca71a0fe7237b1e8a0bb28532ef\n"
     ]
    },
    {
     "name": "stdout",
     "output_type": "stream",
     "text": [
      "1 record updated\n",
      "Creating SC tx 17/20 to reward 0x71ce21a0776DF966052cAc4FE98d18313dd3c214\n",
      "GasPrice fetched from ethgasstation.info 34\n",
      "TX hash: 0xfeddd4b21d2afb0d997aeb7c9d6e02e11fc506e39d8c072bde80bc4f8fc2a719\n",
      "AttributeDict({'blockHash': HexBytes('0xe92efb39d76eff562e99c0585e2b0257a42ce649d2417efea3ed3b348adc84cb'), 'blockNumber': 11408053, 'contractAddress': None, 'cumulativeGasUsed': 3491884, 'from': '0xe9540071278Dba4374A42a84B48c5e230328AeF7', 'gasUsed': 145280, 'logs': [AttributeDict({'address': '0xe7b8897D824C78e5C1076023508C43Eace3D2Afc', 'blockHash': HexBytes('0xe92efb39d76eff562e99c0585e2b0257a42ce649d2417efea3ed3b348adc84cb'), 'blockNumber': 11408053, 'data': '0x0000000000000000000000005caf454ba92e6f2c929df14667ee360ed9fd5b260000000000000000000000000000000000000000000000001bc16d674ec80000', 'logIndex': 109, 'removed': False, 'topics': [HexBytes('0xeeecc2fca78e5b3eaac3c78bc0db4c19d0b8d600a75bbb4911c4a5e458a515ac'), HexBytes('0x0000000000000000000000003708045c19c4d0eab69289f8bc10d4a1ff4edc6a'), HexBytes('0x0000000000000000000000000000000000000000000000000000000000000002'), HexBytes('0x00000000000000000000000071ce21a0776df966052cac4fe98d18313dd3c214')], 'transactionHash': HexBytes('0xfeddd4b21d2afb0d997aeb7c9d6e02e11fc506e39d8c072bde80bc4f8fc2a719'), 'transactionIndex': 31})], 'logsBloom': HexBytes('0x04000000000000000000000000000000000000000000000000000000000000000000000000040000000000000000000000000000000000000000100000000000000000000100000000000000000000000000000000000000000100000000000000000000000000000000000000000000000000000004000000000000000004000000200000000000000000000000000000000000000000000000000000000200000000000400000000000100000000000000000000000000000000000000000000000000000000000000000000000000000000000000000000000000008000000000000000000000000000000000000000000000008000008000000040000000'), 'status': 1, 'to': '0xe7b8897D824C78e5C1076023508C43Eace3D2Afc', 'transactionHash': HexBytes('0xfeddd4b21d2afb0d997aeb7c9d6e02e11fc506e39d8c072bde80bc4f8fc2a719'), 'transactionIndex': 31})\n",
      "LOGGING: b'\\xfe\\xdd\\xd4\\xb2\\x1d*\\xfb\\r\\x99z\\xeb|\\x9dn\\x02\\xe1\\x1f\\xc5\\x06\\xe3\\x9d\\x8c\\x07+\\xde\\x80\\xbcO\\x8f\\xc2\\xa7\\x19', rewarding: 0x71ce21a0776DF966052cAc4FE98d18313dd3c214, manager: 0x3708045C19c4D0eaB69289F8BC10D4a1fF4EDc6a, \n",
      "SUCCESS writing rewards to SC for campaign 2 tx: 0xfeddd4b21d2afb0d997aeb7c9d6e02e11fc506e39d8c072bde80bc4f8fc2a719\n",
      "1 record updated\n",
      "Creating SC tx 18/20 to reward 0x5bDC20C8D3b00268c1CB0D1Ae404956B6feEf19A\n",
      "GasPrice fetched from ethgasstation.info 34\n",
      "TX hash: 0x0dd7859a9de63fa41c40836a7c3b7cf3d89f8b5b3fe578f46ed1a0979f57d79f\n",
      "AttributeDict({'blockHash': HexBytes('0x632ba09cc7129e465142230448308ac5811938df41152cb77051168e1374eb75'), 'blockNumber': 11408056, 'contractAddress': None, 'cumulativeGasUsed': 8410627, 'from': '0xe9540071278Dba4374A42a84B48c5e230328AeF7', 'gasUsed': 130280, 'logs': [AttributeDict({'address': '0xe7b8897D824C78e5C1076023508C43Eace3D2Afc', 'blockHash': HexBytes('0x632ba09cc7129e465142230448308ac5811938df41152cb77051168e1374eb75'), 'blockNumber': 11408056, 'data': '0x0000000000000000000000005caf454ba92e6f2c929df14667ee360ed9fd5b260000000000000000000000000000000000000000000000001bc16d674ec80000', 'logIndex': 251, 'removed': False, 'topics': [HexBytes('0xeeecc2fca78e5b3eaac3c78bc0db4c19d0b8d600a75bbb4911c4a5e458a515ac'), HexBytes('0x0000000000000000000000003708045c19c4d0eab69289f8bc10d4a1ff4edc6a'), HexBytes('0x0000000000000000000000000000000000000000000000000000000000000002'), HexBytes('0x0000000000000000000000005bdc20c8d3b00268c1cb0d1ae404956b6feef19a')], 'transactionHash': HexBytes('0x0dd7859a9de63fa41c40836a7c3b7cf3d89f8b5b3fe578f46ed1a0979f57d79f'), 'transactionIndex': 87})], 'logsBloom': HexBytes('0x04000000000000000000000000000000000000000000000000000000000000000000000000040000000000000000000000000000000000000000100000000000000000000000000000000000000000000000000000000000000100000000000000000000000000000000000000000000000000000004000000000000000004000000200000000000000000000000000000000000000000000000000000000200000000001400000000000100000000000000000000000000000000000000000000000000000000000000000000000000000000000000000000000000000000000000000018000000000000000000000000000000008000000000000040000000'), 'status': 1, 'to': '0xe7b8897D824C78e5C1076023508C43Eace3D2Afc', 'transactionHash': HexBytes('0x0dd7859a9de63fa41c40836a7c3b7cf3d89f8b5b3fe578f46ed1a0979f57d79f'), 'transactionIndex': 87})\n",
      "LOGGING: b'\\r\\xd7\\x85\\x9a\\x9d\\xe6?\\xa4\\x1c@\\x83j|;|\\xf3\\xd8\\x9f\\x8b[?\\xe5x\\xf4n\\xd1\\xa0\\x97\\x9fW\\xd7\\x9f', rewarding: 0x5bDC20C8D3b00268c1CB0D1Ae404956B6feEf19A, manager: 0x3708045C19c4D0eaB69289F8BC10D4a1fF4EDc6a, \n",
      "SUCCESS writing rewards to SC for campaign 2 tx: 0x0dd7859a9de63fa41c40836a7c3b7cf3d89f8b5b3fe578f46ed1a0979f57d79f\n",
      "1 record updated\n",
      "Creating SC tx 19/20 to reward 0x70D9C0d1dA746c7849E4aca3a3b2cA406a478869\n",
      "GasPrice fetched from ethgasstation.info 37\n",
      "TX hash: 0x37340ec1c84eff9ebea6b1a01235c81d4d769ed83185f5ae87d7778de5dae877\n",
      "AttributeDict({'blockHash': HexBytes('0x9960c0e08b641af0cc23ef87cc990658af5319c45e20d60e8578c95912049c95'), 'blockNumber': 11408057, 'contractAddress': None, 'cumulativeGasUsed': 11687483, 'from': '0xe9540071278Dba4374A42a84B48c5e230328AeF7', 'gasUsed': 145280, 'logs': [AttributeDict({'address': '0xe7b8897D824C78e5C1076023508C43Eace3D2Afc', 'blockHash': HexBytes('0x9960c0e08b641af0cc23ef87cc990658af5319c45e20d60e8578c95912049c95'), 'blockNumber': 11408057, 'data': '0x0000000000000000000000005caf454ba92e6f2c929df14667ee360ed9fd5b260000000000000000000000000000000000000000000000001bc16d674ec80000', 'logIndex': 337, 'removed': False, 'topics': [HexBytes('0xeeecc2fca78e5b3eaac3c78bc0db4c19d0b8d600a75bbb4911c4a5e458a515ac'), HexBytes('0x0000000000000000000000003708045c19c4d0eab69289f8bc10d4a1ff4edc6a'), HexBytes('0x0000000000000000000000000000000000000000000000000000000000000002'), HexBytes('0x00000000000000000000000070d9c0d1da746c7849e4aca3a3b2ca406a478869')], 'transactionHash': HexBytes('0x37340ec1c84eff9ebea6b1a01235c81d4d769ed83185f5ae87d7778de5dae877'), 'transactionIndex': 151})], 'logsBloom': HexBytes('0x04000000000000000000000000000000000000000000000000000000000000000000000000040000000200000000000000000000000000000000100000000000000000000000000000000000000000000000000000000000000100000000000000000000000000000000000000000000000000000004000000000000000004000000200000000000000000000000000000000000000000000000000000000200000000000400000000000100000000000000000000000040000000000000040000000000000000000000000000000000000000000000000000000000000000000000000000000000000000000000000000000000008000000000000040000000'), 'status': 1, 'to': '0xe7b8897D824C78e5C1076023508C43Eace3D2Afc', 'transactionHash': HexBytes('0x37340ec1c84eff9ebea6b1a01235c81d4d769ed83185f5ae87d7778de5dae877'), 'transactionIndex': 151})\n",
      "LOGGING: b'74\\x0e\\xc1\\xc8N\\xff\\x9e\\xbe\\xa6\\xb1\\xa0\\x125\\xc8\\x1dMv\\x9e\\xd81\\x85\\xf5\\xae\\x87\\xd7w\\x8d\\xe5\\xda\\xe8w', rewarding: 0x70D9C0d1dA746c7849E4aca3a3b2cA406a478869, manager: 0x3708045C19c4D0eaB69289F8BC10D4a1fF4EDc6a, \n",
      "SUCCESS writing rewards to SC for campaign 2 tx: 0x37340ec1c84eff9ebea6b1a01235c81d4d769ed83185f5ae87d7778de5dae877\n",
      "1 record updated\n",
      "Creating SC tx 20/20 to reward 0xe77f4ad2D5d75c91B94fb7829171ef44335CeC0D\n",
      "GasPrice fetched from ethgasstation.info 37\n",
      "TX hash: 0x52ecd190d6ac326df161ae9a9ffcf36a03f96f1c1d05dcaf2bb236914951455b\n",
      "AttributeDict({'blockHash': HexBytes('0x74410da2f93a3b37d1116422681449520fdd9b16a8e4db0ae438090c271bf0a5'), 'blockNumber': 11408064, 'contractAddress': None, 'cumulativeGasUsed': 8643971, 'from': '0xe9540071278Dba4374A42a84B48c5e230328AeF7', 'gasUsed': 130280, 'logs': [AttributeDict({'address': '0xe7b8897D824C78e5C1076023508C43Eace3D2Afc', 'blockHash': HexBytes('0x74410da2f93a3b37d1116422681449520fdd9b16a8e4db0ae438090c271bf0a5'), 'blockNumber': 11408064, 'data': '0x0000000000000000000000005caf454ba92e6f2c929df14667ee360ed9fd5b260000000000000000000000000000000000000000000000001bc16d674ec80000', 'logIndex': 225, 'removed': False, 'topics': [HexBytes('0xeeecc2fca78e5b3eaac3c78bc0db4c19d0b8d600a75bbb4911c4a5e458a515ac'), HexBytes('0x0000000000000000000000003708045c19c4d0eab69289f8bc10d4a1ff4edc6a'), HexBytes('0x0000000000000000000000000000000000000000000000000000000000000002'), HexBytes('0x000000000000000000000000e77f4ad2d5d75c91b94fb7829171ef44335cec0d')], 'transactionHash': HexBytes('0x52ecd190d6ac326df161ae9a9ffcf36a03f96f1c1d05dcaf2bb236914951455b'), 'transactionIndex': 130})], 'logsBloom': HexBytes('0x04000000000000000000000000000000000000000000000000000000000000000000000000040000000000000000000000000000000000000000100000000008000000000000000000000000000040200000000000000000000100000000000000000000000000000000000000000000000000000004000000000000000004000000200000000000000000000000000000000000000000000000000000000200000000000400000000000100000000000000000000000000000000000000000000000000000000000000000000000000000000000000000000000000000000000000000000000000000000000000000000000000008000000000000040000000'), 'status': 1, 'to': '0xe7b8897D824C78e5C1076023508C43Eace3D2Afc', 'transactionHash': HexBytes('0x52ecd190d6ac326df161ae9a9ffcf36a03f96f1c1d05dcaf2bb236914951455b'), 'transactionIndex': 130})\n",
      "LOGGING: b'R\\xec\\xd1\\x90\\xd6\\xac2m\\xf1a\\xae\\x9a\\x9f\\xfc\\xf3j\\x03\\xf9o\\x1c\\x1d\\x05\\xdc\\xaf+\\xb26\\x91IQE[', rewarding: 0xe77f4ad2D5d75c91B94fb7829171ef44335CeC0D, manager: 0x3708045C19c4D0eaB69289F8BC10D4a1fF4EDc6a, \n",
      "SUCCESS writing rewards to SC for campaign 2 tx: 0x52ecd190d6ac326df161ae9a9ffcf36a03f96f1c1d05dcaf2bb236914951455b\n"
     ]
    },
    {
     "name": "stdout",
     "output_type": "stream",
     "text": [
      "1 record updated\n"
     ]
    }
   ],
   "source": [
    "for i, reward_pending in enumerate(rewards_pending):\n",
    "    print(f\"Creating SC tx {i+1}/{len(rewards_pending)} to reward {reward_pending}\")\n",
    "\n",
    "    ###################################\n",
    "    ### WRITE REWARDS TO SMART CONTRACT\n",
    "    ###################################\n",
    "    \n",
    "    # get gas price from ethgasstation.info\n",
    "    gasPrice = 25\n",
    "    try:\n",
    "        headers = {'User-Agent': 'blah',}\n",
    "        response = requests.get('https://ethgasstation.info/json/ethgasAPI.json', headers=headers)\n",
    "        gasPrice = int(response.json()['safeLow']/10)\n",
    "        print(f\"GasPrice fetched from ethgasstation.info {gasPrice}\")\n",
    "    except Exception as e:\n",
    "        print(\"ERROR FETCHING GAS PRICE - using default of 25\")\n",
    "        print(e)\n",
    "\n",
    "    # OVERRIDE\n",
    "    gasPrice = 25\n",
    "\n",
    "    contract = web3.eth.contract(abi=abi, bytecode=bytecode)\n",
    "\n",
    "    tx = contract.functions.rewardAddresses(manager_ethereum_address, campaign_id, [reward_pending]).buildTransaction(\n",
    "        {'gas':250000,\n",
    "         'gasPrice': web3.toWei(gasPrice, 'gwei'),\n",
    "         'from': secret['ETHBACKENDPUBLIC'],\n",
    "         'to': contract_address,\n",
    "         'nonce': web3.eth.getTransactionCount(secret['ETHBACKENDPUBLIC'])\n",
    "        })\n",
    "\n",
    "    signed_txn = web3.eth.account.signTransaction(tx, private_key=secret['ETHBACKENDPRIVATE'])\n",
    "    tx_hash = web3.eth.sendRawTransaction(signed_txn.rawTransaction)\n",
    "    print(f\"TX hash: {tx_hash.hex()}\")\n",
    "    receipt = web3.eth.waitForTransactionReceipt(tx_hash, timeout=3600)\n",
    "    print(receipt)\n",
    "\n",
    "    print(f\"LOGGING: {tx_hash}, rewarding: {reward_pending}, manager: {manager_ethereum_address}, \")\n",
    "\n",
    "    if receipt['status'] == 1:\n",
    "        print(f\"SUCCESS writing rewards to SC for campaign {campaign_id} tx: {tx_hash.hex()}\")\n",
    "\n",
    "        # update blockchain_write_time\n",
    "        db = mysql.connect(host=secret['DBHOST'],user=secret['DBUSER'],passwd=secret['DBPASS'],database=secret['DBTABLE'])\n",
    "        cursor = db.cursor()\n",
    "        query = \"UPDATE rewards SET blockchain_write_time=%s, blockchain_write_tx_hash=%s, gas_used=%s, blockchain_write_tx_status=%s WHERE campaign_id=%s AND manager_ethereum_address=%s AND twitter_handle=%s;\"\n",
    "        values = (str(datetime.datetime.now()).split('.')[0], str(tx_hash.hex()), receipt['gasUsed'], 1, str(campaign_id), manager_ethereum_address, wallets_users[reward_pending])\n",
    "        cursor.execute(query, values)\n",
    "        db.commit()\n",
    "        print(cursor.rowcount, \"record updated\")\n",
    "        cursor.close()\n",
    "        db.close()  \n",
    "    else:\n",
    "        print(f\"ERROR FAIL writing rewards to SC for campaign {campaign_id} tx: {tx_hash.hex()}\")"
   ]
  },
  {
   "cell_type": "markdown",
   "metadata": {
    "heading_collapsed": true
   },
   "source": [
    "# Check confirmation status"
   ]
  },
  {
   "cell_type": "code",
   "execution_count": 59,
   "metadata": {
    "ExecuteTime": {
     "end_time": "2020-11-28T20:17:23.765567Z",
     "start_time": "2020-11-28T20:17:14.104055Z"
    },
    "collapsed": true,
    "hidden": true
   },
   "outputs": [
    {
     "name": "stdout",
     "output_type": "stream",
     "text": [
      "Rewarding 1/1 0xe9540071278Dba4374A42a84B48c5e230328AeF7\n",
      "TX hash: 0xb1cee719715c454467106ffc2c6b73c6234b74f7b5486bf84c336fb49b70e618\n",
      "AttributeDict({'blockHash': HexBytes('0xffb054245778a31764542448d8fb31a865865ad0cadf4a5465ee2f1ac315d557'), 'blockNumber': 22328506, 'contractAddress': None, 'cumulativeGasUsed': 22208, 'from': '0xe9540071278Dba4374A42a84B48c5e230328AeF7', 'gasUsed': 22208, 'logs': [], 'logsBloom': HexBytes('0x00000000000000000000000000000000000000000000000000000000000000000000000000000000000000000000000000000000000000000000000000000000000000000000000000000000000000000000000000000000000000000000000000000000000000000000000000000000000000000000000000000000000000000000000000000000000000000000000000000000000000000000000000000000000000000000000000000000000000000000000000000000000000000000000000000000000000000000000000000000000000000000000000000000000000000000000000000000000000000000000000000000000000000000000000000000'), 'status': 1, 'to': '0xe7b8897D824C78e5C1076023508C43Eace3D2Afc', 'transactionHash': HexBytes('0xb1cee719715c454467106ffc2c6b73c6234b74f7b5486bf84c336fb49b70e618'), 'transactionIndex': 0})\n",
      "SUCCESS writing rewards to SC for campaign 1 tx: 0xb1cee719715c454467106ffc2c6b73c6234b74f7b5486bf84c336fb49b70e618\n",
      "1 record updated\n"
     ]
    }
   ],
   "source": [
    "##############################################################\n",
    "### check confirmation status for all unconfirmed transactions\n",
    "##############################################################\n",
    "\n",
    "# get all unconfirmed txs\n",
    "db = mysql.connect(host=secret['DBHOST'],user=secret['DBUSER'],passwd=secret['DBPASS'],database=secret['DBTABLE'])\n",
    "cursor = db.cursor()\n",
    "query = f'SELECT blockchain_write_tx_hash FROM rewards WHERE blockchain_write_tx_status = 0;'\n",
    "cursor.execute(query)\n",
    "records_txs = cursor.fetchall()\n",
    "cursor.close()\n",
    "db.close()\n",
    "# convert to dataframe\n",
    "txs = []\n",
    "for record in records_txs:\n",
    "    txs.append(record[0])\n",
    "print(f\"DEGBUG: UNCONFIRMED TXS {len(txs)}\")\n",
    "\n",
    "# check tx status and update db if confirmed\n",
    "for tx in txs:\n",
    "    receipt = web3.eth.getTransactionReceipt(tx)\n",
    "    \n",
    "    if receipt['status'] == 1:\n",
    "        # update blockchain_write_time\n",
    "        db = mysql.connect(host=secret['DBHOST'],user=secret['DBUSER'],passwd=secret['DBPASS'],database=secret['DBTABLE'])\n",
    "        cursor = db.cursor()\n",
    "        query = \"UPDATE rewards SET blockchain_write_time=%s, blockchain_write_tx_status=%s, gas_used=%s WHERE campaign_id=%s AND manager_ethereum_address=%s AND twitter_handle=%s;\"\n",
    "        values = (str(datetime.datetime.now()).split('.')[0], 1, receipt['gasUsed'], str(campaign_id), manager_ethereum_address, wallets_users[reward_pending])\n",
    "        cursor.execute(query, values)\n",
    "        db.commit()\n",
    "        print(cursor.rowcount, \"record updated\")\n",
    "        cursor.close()\n",
    "        db.close() \n",
    "    else:\n",
    "        print(f\"ERROR - {tx} receipt status != 1\")\n",
    "        print(receipt)"
   ]
  },
  {
   "cell_type": "markdown",
   "metadata": {
    "heading_collapsed": true
   },
   "source": [
    "# Estimate gas"
   ]
  },
  {
   "cell_type": "code",
   "execution_count": 57,
   "metadata": {
    "ExecuteTime": {
     "end_time": "2020-11-28T08:28:27.411439Z",
     "start_time": "2020-11-28T08:28:27.407628Z"
    },
    "hidden": true
   },
   "outputs": [],
   "source": [
    "contract.address = contract_address"
   ]
  },
  {
   "cell_type": "code",
   "execution_count": 58,
   "metadata": {
    "ExecuteTime": {
     "end_time": "2020-11-28T08:28:31.190721Z",
     "start_time": "2020-11-28T08:28:31.183984Z"
    },
    "hidden": true
   },
   "outputs": [
    {
     "data": {
      "text/plain": [
       "'0xe7b8897D824C78e5C1076023508C43Eace3D2Afc'"
      ]
     },
     "execution_count": 58,
     "metadata": {},
     "output_type": "execute_result"
    }
   ],
   "source": [
    "contract.address"
   ]
  },
  {
   "cell_type": "code",
   "execution_count": 59,
   "metadata": {
    "ExecuteTime": {
     "end_time": "2020-11-28T08:28:33.141254Z",
     "start_time": "2020-11-28T08:28:32.474814Z"
    },
    "hidden": true
   },
   "outputs": [],
   "source": [
    "tx = contract.functions.rewardAddresses(ids_manageraddresses[campaign_id], int(campaign_id), rewards_pending).buildTransaction(\n",
    "    {'gas':3000000, \n",
    "     'gasPrice': web3.toWei('23', 'gwei'),\n",
    "     'from': secret['ETHBACKENDPUBLIC'],\n",
    "     'to': contract_address,\n",
    "     'nonce': web3.eth.getTransactionCount(secret['ETHBACKENDPUBLIC'])\n",
    "    })\n"
   ]
  },
  {
   "cell_type": "code",
   "execution_count": 62,
   "metadata": {
    "ExecuteTime": {
     "end_time": "2020-11-28T08:30:06.187473Z",
     "start_time": "2020-11-28T08:30:06.151218Z"
    },
    "hidden": true
   },
   "outputs": [
    {
     "ename": "AttributeError",
     "evalue": "'dict' object has no attribute 'estimateGas'",
     "output_type": "error",
     "traceback": [
      "\u001b[0;31m---------------------------------------------------------------------------\u001b[0m",
      "\u001b[0;31mAttributeError\u001b[0m                            Traceback (most recent call last)",
      "\u001b[0;32m<ipython-input-62-73af88648004>\u001b[0m in \u001b[0;36m<module>\u001b[0;34m\u001b[0m\n\u001b[0;32m----> 1\u001b[0;31m \u001b[0mtx\u001b[0m\u001b[0;34m.\u001b[0m\u001b[0mestimateGas\u001b[0m\u001b[0;34m(\u001b[0m\u001b[0;34m)\u001b[0m\u001b[0;34m\u001b[0m\u001b[0;34m\u001b[0m\u001b[0m\n\u001b[0m",
      "\u001b[0;31mAttributeError\u001b[0m: 'dict' object has no attribute 'estimateGas'"
     ]
    }
   ],
   "source": [
    "tx.estimateGas()"
   ]
  },
  {
   "cell_type": "code",
   "execution_count": 61,
   "metadata": {
    "ExecuteTime": {
     "end_time": "2020-11-28T08:28:51.723047Z",
     "start_time": "2020-11-28T08:28:51.714503Z"
    },
    "hidden": true
   },
   "outputs": [
    {
     "data": {
      "text/plain": [
       "web3._utils.datatypes.Contract"
      ]
     },
     "execution_count": 61,
     "metadata": {},
     "output_type": "execute_result"
    }
   ],
   "source": [
    "contract"
   ]
  },
  {
   "cell_type": "code",
   "execution_count": null,
   "metadata": {
    "hidden": true
   },
   "outputs": [],
   "source": [
    " web3.eth.estimateGas({\n",
    "     \"from\"      : walletbase,       \n",
    "     \"nonce\"     : value, \n",
    "     \"to\"        : contractAddr,     \n",
    "     \"data\"      : data\n",
    "})"
   ]
  },
  {
   "cell_type": "code",
   "execution_count": 70,
   "metadata": {
    "ExecuteTime": {
     "end_time": "2020-11-28T08:41:53.426718Z",
     "start_time": "2020-11-28T08:41:53.421073Z"
    },
    "hidden": true
   },
   "outputs": [
    {
     "data": {
      "text/plain": [
       "'0xe7b8897D824C78e5C1076023508C43Eace3D2Afc'"
      ]
     },
     "execution_count": 70,
     "metadata": {},
     "output_type": "execute_result"
    }
   ],
   "source": [
    "contract.address"
   ]
  },
  {
   "cell_type": "code",
   "execution_count": 71,
   "metadata": {
    "ExecuteTime": {
     "end_time": "2020-11-28T08:44:33.392600Z",
     "start_time": "2020-11-28T08:44:33.034152Z"
    },
    "hidden": true
   },
   "outputs": [
    {
     "ename": "ValueError",
     "evalue": "Cannot set to in estimateGas transaction",
     "output_type": "error",
     "traceback": [
      "\u001b[0;31m---------------------------------------------------------------------------\u001b[0m",
      "\u001b[0;31mValueError\u001b[0m                                Traceback (most recent call last)",
      "\u001b[0;32m<ipython-input-71-41c2f19095b6>\u001b[0m in \u001b[0;36m<module>\u001b[0;34m\u001b[0m\n\u001b[1;32m      3\u001b[0m      \u001b[0;34m'from'\u001b[0m\u001b[0;34m:\u001b[0m \u001b[0msecret\u001b[0m\u001b[0;34m[\u001b[0m\u001b[0;34m'ETHBACKENDPUBLIC'\u001b[0m\u001b[0;34m]\u001b[0m\u001b[0;34m,\u001b[0m\u001b[0;34m\u001b[0m\u001b[0;34m\u001b[0m\u001b[0m\n\u001b[1;32m      4\u001b[0m      \u001b[0;34m'to'\u001b[0m\u001b[0;34m:\u001b[0m \u001b[0mcontract_address\u001b[0m\u001b[0;34m,\u001b[0m\u001b[0;34m\u001b[0m\u001b[0;34m\u001b[0m\u001b[0m\n\u001b[0;32m----> 5\u001b[0;31m      \u001b[0;34m'nonce'\u001b[0m\u001b[0;34m:\u001b[0m \u001b[0mweb3\u001b[0m\u001b[0;34m.\u001b[0m\u001b[0meth\u001b[0m\u001b[0;34m.\u001b[0m\u001b[0mgetTransactionCount\u001b[0m\u001b[0;34m(\u001b[0m\u001b[0msecret\u001b[0m\u001b[0;34m[\u001b[0m\u001b[0;34m'ETHBACKENDPUBLIC'\u001b[0m\u001b[0;34m]\u001b[0m\u001b[0;34m)\u001b[0m\u001b[0;34m\u001b[0m\u001b[0;34m\u001b[0m\u001b[0m\n\u001b[0m\u001b[1;32m      6\u001b[0m     })\n",
      "\u001b[0;32m~/anaconda3/lib/python3.7/site-packages/web3/contract.py\u001b[0m in \u001b[0;36mestimateGas\u001b[0;34m(self, transaction, block_identifier)\u001b[0m\n\u001b[1;32m   1014\u001b[0m             \u001b[0;32mraise\u001b[0m \u001b[0mValueError\u001b[0m\u001b[0;34m(\u001b[0m\u001b[0;34m\"Cannot set data in estimateGas transaction\"\u001b[0m\u001b[0;34m)\u001b[0m\u001b[0;34m\u001b[0m\u001b[0;34m\u001b[0m\u001b[0m\n\u001b[1;32m   1015\u001b[0m         \u001b[0;32mif\u001b[0m \u001b[0;34m'to'\u001b[0m \u001b[0;32min\u001b[0m \u001b[0mestimate_gas_transaction\u001b[0m\u001b[0;34m:\u001b[0m\u001b[0;34m\u001b[0m\u001b[0;34m\u001b[0m\u001b[0m\n\u001b[0;32m-> 1016\u001b[0;31m             \u001b[0;32mraise\u001b[0m \u001b[0mValueError\u001b[0m\u001b[0;34m(\u001b[0m\u001b[0;34m\"Cannot set to in estimateGas transaction\"\u001b[0m\u001b[0;34m)\u001b[0m\u001b[0;34m\u001b[0m\u001b[0;34m\u001b[0m\u001b[0m\n\u001b[0m\u001b[1;32m   1017\u001b[0m \u001b[0;34m\u001b[0m\u001b[0m\n\u001b[1;32m   1018\u001b[0m         \u001b[0;32mif\u001b[0m \u001b[0mself\u001b[0m\u001b[0;34m.\u001b[0m\u001b[0maddress\u001b[0m\u001b[0;34m:\u001b[0m\u001b[0;34m\u001b[0m\u001b[0;34m\u001b[0m\u001b[0m\n",
      "\u001b[0;31mValueError\u001b[0m: Cannot set to in estimateGas transaction"
     ]
    }
   ],
   "source": [
    "contract.functions.rewardAddresses(ids_manageraddresses[campaign_id], int(campaign_id), rewards_pending).estimateGas(    {'gas':3000000, \n",
    "     'gasPrice': web3.toWei('23', 'gwei'),\n",
    "     'from': secret['ETHBACKENDPUBLIC'],\n",
    "     'to': contract_address,\n",
    "     'nonce': web3.eth.getTransactionCount(secret['ETHBACKENDPUBLIC'])\n",
    "    })\n",
    "\n",
    "# https://github.com/ethereum/web3.py/blob/master/web3/contract.py"
   ]
  },
  {
   "cell_type": "code",
   "execution_count": null,
   "metadata": {
    "hidden": true
   },
   "outputs": [],
   "source": []
  },
  {
   "cell_type": "code",
   "execution_count": null,
   "metadata": {
    "hidden": true
   },
   "outputs": [],
   "source": []
  }
 ],
 "metadata": {
  "kernelspec": {
   "display_name": "Python 3",
   "language": "python",
   "name": "python3"
  },
  "language_info": {
   "codemirror_mode": {
    "name": "ipython",
    "version": 3
   },
   "file_extension": ".py",
   "mimetype": "text/x-python",
   "name": "python",
   "nbconvert_exporter": "python",
   "pygments_lexer": "ipython3",
   "version": "3.7.7"
  },
  "varInspector": {
   "cols": {
    "lenName": 16,
    "lenType": 16,
    "lenVar": 40
   },
   "kernels_config": {
    "python": {
     "delete_cmd_postfix": "",
     "delete_cmd_prefix": "del ",
     "library": "var_list.py",
     "varRefreshCmd": "print(var_dic_list())"
    },
    "r": {
     "delete_cmd_postfix": ") ",
     "delete_cmd_prefix": "rm(",
     "library": "var_list.r",
     "varRefreshCmd": "cat(var_dic_list()) "
    }
   },
   "types_to_exclude": [
    "module",
    "function",
    "builtin_function_or_method",
    "instance",
    "_Feature"
   ],
   "window_display": false
  }
 },
 "nbformat": 4,
 "nbformat_minor": 4
}
