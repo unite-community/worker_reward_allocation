{
 "cells": [
  {
   "cell_type": "code",
   "execution_count": 26,
   "metadata": {
    "ExecuteTime": {
     "end_time": "2020-12-02T14:12:07.997877Z",
     "start_time": "2020-12-02T14:12:07.995217Z"
    }
   },
   "outputs": [],
   "source": [
    "campaign_id = 1\n",
    "manager_ethereum_address = '0xD3e9D60e4E4De615124D5239219F32946d10151D'"
   ]
  },
  {
   "cell_type": "code",
   "execution_count": 39,
   "metadata": {
    "ExecuteTime": {
     "end_time": "2020-12-02T15:51:34.101612Z",
     "start_time": "2020-12-02T15:51:34.071965Z"
    }
   },
   "outputs": [
    {
     "name": "stdout",
     "output_type": "stream",
     "text": [
      "Connected to infura: https://kovan.infura.io/v3/1070d8486bc64afdb9c730d6f2850d6c\n"
     ]
    }
   ],
   "source": [
    "import base64\n",
    "import mysql.connector as mysql\n",
    "import datetime\n",
    "import pandas as pd\n",
    "import time\n",
    "import requests\n",
    "\n",
    "import json\n",
    "from web3 import Web3 # https://web3py.readthedocs.io/en/stable/contracts.html#contract-functions\n",
    "\n",
    "#######\n",
    "## INIT\n",
    "#######\n",
    "\n",
    "# load api key\n",
    "secret = {}\n",
    "with open('secret_staging.txt') as f:\n",
    "    lines = f.readlines()\n",
    "    for line in lines:\n",
    "        secret[line.split(\"=\")[0]] = line.split(\"=\")[1].replace(\"\\n\",\"\")\n",
    "\n",
    "# init web3\n",
    "infura_url = secret['INFURAURL1']\n",
    "web3 = Web3(Web3.HTTPProvider(infura_url))\n",
    "print(f\"Connected to infura: {infura_url}\")\n",
    "\n",
    "# load abi\n",
    "with open('abi.json') as f:\n",
    "    abi = json.load(f)\n",
    "\n",
    "# load bytecode\n",
    "with open('bytecode.txt', 'r') as file:\n",
    "    bytecode = file.read().replace('\\n', '')\n",
    "\n",
    "# load contract address\n",
    "contract_address = secret['CONTRACTADDRESS']"
   ]
  },
  {
   "cell_type": "code",
   "execution_count": 40,
   "metadata": {
    "ExecuteTime": {
     "end_time": "2020-12-02T15:51:36.659387Z",
     "start_time": "2020-12-02T15:51:34.719566Z"
    }
   },
   "outputs": [],
   "source": [
    "###########################\n",
    "## GET USER:WALLET MAPPINGS\n",
    "###########################\n",
    "\n",
    "# convert rewards pending twitter handles to wallet ids\n",
    "db = mysql.connect(host=secret['DBHOST'],user=secret['DBUSER'],passwd=secret['DBPASS'],database=secret['DBTABLE'])\n",
    "cursor = db.cursor()\n",
    "query = f'SELECT twitter_handle, ethereum_address FROM users;'\n",
    "cursor.execute(query)\n",
    "records = cursor.fetchall()\n",
    "cursor.close()\n",
    "db.close()\n",
    "# convert to dataframe\n",
    "users = []\n",
    "for record in records:\n",
    "    users.append(dict(zip(['twitter_handle', 'ethereum_address'], record)))\n",
    "# convert to dataframe and lowercase handle\n",
    "users = pd.DataFrame(users)\n",
    "users['twitter_handle'] = users['twitter_handle'].str.lower()\n",
    "\n",
    "# create dicts\n",
    "user_wallets = dict(zip(list(users['twitter_handle']), users['ethereum_address']))\n",
    "wallets_users = dict(zip(list(users['ethereum_address']), users['twitter_handle']))\n",
    "\n",
    "# create list\n",
    "user_list = list(user_wallets.keys())"
   ]
  },
  {
   "cell_type": "code",
   "execution_count": 41,
   "metadata": {
    "ExecuteTime": {
     "end_time": "2020-12-02T15:51:38.438429Z",
     "start_time": "2020-12-02T15:51:36.708338Z"
    }
   },
   "outputs": [
    {
     "name": "stdout",
     "output_type": "stream",
     "text": [
      "DEGBUG: LEN DF 5\n"
     ]
    }
   ],
   "source": [
    "##################################################\n",
    "### get all rewards for this campaign as dataframe\n",
    "##################################################\n",
    "db = mysql.connect(host=secret['DBHOST'],user=secret['DBUSER'],passwd=secret['DBPASS'],database=secret['DBTABLE'])\n",
    "cursor = db.cursor()\n",
    "query = f'SELECT campaign_id, twitter_handle FROM rewards WHERE blockchain_write_time is NULL;'\n",
    "cursor.execute(query)\n",
    "records_rewards = cursor.fetchall()\n",
    "cursor.close()\n",
    "db.close()\n",
    "# convert to dataframe\n",
    "rewards = []\n",
    "for record in records_rewards:\n",
    "    rewards.append(dict(zip(['campaign_id', 'twitter_handle'], record)))\n",
    "df = pd.DataFrame(rewards)\n",
    "print(f\"DEGBUG: LEN DF {len(df)}\")"
   ]
  },
  {
   "cell_type": "code",
   "execution_count": 45,
   "metadata": {
    "ExecuteTime": {
     "end_time": "2020-12-02T15:52:00.171823Z",
     "start_time": "2020-12-02T15:52:00.166608Z"
    }
   },
   "outputs": [],
   "source": [
    "###################################################\n",
    "### GET LIST OF WALLETS TO REWARD FOR THIS CAMPAIGN\n",
    "###################################################\n",
    "\n",
    "# list of handles to reward\n",
    "rewards_pending = list(df[df['campaign_id'] == campaign_id]['twitter_handle'])\n",
    "\n",
    "# convert from twitter handles to wallets\n",
    "rewards_pending = [user_wallets[r] for r in rewards_pending]"
   ]
  },
  {
   "cell_type": "code",
   "execution_count": 46,
   "metadata": {
    "ExecuteTime": {
     "end_time": "2020-12-02T15:52:00.531540Z",
     "start_time": "2020-12-02T15:52:00.527193Z"
    }
   },
   "outputs": [
    {
     "name": "stdout",
     "output_type": "stream",
     "text": [
      "1 rewards_pending\n",
      "['0xAf84db74fa05825B04D3a7eF4cFB98BF1d381C80']\n"
     ]
    }
   ],
   "source": [
    "print(f\"{len(rewards_pending)} rewards_pending\")\n",
    "print(rewards_pending)"
   ]
  },
  {
   "cell_type": "code",
   "execution_count": 8,
   "metadata": {
    "ExecuteTime": {
     "end_time": "2020-12-02T13:11:19.949775Z",
     "start_time": "2020-12-02T13:11:19.946999Z"
    }
   },
   "outputs": [],
   "source": [
    "# # # MANUAL OVERRIDE FOR DEBUGGING - COMMENT OUT BELOW FOR REAL SC WRITE\n",
    "# rewards_pending = []\n",
    "# # # rewards_pending.append('0xAf84db74fa05825B04D3a7eF4cFB98BF1d381C80') # granddanois3\n",
    "# # # rewards_pending.append('0x3708045C19c4D0eaB69289F8BC10D4a1fF4EDc6a') # archipelagoai\n",
    "# # # rewards_pending.append('0xe3f201d68B473c89b3D82eA9c9b0E951DB7345A8') # sebastianstoll0\n",
    "# rewards_pending.append('0xeEE7E6592E597205bd1eE2Bc14F34c2997749379') # alxcnwy"
   ]
  },
  {
   "cell_type": "code",
   "execution_count": 25,
   "metadata": {
    "ExecuteTime": {
     "end_time": "2020-12-02T13:59:13.323023Z",
     "start_time": "2020-12-02T13:59:12.873549Z"
    }
   },
   "outputs": [
    {
     "name": "stdout",
     "output_type": "stream",
     "text": [
      "GasPrice fetched from ethgasstation.info 27\n"
     ]
    }
   ],
   "source": [
    "# get gas price from ethgasstation.info\n",
    "gasPrice = 25\n",
    "try:\n",
    "    headers = {'User-Agent': 'blah',}\n",
    "    response = requests.get('https://ethgasstation.info/json/ethgasAPI.json', headers=headers)\n",
    "    gasPrice = int(response.json()['average']/10)\n",
    "    print(f\"GasPrice fetched from ethgasstation.info {gasPrice}\")\n",
    "except Exception as e:\n",
    "    print(\"ERROR FETCHING GAS PRICE - using default of 25\")\n",
    "    print(e)"
   ]
  },
  {
   "cell_type": "code",
   "execution_count": null,
   "metadata": {},
   "outputs": [],
   "source": []
  },
  {
   "cell_type": "code",
   "execution_count": null,
   "metadata": {},
   "outputs": [],
   "source": []
  },
  {
   "cell_type": "code",
   "execution_count": 9,
   "metadata": {
    "ExecuteTime": {
     "end_time": "2020-12-02T13:14:08.881344Z",
     "start_time": "2020-12-02T13:11:31.579277Z"
    }
   },
   "outputs": [
    {
     "name": "stdout",
     "output_type": "stream",
     "text": [
      "Creating SC tx 1/4 to reward 0xA90Bc0981fCF35aadce00fc3Bc5B3B8d754C0242\n",
      "TX hash: 0x4657ec4e568821851dbb9c911eac14e092b24cd057c5d44260664408d65e9fe7\n",
      "AttributeDict({'blockHash': HexBytes('0x820de7d0bb2af7d20f6e8369e7ca76640bac9c36ffb9e2534117de330e297506'), 'blockNumber': 11373285, 'contractAddress': None, 'cumulativeGasUsed': 8297842, 'from': '0xe9540071278Dba4374A42a84B48c5e230328AeF7', 'gasUsed': 145280, 'logs': [AttributeDict({'address': '0xe7b8897D824C78e5C1076023508C43Eace3D2Afc', 'blockHash': HexBytes('0x820de7d0bb2af7d20f6e8369e7ca76640bac9c36ffb9e2534117de330e297506'), 'blockNumber': 11373285, 'data': '0x000000000000000000000000443dc1c35cf812156c840fe90639836c8a7371b0000000000000000000000000000000000000000000000000000000000003d090', 'logIndex': 214, 'removed': False, 'topics': [HexBytes('0xeeecc2fca78e5b3eaac3c78bc0db4c19d0b8d600a75bbb4911c4a5e458a515ac'), HexBytes('0x000000000000000000000000d3e9d60e4e4de615124d5239219f32946d10151d'), HexBytes('0x0000000000000000000000000000000000000000000000000000000000000001'), HexBytes('0x000000000000000000000000a90bc0981fcf35aadce00fc3bc5b3b8d754c0242')], 'transactionHash': HexBytes('0x4657ec4e568821851dbb9c911eac14e092b24cd057c5d44260664408d65e9fe7'), 'transactionIndex': 126})], 'logsBloom': HexBytes('0x00000000000000000000000000000000000000000000000000000000000000000000000000040000000000000000000000000000000000400000100000040000000000000000000000000000000000000000000000040000000000000000000000000000000000000200000000000000000000000004000000000000000000000000200000000000000000000000000000000000000000000000000000000000000004000400000000000000000000000001000000000000000000000000000000000000000000000000000000000000000000000000000000000000000040000000000000000000000000000000000000000040000000000000000040004000'), 'status': 1, 'to': '0xe7b8897D824C78e5C1076023508C43Eace3D2Afc', 'transactionHash': HexBytes('0x4657ec4e568821851dbb9c911eac14e092b24cd057c5d44260664408d65e9fe7'), 'transactionIndex': 126})\n",
      "LOGGING: b'FW\\xecNV\\x88!\\x85\\x1d\\xbb\\x9c\\x91\\x1e\\xac\\x14\\xe0\\x92\\xb2L\\xd0W\\xc5\\xd4B`fD\\x08\\xd6^\\x9f\\xe7', rewarding: 0xA90Bc0981fCF35aadce00fc3Bc5B3B8d754C0242, manager: 0xD3e9D60e4E4De615124D5239219F32946d10151D, \n",
      "SUCCESS writing rewards to SC for campaign 1 tx: 0x4657ec4e568821851dbb9c911eac14e092b24cd057c5d44260664408d65e9fe7\n",
      "1 record updated\n",
      "Creating SC tx 2/4 to reward 0x9322C6CcbCE9fCC9BDC45fe2830704907330454D\n",
      "TX hash: 0x67056878bd0a28a649f15d1a55c95a5b6522df383a6530bc1712d957ec3b050e\n",
      "AttributeDict({'blockHash': HexBytes('0xc2369ef8ee9a018e409cae96f25a2f5902ebcf51be5dc9a89d6434137f6426de'), 'blockNumber': 11373287, 'contractAddress': None, 'cumulativeGasUsed': 2764752, 'from': '0xe9540071278Dba4374A42a84B48c5e230328AeF7', 'gasUsed': 145280, 'logs': [AttributeDict({'address': '0xe7b8897D824C78e5C1076023508C43Eace3D2Afc', 'blockHash': HexBytes('0xc2369ef8ee9a018e409cae96f25a2f5902ebcf51be5dc9a89d6434137f6426de'), 'blockNumber': 11373287, 'data': '0x000000000000000000000000443dc1c35cf812156c840fe90639836c8a7371b0000000000000000000000000000000000000000000000000000000000003d090', 'logIndex': 33, 'removed': False, 'topics': [HexBytes('0xeeecc2fca78e5b3eaac3c78bc0db4c19d0b8d600a75bbb4911c4a5e458a515ac'), HexBytes('0x000000000000000000000000d3e9d60e4e4de615124d5239219f32946d10151d'), HexBytes('0x0000000000000000000000000000000000000000000000000000000000000001'), HexBytes('0x0000000000000000000000009322c6ccbce9fcc9bdc45fe2830704907330454d')], 'transactionHash': HexBytes('0x67056878bd0a28a649f15d1a55c95a5b6522df383a6530bc1712d957ec3b050e'), 'transactionIndex': 22})], 'logsBloom': HexBytes('0x00000000000000000000000000000000000000000000000000000000000000000000000000040000000000000000000000000000000000000000100000040000000000000000000000000000000000000000000800040000000000000000000000000000000000000200000000000000000100000004000000000000000000000000200000000000000000000000000000000000000000000000000000000000000000000400000000000000000000000001000000000000000000000000000000100000000000000000000000000000000000000000000000000000000040000000000000000000000000000000000000000040000000000000000040000000'), 'status': 1, 'to': '0xe7b8897D824C78e5C1076023508C43Eace3D2Afc', 'transactionHash': HexBytes('0x67056878bd0a28a649f15d1a55c95a5b6522df383a6530bc1712d957ec3b050e'), 'transactionIndex': 22})\n",
      "LOGGING: b'g\\x05hx\\xbd\\n(\\xa6I\\xf1]\\x1aU\\xc9Z[e\"\\xdf8:e0\\xbc\\x17\\x12\\xd9W\\xec;\\x05\\x0e', rewarding: 0x9322C6CcbCE9fCC9BDC45fe2830704907330454D, manager: 0xD3e9D60e4E4De615124D5239219F32946d10151D, \n",
      "SUCCESS writing rewards to SC for campaign 1 tx: 0x67056878bd0a28a649f15d1a55c95a5b6522df383a6530bc1712d957ec3b050e\n",
      "1 record updated\n",
      "Creating SC tx 3/4 to reward 0xf665F2eD351696817898fe0Ace20c5C1Bc3c5796\n",
      "TX hash: 0xb108907beadc274a6010af1589ca949f65b4a65ad6e32529fe565d8ded31708e\n",
      "AttributeDict({'blockHash': HexBytes('0x852c141a2fbca028e7f4eac260b80ead324fb8514df631f1c9e08005e22ca10a'), 'blockNumber': 11373294, 'contractAddress': None, 'cumulativeGasUsed': 11721726, 'from': '0xe9540071278Dba4374A42a84B48c5e230328AeF7', 'gasUsed': 145280, 'logs': [AttributeDict({'address': '0xe7b8897D824C78e5C1076023508C43Eace3D2Afc', 'blockHash': HexBytes('0x852c141a2fbca028e7f4eac260b80ead324fb8514df631f1c9e08005e22ca10a'), 'blockNumber': 11373294, 'data': '0x000000000000000000000000443dc1c35cf812156c840fe90639836c8a7371b0000000000000000000000000000000000000000000000000000000000003d090', 'logIndex': 308, 'removed': False, 'topics': [HexBytes('0xeeecc2fca78e5b3eaac3c78bc0db4c19d0b8d600a75bbb4911c4a5e458a515ac'), HexBytes('0x000000000000000000000000d3e9d60e4e4de615124d5239219f32946d10151d'), HexBytes('0x0000000000000000000000000000000000000000000000000000000000000001'), HexBytes('0x000000000000000000000000f665f2ed351696817898fe0ace20c5c1bc3c5796')], 'transactionHash': HexBytes('0xb108907beadc274a6010af1589ca949f65b4a65ad6e32529fe565d8ded31708e'), 'transactionIndex': 157})], 'logsBloom': HexBytes('0x00000000000000000000000000000000000000000000000000000000000000000000000000040000000000000000000000000000000000000000100000040000000000000000000000000000000000000000000000040000000000000000000000000000000000000200000000000000000000000084400000000000000000000000200000000000000000000000000000000000000080000000000000000000000000000400000000000000000000000001000000000000000000000000000000000000000000000000000000000000000000000000000000000000000040000000000000000000000000000000000000000040000000000000000040000000'), 'status': 1, 'to': '0xe7b8897D824C78e5C1076023508C43Eace3D2Afc', 'transactionHash': HexBytes('0xb108907beadc274a6010af1589ca949f65b4a65ad6e32529fe565d8ded31708e'), 'transactionIndex': 157})\n",
      "LOGGING: b\"\\xb1\\x08\\x90{\\xea\\xdc'J`\\x10\\xaf\\x15\\x89\\xca\\x94\\x9fe\\xb4\\xa6Z\\xd6\\xe3%)\\xfeV]\\x8d\\xed1p\\x8e\", rewarding: 0xf665F2eD351696817898fe0Ace20c5C1Bc3c5796, manager: 0xD3e9D60e4E4De615124D5239219F32946d10151D, \n",
      "SUCCESS writing rewards to SC for campaign 1 tx: 0xb108907beadc274a6010af1589ca949f65b4a65ad6e32529fe565d8ded31708e\n",
      "1 record updated\n",
      "Creating SC tx 4/4 to reward 0xA96E4B58FC36D0ccE0F0cC237dd764B603e7C968\n",
      "TX hash: 0x79fca849e42cd8f2d19c151125061c7c12059281fe039f9383e8372495bad182\n",
      "AttributeDict({'blockHash': HexBytes('0xedfeea4d7702f0decefe61012f30de40fc4c4a9277922c783a07f9c091a27776'), 'blockNumber': 11373300, 'contractAddress': None, 'cumulativeGasUsed': 4094823, 'from': '0xe9540071278Dba4374A42a84B48c5e230328AeF7', 'gasUsed': 145280, 'logs': [AttributeDict({'address': '0xe7b8897D824C78e5C1076023508C43Eace3D2Afc', 'blockHash': HexBytes('0xedfeea4d7702f0decefe61012f30de40fc4c4a9277922c783a07f9c091a27776'), 'blockNumber': 11373300, 'data': '0x000000000000000000000000443dc1c35cf812156c840fe90639836c8a7371b0000000000000000000000000000000000000000000000000000000000003d090', 'logIndex': 96, 'removed': False, 'topics': [HexBytes('0xeeecc2fca78e5b3eaac3c78bc0db4c19d0b8d600a75bbb4911c4a5e458a515ac'), HexBytes('0x000000000000000000000000d3e9d60e4e4de615124d5239219f32946d10151d'), HexBytes('0x0000000000000000000000000000000000000000000000000000000000000001'), HexBytes('0x000000000000000000000000a96e4b58fc36d0cce0f0cc237dd764b603e7c968')], 'transactionHash': HexBytes('0x79fca849e42cd8f2d19c151125061c7c12059281fe039f9383e8372495bad182'), 'transactionIndex': 75})], 'logsBloom': HexBytes('0x00000000000000000000000000000000000000000000000000000000000000008000000000040000000000000000000000000000000000000000100000040000000000000000000000000000000000000000000000040000000000000000000000000000000000000200000000000000000000000804000000000000000000000000200000000000000000000000000000000000000000000000000000000000000000000400000000000000000000000001000000000000000000000000000000000000000000000000000000000000000000000000000000000000000040000000000000000000000000000000000000000040000000000000002040000000'), 'status': 1, 'to': '0xe7b8897D824C78e5C1076023508C43Eace3D2Afc', 'transactionHash': HexBytes('0x79fca849e42cd8f2d19c151125061c7c12059281fe039f9383e8372495bad182'), 'transactionIndex': 75})\n",
      "LOGGING: b'y\\xfc\\xa8I\\xe4,\\xd8\\xf2\\xd1\\x9c\\x15\\x11%\\x06\\x1c|\\x12\\x05\\x92\\x81\\xfe\\x03\\x9f\\x93\\x83\\xe87$\\x95\\xba\\xd1\\x82', rewarding: 0xA96E4B58FC36D0ccE0F0cC237dd764B603e7C968, manager: 0xD3e9D60e4E4De615124D5239219F32946d10151D, \n",
      "SUCCESS writing rewards to SC for campaign 1 tx: 0x79fca849e42cd8f2d19c151125061c7c12059281fe039f9383e8372495bad182\n"
     ]
    },
    {
     "name": "stdout",
     "output_type": "stream",
     "text": [
      "1 record updated\n"
     ]
    }
   ],
   "source": [
    "for i, reward_pending in enumerate(rewards_pending):\n",
    "    print(f\"Creating SC tx {i+1}/{len(rewards_pending)} to reward {reward_pending}\")\n",
    "\n",
    "    ###################################\n",
    "    ### WRITE REWARDS TO SMART CONTRACT\n",
    "    ###################################\n",
    "\n",
    "    contract = web3.eth.contract(abi=abi, bytecode=bytecode)\n",
    "\n",
    "    tx = contract.functions.rewardAddresses(manager_ethereum_address, campaign_id, [reward_pending]).buildTransaction(\n",
    "        {'gas':250000, # 0.0029056 vs 0.00062844 0.000000001 ETH\n",
    "         'gasPrice': web3.toWei('24', 'gwei'),\n",
    "         'from': secret['ETHBACKENDPUBLIC'],\n",
    "         'to': contract_address,\n",
    "         'nonce': web3.eth.getTransactionCount(secret['ETHBACKENDPUBLIC'])\n",
    "        })\n",
    "\n",
    "    signed_txn = web3.eth.account.signTransaction(tx, private_key=secret['ETHBACKENDPRIVATE'])\n",
    "    tx_hash = web3.eth.sendRawTransaction(signed_txn.rawTransaction)\n",
    "    print(f\"TX hash: {tx_hash.hex()}\")\n",
    "    receipt = web3.eth.waitForTransactionReceipt(tx_hash, timeout=600)\n",
    "    print(receipt)\n",
    "\n",
    "    print(f\"LOGGING: {tx_hash}, rewarding: {reward_pending}, manager: {manager_ethereum_address}, \")\n",
    "\n",
    "    if receipt['status'] == 1:\n",
    "        print(f\"SUCCESS writing rewards to SC for campaign {campaign_id} tx: {tx_hash.hex()}\")\n",
    "\n",
    "        # update blockchain_write_time\n",
    "        db = mysql.connect(host=secret['DBHOST'],user=secret['DBUSER'],passwd=secret['DBPASS'],database=secret['DBTABLE'])\n",
    "        cursor = db.cursor()\n",
    "        query = \"UPDATE rewards SET blockchain_write_time=%s, blockchain_write_tx_hash=%s, gas_used=%s, blockchain_write_tx_status=%s WHERE campaign_id=%s AND manager_ethereum_address=%s AND twitter_handle=%s;\"\n",
    "        values = (str(datetime.datetime.now()).split('.')[0], str(tx_hash.hex()), receipt['gasUsed'], 1, str(campaign_id), manager_ethereum_address, wallets_users[reward_pending])\n",
    "        cursor.execute(query, values)\n",
    "        db.commit()\n",
    "        print(cursor.rowcount, \"record updated\")\n",
    "        cursor.close()\n",
    "        db.close()  \n",
    "    else:\n",
    "        print(f\"ERROR FAIL writing rewards to SC for campaign {campaign_id} tx: {tx_hash.hex()}\")"
   ]
  },
  {
   "cell_type": "markdown",
   "metadata": {},
   "source": [
    "# Check confirmation status"
   ]
  },
  {
   "cell_type": "code",
   "execution_count": 59,
   "metadata": {
    "ExecuteTime": {
     "end_time": "2020-11-28T20:17:23.765567Z",
     "start_time": "2020-11-28T20:17:14.104055Z"
    },
    "collapsed": true
   },
   "outputs": [
    {
     "name": "stdout",
     "output_type": "stream",
     "text": [
      "Rewarding 1/1 0xe9540071278Dba4374A42a84B48c5e230328AeF7\n",
      "TX hash: 0xb1cee719715c454467106ffc2c6b73c6234b74f7b5486bf84c336fb49b70e618\n",
      "AttributeDict({'blockHash': HexBytes('0xffb054245778a31764542448d8fb31a865865ad0cadf4a5465ee2f1ac315d557'), 'blockNumber': 22328506, 'contractAddress': None, 'cumulativeGasUsed': 22208, 'from': '0xe9540071278Dba4374A42a84B48c5e230328AeF7', 'gasUsed': 22208, 'logs': [], 'logsBloom': HexBytes('0x00000000000000000000000000000000000000000000000000000000000000000000000000000000000000000000000000000000000000000000000000000000000000000000000000000000000000000000000000000000000000000000000000000000000000000000000000000000000000000000000000000000000000000000000000000000000000000000000000000000000000000000000000000000000000000000000000000000000000000000000000000000000000000000000000000000000000000000000000000000000000000000000000000000000000000000000000000000000000000000000000000000000000000000000000000000'), 'status': 1, 'to': '0xe7b8897D824C78e5C1076023508C43Eace3D2Afc', 'transactionHash': HexBytes('0xb1cee719715c454467106ffc2c6b73c6234b74f7b5486bf84c336fb49b70e618'), 'transactionIndex': 0})\n",
      "SUCCESS writing rewards to SC for campaign 1 tx: 0xb1cee719715c454467106ffc2c6b73c6234b74f7b5486bf84c336fb49b70e618\n",
      "1 record updated\n"
     ]
    }
   ],
   "source": [
    "##############################################################\n",
    "### check confirmation status for all unconfirmed transactions\n",
    "##############################################################\n",
    "\n",
    "# get all unconfirmed txs\n",
    "db = mysql.connect(host=secret['DBHOST'],user=secret['DBUSER'],passwd=secret['DBPASS'],database=secret['DBTABLE'])\n",
    "cursor = db.cursor()\n",
    "query = f'SELECT blockchain_write_tx_hash FROM rewards WHERE blockchain_write_tx_status = 0;'\n",
    "cursor.execute(query)\n",
    "records_txs = cursor.fetchall()\n",
    "cursor.close()\n",
    "db.close()\n",
    "# convert to dataframe\n",
    "txs = []\n",
    "for record in records_txs:\n",
    "    txs.append(record[0])\n",
    "print(f\"DEGBUG: UNCONFIRMED TXS {len(txs)}\")\n",
    "\n",
    "# check tx status and update db if confirmed\n",
    "for tx in txs:\n",
    "    receipt = web3.eth.getTransactionReceipt(tx)\n",
    "    \n",
    "    if receipt['status'] == 1:\n",
    "        # update blockchain_write_time\n",
    "        db = mysql.connect(host=secret['DBHOST'],user=secret['DBUSER'],passwd=secret['DBPASS'],database=secret['DBTABLE'])\n",
    "        cursor = db.cursor()\n",
    "        query = \"UPDATE rewards SET blockchain_write_time=%s, blockchain_write_tx_status=%s, gas_used=%s WHERE campaign_id=%s AND manager_ethereum_address=%s AND twitter_handle=%s;\"\n",
    "        values = (str(datetime.datetime.now()).split('.')[0], 1, receipt['gasUsed'], str(campaign_id), manager_ethereum_address, wallets_users[reward_pending])\n",
    "        cursor.execute(query, values)\n",
    "        db.commit()\n",
    "        print(cursor.rowcount, \"record updated\")\n",
    "        cursor.close()\n",
    "        db.close() \n",
    "    else:\n",
    "        print(f\"ERROR - {tx} receipt status != 1\")\n",
    "        print(receipt)"
   ]
  },
  {
   "cell_type": "markdown",
   "metadata": {
    "heading_collapsed": true
   },
   "source": [
    "# Estimate gas"
   ]
  },
  {
   "cell_type": "code",
   "execution_count": 57,
   "metadata": {
    "ExecuteTime": {
     "end_time": "2020-11-28T08:28:27.411439Z",
     "start_time": "2020-11-28T08:28:27.407628Z"
    },
    "hidden": true
   },
   "outputs": [],
   "source": [
    "contract.address = contract_address"
   ]
  },
  {
   "cell_type": "code",
   "execution_count": 58,
   "metadata": {
    "ExecuteTime": {
     "end_time": "2020-11-28T08:28:31.190721Z",
     "start_time": "2020-11-28T08:28:31.183984Z"
    },
    "hidden": true
   },
   "outputs": [
    {
     "data": {
      "text/plain": [
       "'0xe7b8897D824C78e5C1076023508C43Eace3D2Afc'"
      ]
     },
     "execution_count": 58,
     "metadata": {},
     "output_type": "execute_result"
    }
   ],
   "source": [
    "contract.address"
   ]
  },
  {
   "cell_type": "code",
   "execution_count": 59,
   "metadata": {
    "ExecuteTime": {
     "end_time": "2020-11-28T08:28:33.141254Z",
     "start_time": "2020-11-28T08:28:32.474814Z"
    },
    "hidden": true
   },
   "outputs": [],
   "source": [
    "tx = contract.functions.rewardAddresses(ids_manageraddresses[campaign_id], int(campaign_id), rewards_pending).buildTransaction(\n",
    "    {'gas':3000000, \n",
    "     'gasPrice': web3.toWei('23', 'gwei'),\n",
    "     'from': secret['ETHBACKENDPUBLIC'],\n",
    "     'to': contract_address,\n",
    "     'nonce': web3.eth.getTransactionCount(secret['ETHBACKENDPUBLIC'])\n",
    "    })\n"
   ]
  },
  {
   "cell_type": "code",
   "execution_count": 62,
   "metadata": {
    "ExecuteTime": {
     "end_time": "2020-11-28T08:30:06.187473Z",
     "start_time": "2020-11-28T08:30:06.151218Z"
    },
    "hidden": true
   },
   "outputs": [
    {
     "ename": "AttributeError",
     "evalue": "'dict' object has no attribute 'estimateGas'",
     "output_type": "error",
     "traceback": [
      "\u001b[0;31m---------------------------------------------------------------------------\u001b[0m",
      "\u001b[0;31mAttributeError\u001b[0m                            Traceback (most recent call last)",
      "\u001b[0;32m<ipython-input-62-73af88648004>\u001b[0m in \u001b[0;36m<module>\u001b[0;34m\u001b[0m\n\u001b[0;32m----> 1\u001b[0;31m \u001b[0mtx\u001b[0m\u001b[0;34m.\u001b[0m\u001b[0mestimateGas\u001b[0m\u001b[0;34m(\u001b[0m\u001b[0;34m)\u001b[0m\u001b[0;34m\u001b[0m\u001b[0;34m\u001b[0m\u001b[0m\n\u001b[0m",
      "\u001b[0;31mAttributeError\u001b[0m: 'dict' object has no attribute 'estimateGas'"
     ]
    }
   ],
   "source": [
    "tx.estimateGas()"
   ]
  },
  {
   "cell_type": "code",
   "execution_count": 61,
   "metadata": {
    "ExecuteTime": {
     "end_time": "2020-11-28T08:28:51.723047Z",
     "start_time": "2020-11-28T08:28:51.714503Z"
    },
    "hidden": true
   },
   "outputs": [
    {
     "data": {
      "text/plain": [
       "web3._utils.datatypes.Contract"
      ]
     },
     "execution_count": 61,
     "metadata": {},
     "output_type": "execute_result"
    }
   ],
   "source": [
    "contract"
   ]
  },
  {
   "cell_type": "code",
   "execution_count": null,
   "metadata": {
    "hidden": true
   },
   "outputs": [],
   "source": [
    " web3.eth.estimateGas({\n",
    "     \"from\"      : walletbase,       \n",
    "     \"nonce\"     : value, \n",
    "     \"to\"        : contractAddr,     \n",
    "     \"data\"      : data\n",
    "})"
   ]
  },
  {
   "cell_type": "code",
   "execution_count": 70,
   "metadata": {
    "ExecuteTime": {
     "end_time": "2020-11-28T08:41:53.426718Z",
     "start_time": "2020-11-28T08:41:53.421073Z"
    },
    "hidden": true
   },
   "outputs": [
    {
     "data": {
      "text/plain": [
       "'0xe7b8897D824C78e5C1076023508C43Eace3D2Afc'"
      ]
     },
     "execution_count": 70,
     "metadata": {},
     "output_type": "execute_result"
    }
   ],
   "source": [
    "contract.address"
   ]
  },
  {
   "cell_type": "code",
   "execution_count": 71,
   "metadata": {
    "ExecuteTime": {
     "end_time": "2020-11-28T08:44:33.392600Z",
     "start_time": "2020-11-28T08:44:33.034152Z"
    },
    "hidden": true
   },
   "outputs": [
    {
     "ename": "ValueError",
     "evalue": "Cannot set to in estimateGas transaction",
     "output_type": "error",
     "traceback": [
      "\u001b[0;31m---------------------------------------------------------------------------\u001b[0m",
      "\u001b[0;31mValueError\u001b[0m                                Traceback (most recent call last)",
      "\u001b[0;32m<ipython-input-71-41c2f19095b6>\u001b[0m in \u001b[0;36m<module>\u001b[0;34m\u001b[0m\n\u001b[1;32m      3\u001b[0m      \u001b[0;34m'from'\u001b[0m\u001b[0;34m:\u001b[0m \u001b[0msecret\u001b[0m\u001b[0;34m[\u001b[0m\u001b[0;34m'ETHBACKENDPUBLIC'\u001b[0m\u001b[0;34m]\u001b[0m\u001b[0;34m,\u001b[0m\u001b[0;34m\u001b[0m\u001b[0;34m\u001b[0m\u001b[0m\n\u001b[1;32m      4\u001b[0m      \u001b[0;34m'to'\u001b[0m\u001b[0;34m:\u001b[0m \u001b[0mcontract_address\u001b[0m\u001b[0;34m,\u001b[0m\u001b[0;34m\u001b[0m\u001b[0;34m\u001b[0m\u001b[0m\n\u001b[0;32m----> 5\u001b[0;31m      \u001b[0;34m'nonce'\u001b[0m\u001b[0;34m:\u001b[0m \u001b[0mweb3\u001b[0m\u001b[0;34m.\u001b[0m\u001b[0meth\u001b[0m\u001b[0;34m.\u001b[0m\u001b[0mgetTransactionCount\u001b[0m\u001b[0;34m(\u001b[0m\u001b[0msecret\u001b[0m\u001b[0;34m[\u001b[0m\u001b[0;34m'ETHBACKENDPUBLIC'\u001b[0m\u001b[0;34m]\u001b[0m\u001b[0;34m)\u001b[0m\u001b[0;34m\u001b[0m\u001b[0;34m\u001b[0m\u001b[0m\n\u001b[0m\u001b[1;32m      6\u001b[0m     })\n",
      "\u001b[0;32m~/anaconda3/lib/python3.7/site-packages/web3/contract.py\u001b[0m in \u001b[0;36mestimateGas\u001b[0;34m(self, transaction, block_identifier)\u001b[0m\n\u001b[1;32m   1014\u001b[0m             \u001b[0;32mraise\u001b[0m \u001b[0mValueError\u001b[0m\u001b[0;34m(\u001b[0m\u001b[0;34m\"Cannot set data in estimateGas transaction\"\u001b[0m\u001b[0;34m)\u001b[0m\u001b[0;34m\u001b[0m\u001b[0;34m\u001b[0m\u001b[0m\n\u001b[1;32m   1015\u001b[0m         \u001b[0;32mif\u001b[0m \u001b[0;34m'to'\u001b[0m \u001b[0;32min\u001b[0m \u001b[0mestimate_gas_transaction\u001b[0m\u001b[0;34m:\u001b[0m\u001b[0;34m\u001b[0m\u001b[0;34m\u001b[0m\u001b[0m\n\u001b[0;32m-> 1016\u001b[0;31m             \u001b[0;32mraise\u001b[0m \u001b[0mValueError\u001b[0m\u001b[0;34m(\u001b[0m\u001b[0;34m\"Cannot set to in estimateGas transaction\"\u001b[0m\u001b[0;34m)\u001b[0m\u001b[0;34m\u001b[0m\u001b[0;34m\u001b[0m\u001b[0m\n\u001b[0m\u001b[1;32m   1017\u001b[0m \u001b[0;34m\u001b[0m\u001b[0m\n\u001b[1;32m   1018\u001b[0m         \u001b[0;32mif\u001b[0m \u001b[0mself\u001b[0m\u001b[0;34m.\u001b[0m\u001b[0maddress\u001b[0m\u001b[0;34m:\u001b[0m\u001b[0;34m\u001b[0m\u001b[0;34m\u001b[0m\u001b[0m\n",
      "\u001b[0;31mValueError\u001b[0m: Cannot set to in estimateGas transaction"
     ]
    }
   ],
   "source": [
    "contract.functions.rewardAddresses(ids_manageraddresses[campaign_id], int(campaign_id), rewards_pending).estimateGas(    {'gas':3000000, \n",
    "     'gasPrice': web3.toWei('23', 'gwei'),\n",
    "     'from': secret['ETHBACKENDPUBLIC'],\n",
    "     'to': contract_address,\n",
    "     'nonce': web3.eth.getTransactionCount(secret['ETHBACKENDPUBLIC'])\n",
    "    })\n",
    "\n",
    "# https://github.com/ethereum/web3.py/blob/master/web3/contract.py"
   ]
  },
  {
   "cell_type": "code",
   "execution_count": null,
   "metadata": {
    "hidden": true
   },
   "outputs": [],
   "source": []
  },
  {
   "cell_type": "code",
   "execution_count": null,
   "metadata": {
    "hidden": true
   },
   "outputs": [],
   "source": []
  }
 ],
 "metadata": {
  "kernelspec": {
   "display_name": "Python 3",
   "language": "python",
   "name": "python3"
  },
  "language_info": {
   "codemirror_mode": {
    "name": "ipython",
    "version": 3
   },
   "file_extension": ".py",
   "mimetype": "text/x-python",
   "name": "python",
   "nbconvert_exporter": "python",
   "pygments_lexer": "ipython3",
   "version": "3.7.7"
  },
  "varInspector": {
   "cols": {
    "lenName": 16,
    "lenType": 16,
    "lenVar": 40
   },
   "kernels_config": {
    "python": {
     "delete_cmd_postfix": "",
     "delete_cmd_prefix": "del ",
     "library": "var_list.py",
     "varRefreshCmd": "print(var_dic_list())"
    },
    "r": {
     "delete_cmd_postfix": ") ",
     "delete_cmd_prefix": "rm(",
     "library": "var_list.r",
     "varRefreshCmd": "cat(var_dic_list()) "
    }
   },
   "types_to_exclude": [
    "module",
    "function",
    "builtin_function_or_method",
    "instance",
    "_Feature"
   ],
   "window_display": false
  }
 },
 "nbformat": 4,
 "nbformat_minor": 4
}
